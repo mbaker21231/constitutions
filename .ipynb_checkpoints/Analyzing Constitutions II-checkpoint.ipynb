{
 "cells": [
  {
   "cell_type": "markdown",
   "metadata": {},
   "source": [
    "## More on Analyzing Constitutions\n",
    "\n",
    "In the previous workbook, we didn't get very far with our analysis. A reason for this is that we did not attempt to break down the constitutions very seriously. They have a definite structure, so we should take that into account and see where it gets us. Accordingly:"
   ]
  },
  {
   "cell_type": "code",
   "execution_count": 1,
   "metadata": {
    "collapsed": false
   },
   "outputs": [],
   "source": [
    "import os\n",
    "\n",
    "import numpy as np\n",
    "import pandas as pd"
   ]
  },
  {
   "cell_type": "markdown",
   "metadata": {},
   "source": [
    "We select a file randomly, just to look at its structure. So:"
   ]
  },
  {
   "cell_type": "code",
   "execution_count": 7,
   "metadata": {
    "collapsed": false
   },
   "outputs": [
    {
     "name": "stdout",
     "output_type": "stream",
     "text": [
      "FL1968%20_final_parts_0.txt\n"
     ]
    }
   ],
   "source": [
    "filelist = os.listdir()\n",
    "file     = filelist[38]\n",
    "print(file)"
   ]
  },
  {
   "cell_type": "markdown",
   "metadata": {},
   "source": [
    "Let's read in the file line by line and make a list out of the non-blank components of the list."
   ]
  },
  {
   "cell_type": "code",
   "execution_count": 8,
   "metadata": {
    "collapsed": true
   },
   "outputs": [],
   "source": [
    "with open(file) as f:\n",
    "    content = f.readlines()\n",
    "    \n",
    "content = [x.strip() for x in content]\n",
    "content = list(filter(None, content))"
   ]
  },
  {
   "cell_type": "code",
   "execution_count": 10,
   "metadata": {
    "collapsed": false
   },
   "outputs": [
    {
     "data": {
      "text/plain": [
       "8246"
      ]
     },
     "execution_count": 10,
     "metadata": {},
     "output_type": "execute_result"
    }
   ],
   "source": [
    "len(content)"
   ]
  },
  {
   "cell_type": "markdown",
   "metadata": {},
   "source": [
    "We see that we have these definitive markers for the beginning and end of certain things. So, ASTART marks the beginning of an article, and AEND marks the end of an article. We also can add in beginnings and endings for Sections. Anyways:"
   ]
  },
  {
   "cell_type": "code",
   "execution_count": 11,
   "metadata": {
    "collapsed": false
   },
   "outputs": [],
   "source": [
    "artbeg = np.zeros(len(content))\n",
    "artend = np.zeros(len(content))\n",
    "\n",
    "secbeg = np.zeros(len(content))\n",
    "secend = np.zeros(len(content))\n",
    "\n",
    "conbeg = np.zeros(len(content))\n",
    "conend = np.zeros(len(content))\n",
    "\n",
    "count = 0\n",
    "\n",
    "for line in content:\n",
    "    if line.find(\"CSTART\") > 0:\n",
    "        conbeg[count] = 1\n",
    "    if line.find(\"CEND\")   > 0:\n",
    "        conend[count] = 1\n",
    "    if line.find(\"ASTART\") > 0:\n",
    "        artbeg[count] = 1\n",
    "    if line.find(\"AEND\")   > 0:\n",
    "        artend[count] = 1\n",
    "    if line.find(\"SSTART\") > 0:\n",
    "        secbeg[count] = 1\n",
    "    if line.find(\"SEND\")   > 0:\n",
    "        secend[count] = 1\n",
    "    count = count + 1"
   ]
  },
  {
   "cell_type": "markdown",
   "metadata": {},
   "source": [
    "So, we now can make a dataframe out of the constitution, for one:"
   ]
  },
  {
   "cell_type": "code",
   "execution_count": 12,
   "metadata": {
    "collapsed": false
   },
   "outputs": [],
   "source": [
    "Foo = pd.DataFrame([content, list(artbeg), list(artend), list(secbeg), list(secend), list(conbeg), list(conend)])"
   ]
  },
  {
   "cell_type": "code",
   "execution_count": 13,
   "metadata": {
    "collapsed": false
   },
   "outputs": [],
   "source": [
    "Foo = Foo.T"
   ]
  },
  {
   "cell_type": "code",
   "execution_count": 21,
   "metadata": {
    "collapsed": false
   },
   "outputs": [
    {
     "data": {
      "text/plain": [
       "0                                 This is ready to go.\n",
       "1                                            JW 1.4.02\n",
       "2              *** CSTART FL 11/05/1968 99/99/9999 ***\n",
       "3    CONSTITUTION OF THE STATE OF FLORIDA AS REVISE...\n",
       "4                        *** ASTART 9001.0 FL 1968 ***\n",
       "5                *** SSTART 001.0 9001.0 0 FL 1968 ***\n",
       "6                                             PREAMBLE\n",
       "7    We, the people of the State of Florida, being ...\n",
       "8    liberty, in order to secure its benefits, perf...\n",
       "9    maintain public order, and guarantee equal civ...\n",
       "Name: 0, dtype: object"
      ]
     },
     "execution_count": 21,
     "metadata": {},
     "output_type": "execute_result"
    }
   ],
   "source": [
    "Foo[0][0:10]"
   ]
  },
  {
   "cell_type": "code",
   "execution_count": 47,
   "metadata": {
    "collapsed": false
   },
   "outputs": [
    {
     "data": {
      "text/plain": [
       "1.0"
      ]
     },
     "execution_count": 47,
     "metadata": {},
     "output_type": "execute_result"
    }
   ],
   "source": [
    "np.sum(conbeg)"
   ]
  },
  {
   "cell_type": "code",
   "execution_count": 48,
   "metadata": {
    "collapsed": false
   },
   "outputs": [
    {
     "data": {
      "text/plain": [
       "1.0"
      ]
     },
     "execution_count": 48,
     "metadata": {},
     "output_type": "execute_result"
    }
   ],
   "source": [
    "np.sum(conend)"
   ]
  },
  {
   "cell_type": "code",
   "execution_count": null,
   "metadata": {
    "collapsed": true
   },
   "outputs": [],
   "source": []
  }
 ],
 "metadata": {
  "kernelspec": {
   "display_name": "Python 3",
   "language": "python",
   "name": "python3"
  },
  "language_info": {
   "codemirror_mode": {
    "name": "ipython",
    "version": 3
   },
   "file_extension": ".py",
   "mimetype": "text/x-python",
   "name": "python",
   "nbconvert_exporter": "python",
   "pygments_lexer": "ipython3",
   "version": "3.4.5"
  }
 },
 "nbformat": 4,
 "nbformat_minor": 2
}
