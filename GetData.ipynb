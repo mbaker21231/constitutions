{
 "cells": [
  {
   "cell_type": "markdown",
   "metadata": {},
   "source": [
    "# Analysis of State Constitutions\n",
    "\n",
    "This project seeks to analyze the nature and length and evolution of state constitutions over time. Important questions:\n",
    "\n",
    "1. How do constitutions change over time? \n",
    "2. Are there any obvious groups of similar constitutions? Have they become more similar or less similar over time? \n",
    "3. Can we find an\n",
    "\n",
    "A first step is downloading all the constitutions from the NBER's State Constitutions Project website (the `url` is below)"
   ]
  },
  {
   "cell_type": "code",
   "execution_count": 1,
   "metadata": {
    "collapsed": false,
    "jupyter": {
     "outputs_hidden": false
    }
   },
   "outputs": [],
   "source": [
    "import urllib, urllib.request\n",
    "from bs4 import BeautifulSoup, SoupStrainer\n",
    "import os\n",
    "import requests\n",
    "import wget\n",
    "import io\n",
    "import re"
   ]
  },
  {
   "cell_type": "code",
   "execution_count": 2,
   "metadata": {
    "collapsed": false,
    "jupyter": {
     "outputs_hidden": false
    }
   },
   "outputs": [
    {
     "name": "stdout",
     "output_type": "stream",
     "text": [
      "/texts/AK1836_final_parts_0.txt\n",
      "/texts/AK1959_final_parts_0.txt\n",
      "/texts/AL1819_final_parts_0.txt\n",
      "/texts/AL1861_final_parts_0.txt\n",
      "/texts/AL1865_final_parts_0.txt\n",
      "/texts/AL1868_final_parts_0.txt\n",
      "/texts/AL1875_final_parts_0.txt\n",
      "/texts/AL1901_001200_final_parts_0.txt\n",
      "/texts/AL1901_201400_final_parts_0.txt\n",
      "/texts/AL1901_401658_final_parts_0.txt\n",
      "/texts/AL1901_final_parts_0.txt\n",
      "/texts/AR1864_final_parts_0.txt\n",
      "/texts/AR1868_final_parts_0.txt\n",
      "/texts/AR1874_final_parts_0.txt\n",
      "/texts/AZ1912_final_parts_0.txt\n",
      "/texts/CO1876_amd_final_parts.txt\n",
      "/texts/CO1876_amd_final_parts_0.txt\n",
      "/texts/CO1876_final_parts_0.txt\n",
      "/texts/CT1662_final_parts_0.txt\n",
      "/texts/CT1818_final_parts_0.txt\n",
      "/texts/CT1955_final_parts_0.txt\n",
      "/texts/CT1965_final_parts_0.txt\n",
      "/texts/DE1776_final_parts_0.txt\n",
      "/texts/DE1792_final_parts_0.txt\n",
      "/texts/DE1831_final_parts_0.txt\n",
      "/texts/DE1897_final_parts_0.txt\n",
      "/texts/FL1838%20_final_parts_0.txt\n",
      "/texts/FL1861_final_parts_0.txt\n",
      "/texts/FL1865_final_parts_0.txt\n",
      "/texts/FL1868_Final_parts_0.txt\n",
      "/texts/FL1885_final_parts_0.txt\n",
      "/texts/FL1968%20_final_parts_0.txt\n",
      "/texts/Hawaii1959_final_parts_0.txt\n",
      "/texts/Hawaii1968_final_parts_0.txt\n",
      "/texts/Hawaii1978_final_parts_0.txt\n",
      "/texts/IA1846_final_parts_0.txt\n",
      "/texts/IA1857_amd_final_parts_0.txt\n",
      "/texts/IA1857_final_parts_0.txt\n",
      "/texts/ID1890_final_parts_0.txt\n",
      "/texts/IL1818_final_parts_0.txt\n",
      "/texts/IL1848_final_parts_0.txt\n",
      "/texts/IL1870_final_parts_0.txt\n",
      "/texts/IL1970_final_parts_0.txt\n",
      "/texts/IN%201816_final_parts_0.txt\n",
      "/texts/IN%201851_final_parts_0.txt\n",
      "/texts/KS1859_amd_final_parts_0.txt\n",
      "/texts/KS1859_final_parts_0.txt\n",
      "/texts/KY1792_final_parts_0.txt\n",
      "/texts/KY1799_final_parts_0.txt\n",
      "/texts/KY1850_final_parts_0.txt\n",
      "/texts/KY1890_final_parts_0.txt\n",
      "/texts/Ky1890amd_final_parts_0.txt\n",
      "/texts/LA1812_final_0.txt\n",
      "/texts/LA1845_final_parts_0.txt\n",
      "/texts/LA1852_final_parts_0.txt\n",
      "/texts/LA1861_final_parts_0.txt\n",
      "/texts/LA1864_final_parts_0.txt\n",
      "/texts/LA1868_final_parts_0.txt\n",
      "/texts/MD1776_final_parts_0.txt\n",
      "/texts/MD1851_final_parts_0.txt\n",
      "/texts/MD1864_final_parts_0.txt\n",
      "/texts/MD1867_amd1_final_parts_0.txt\n",
      "/texts/MD1867_amd2_final_parts_0.txt\n",
      "/texts/MD1867_amd3_final_parts_0.txt\n",
      "/texts/MD1867_final_parts_0.txt\n",
      "/texts/ME1819_amd_final_parts_0.txt\n",
      "/texts/ME1819_final_parts_0.txt\n",
      "/texts/MI1835_final_parts_0.txt\n",
      "/texts/MI1850_amd_final_parts_0.txt\n",
      "/texts/MI1850_final_parts_0.txt\n",
      "/texts/MI1908_final_parts_0.txt\n",
      "/texts/MI1908_final_parts_A.txt\n",
      "/texts/MI1908_final_parts_B.txt\n",
      "/texts/MI1962_amd_final_parts_0.txt\n",
      "/texts/MI1962_final_parts_0.txt\n",
      "/texts/MN1857_amd_final_parts_0.txt\n",
      "/texts/MN1857_final_parts_0.txt\n",
      "/texts/MN1974_amd_final_parts_0.txt\n",
      "/texts/MN1974_final_parts_0.txt\n",
      "/texts/MS1817_final_parts_0.txt\n",
      "/texts/MS1832_final_parts_0.txt\n",
      "/texts/MS1832_final_parts_aaron.txt\n",
      "/texts/MS1861_final_parts_0.txt\n",
      "/texts/MS1868_final_parts_0.txt\n",
      "/texts/MS1890_final_parts_0.txt\n",
      "/texts/MT1889_final_parts_0.txt\n",
      "/texts/MT1973_final_parts_0.txt\n",
      "/texts/NC1776_final_parts_0.txt\n",
      "/texts/NC1868_final_parts_0.txt\n",
      "/texts/NC1971_final_parts_0.txt\n",
      "/texts/ND_1889_final_parts_0.txt\n",
      "/texts/ND_1981_final_parts_0.txt\n",
      "/texts/NH1776_final_parts_0.txt\n",
      "/texts/NH1784_final_parts.txt\n",
      "/texts/NH1792_final_parts_0.txt\n",
      "/texts/NJ1776_final_parts_0.txt\n",
      "/texts/NJ1844_final_parts_0.txt\n",
      "/texts/NJ1947_amd_final_parts_0.txt\n",
      "/texts/NJ1947_final_parts_0.txt\n",
      "/texts/NM1911_final_parts_0.txt\n",
      "/texts/NV1864_amd_final_parts.txt\n",
      "/texts/NV1864_final_parts.txt\n",
      "/texts/NY1777_final_parts_0.txt\n",
      "/texts/NY1821_final_parts_0.txt\n",
      "/texts/NY1846_final_parts_0.txt\n",
      "/texts/NY1894_amd_final_parts_0.txt\n",
      "/texts/NY1894_final_parts_0.txt\n",
      "/texts/NY1938_amd_final_parts1_0.txt\n",
      "/texts/NY1938_amd_final_parts2_0.txt\n",
      "/texts/NY1938_amd_final_parts3_0.txt\n",
      "/texts/NY1938_amd_final_parts4_0.txt\n",
      "/texts/NY1938_final_parts_0.txt\n",
      "/texts/OH1802_final_parts_0.txt\n",
      "/texts/OH1851_final_parts_0.txt\n",
      "/texts/OK1907_amd1_final_parts.txt\n",
      "/texts/OK1907_amd1_final_parts_0.txt\n",
      "/texts/OK1907_amd2_final_parts_0.txt\n",
      "/texts/OK1907_final_parts_0.txt\n",
      "/texts/PA1776_final_parts_0.txt\n",
      "/texts/PA1790_final_parts_0.txt\n",
      "/texts/PA1839_final_parts_0.txt\n",
      "/texts/PA1874_final_parts_0.txt\n",
      "/texts/PA1969_final_parts_0.txt\n",
      "/texts/RI1843_final_parts_0.txt\n",
      "/texts/RI1986_final_parts_0.txt\n",
      "/texts/SC1776_final_parts_0.txt\n",
      "/texts/SC1778_final_parts_0.txt\n",
      "/texts/SC1790_final_parts_0.txt\n",
      "/texts/SC1861_final_parts_0.txt\n",
      "/texts/SC1865_final_parts_0.txt\n",
      "/texts/SC1868_final_parts_0.txt\n",
      "/texts/SC1896_final_parts_0.txt\n",
      "/texts/SD1889_final_parts_0.txt\n",
      "/texts/TX%201866_final_parts_0.txt\n",
      "/texts/TX%201869_final_parts_0.txt\n",
      "/texts/TX%201876_amd_final_parts_0.txt\n",
      "/texts/TX%201876_final_parts_0.txt\n",
      "/texts/TX1845_final_parts_0.txt\n",
      "/texts/UT1895_final_parts_0.txt\n",
      "/texts/wash1889_final_parts_0.txt\n",
      "/texts/WV1861_final_parts_0.txt\n",
      "/texts/wv1872_final_parts_0.txt\n",
      "/texts/WY1889_amd_final_0.txt\n",
      "/texts/WY1889_final_0.txt\n"
     ]
    }
   ],
   "source": [
    "constitutions_url = 'http://www.stateconstitutions.umd.edu/texts/'\n",
    "\n",
    "opener = urllib.request.URLopener({})\n",
    "f = opener.open(constitutions_url)\n",
    "content = f.read()\n",
    "\n",
    "soup = BeautifulSoup(content, \"lxml\")\n",
    "\n",
    "files = []\n",
    "for link in BeautifulSoup(content, \"lxml\",\n",
    "                         parse_only=SoupStrainer('a')):\n",
    "    if link.has_attr('href'):\n",
    "        if len(link['href'])>1:\n",
    "            print(link['href'])\n",
    "            files.append(link['href'])"
   ]
  },
  {
   "cell_type": "markdown",
   "metadata": {},
   "source": [
    "We now have a list of files on the site. Let's see if we can download all these files to a local directory. We can then take a look at the texts and all that stuff."
   ]
  },
  {
   "cell_type": "markdown",
   "metadata": {},
   "source": [
    "If it is not already there, make a directory and use our download function to get all the texts in order."
   ]
  },
  {
   "cell_type": "code",
   "execution_count": 3,
   "metadata": {
    "collapsed": false,
    "jupyter": {
     "outputs_hidden": false
    },
    "scrolled": true
   },
   "outputs": [
    {
     "name": "stderr",
     "output_type": "stream",
     "text": [
      "A subdirectory or file texts already exists.\n"
     ]
    }
   ],
   "source": [
    "!mkdir texts"
   ]
  },
  {
   "cell_type": "code",
   "execution_count": 4,
   "metadata": {
    "collapsed": false,
    "jupyter": {
     "outputs_hidden": false
    }
   },
   "outputs": [],
   "source": [
    "base_url='http://www.stateconstitutions.umd.edu'\n",
    "\n",
    "rejects = []\n",
    "rejectNames = []\n",
    "\n",
    "for file in files:\n",
    "    f = base_url+file\n",
    "    fileName = file.replace('/texts/','')\n",
    "    if os.path.isfile(fileName) == False:\n",
    "        try:\n",
    "            junk = wget.download(f)\n",
    "        except: \n",
    "            rejects.append(f)\n",
    "            rejectNames.append(fileName)"
   ]
  },
  {
   "cell_type": "code",
   "execution_count": 5,
   "metadata": {
    "collapsed": false,
    "jupyter": {
     "outputs_hidden": false
    }
   },
   "outputs": [],
   "source": [
    "for reject in rejects:\n",
    "    rejectname=reject.replace('http://www.stateconstitutions.umd.edu/texts/','')\n",
    "    if os.path.isfile(rejectname) == False:\n",
    "        r = requests.get(reject)\n",
    "        name = reject.replace(base_url+'/texts/','')\n",
    "        with open(name, 'w') as code:\n",
    "            code.write(r.content.decode(\"utf-8\",'ignore'))"
   ]
  },
  {
   "cell_type": "markdown",
   "metadata": {},
   "source": [
    "We now have all the files in the directory. Since we change some names, lets get a list of all these files. "
   ]
  },
  {
   "cell_type": "code",
   "execution_count": 6,
   "metadata": {
    "collapsed": false,
    "jupyter": {
     "outputs_hidden": false
    }
   },
   "outputs": [],
   "source": [
    "fileList = os.listdir()"
   ]
  },
  {
   "cell_type": "code",
   "execution_count": 7,
   "metadata": {
    "collapsed": false,
    "jupyter": {
     "outputs_hidden": false
    }
   },
   "outputs": [
    {
     "data": {
      "text/plain": [
       "'AK1836_final_parts_0.txt'"
      ]
     },
     "execution_count": 7,
     "metadata": {},
     "output_type": "execute_result"
    }
   ],
   "source": [
    "fileList[1]"
   ]
  },
  {
   "cell_type": "code",
   "execution_count": 8,
   "metadata": {
    "collapsed": false,
    "jupyter": {
     "outputs_hidden": false
    }
   },
   "outputs": [],
   "source": [
    "file =open(fileList[1], encoding='cp1252', errors='ignore').read()"
   ]
  },
  {
   "cell_type": "code",
   "execution_count": 9,
   "metadata": {
    "collapsed": false,
    "jupyter": {
     "outputs_hidden": false
    }
   },
   "outputs": [],
   "source": [
    "m = re.search('ARKANSAS', file)\n",
    "file = file[m.start():]"
   ]
  },
  {
   "cell_type": "code",
   "execution_count": 10,
   "metadata": {
    "collapsed": true,
    "jupyter": {
     "outputs_hidden": true
    }
   },
   "outputs": [],
   "source": [
    "file = re.sub('!\\w', ' ', file)"
   ]
  },
  {
   "cell_type": "code",
   "execution_count": 11,
   "metadata": {
    "collapsed": false,
    "jupyter": {
     "outputs_hidden": false
    }
   },
   "outputs": [],
   "source": [
    "words = re.findall('\\w+', file.lower())"
   ]
  },
  {
   "cell_type": "markdown",
   "metadata": {},
   "source": [
    "We still have a lot of crap in these sequences. Let's see if we can get the crap out of there..."
   ]
  },
  {
   "cell_type": "code",
   "execution_count": 12,
   "metadata": {
    "collapsed": false,
    "jupyter": {
     "outputs_hidden": false
    }
   },
   "outputs": [],
   "source": [
    "words = [re.sub('[ìôóðäïòø¼àµ]', ' ', word).strip().split() for word in words]"
   ]
  },
  {
   "cell_type": "markdown",
   "metadata": {},
   "source": [
    "It would also help to have a function that gives us a simple list:"
   ]
  },
  {
   "cell_type": "code",
   "execution_count": 13,
   "metadata": {
    "collapsed": false,
    "jupyter": {
     "outputs_hidden": false
    }
   },
   "outputs": [],
   "source": [
    "def flatten(x):\n",
    "    result = []\n",
    "    for el in x:\n",
    "        if hasattr(el, \"__iter__\") and not isinstance(el, str):\n",
    "            result.extend(flatten(el))\n",
    "        else:\n",
    "            result.append(el)\n",
    "    return result"
   ]
  },
  {
   "cell_type": "code",
   "execution_count": 14,
   "metadata": {
    "collapsed": false,
    "jupyter": {
     "outputs_hidden": false
    }
   },
   "outputs": [],
   "source": [
    "words = flatten(words)"
   ]
  },
  {
   "cell_type": "markdown",
   "metadata": {},
   "source": [
    "Now, it is probably a good idea to look up words that belong in a dictionary. So, we have a dictionary file and we will make good use of it here. "
   ]
  },
  {
   "cell_type": "code",
   "execution_count": 15,
   "metadata": {
    "collapsed": false,
    "jupyter": {
     "outputs_hidden": false
    }
   },
   "outputs": [],
   "source": [
    "dictionaryFile = open('dictionary.txt').read()"
   ]
  },
  {
   "cell_type": "code",
   "execution_count": 16,
   "metadata": {
    "collapsed": false,
    "jupyter": {
     "outputs_hidden": false
    }
   },
   "outputs": [],
   "source": [
    "dictwords = re.findall('\\w+', dictionaryFile.lower())"
   ]
  },
  {
   "cell_type": "code",
   "execution_count": 17,
   "metadata": {
    "collapsed": false,
    "jupyter": {
     "outputs_hidden": false
    }
   },
   "outputs": [
    {
     "data": {
      "text/plain": [
       "45333"
      ]
     },
     "execution_count": 17,
     "metadata": {},
     "output_type": "execute_result"
    }
   ],
   "source": [
    "len(dictwords)"
   ]
  },
  {
   "cell_type": "code",
   "execution_count": 18,
   "metadata": {
    "collapsed": false,
    "jupyter": {
     "outputs_hidden": false
    }
   },
   "outputs": [],
   "source": [
    "keepers = []\n",
    "for i in range(0,len(words)):\n",
    "    if words[i] in dictwords:\n",
    "        keepers.append(words[i])\n",
    "    else:\n",
    "        if i < len(words) -2:    \n",
    "            if (words[i]+words[i+1] in dictwords):\n",
    "                keepers.append(words[i]+words[i+1])"
   ]
  },
  {
   "cell_type": "code",
   "execution_count": 19,
   "metadata": {
    "collapsed": false,
    "jupyter": {
     "outputs_hidden": false
    }
   },
   "outputs": [],
   "source": [
    "import nltk\n",
    "from nltk.corpus import stopwords\n",
    "import collections"
   ]
  },
  {
   "cell_type": "code",
   "execution_count": 20,
   "metadata": {
    "collapsed": false,
    "jupyter": {
     "outputs_hidden": false
    }
   },
   "outputs": [
    {
     "name": "stdout",
     "output_type": "stream",
     "text": [
      "['arkansas', 'ordinance', 'and', 'acceptance', 'compact', 'the', 'general', 'assembly', 'the', 'state', 'arkansas', 'ordained', 'the', 'general', 'assembly', 'the', 'state', 'arkansas', 'virtue', 'the', 'authority', 'vested', 'said', 'general', 'assembly', 'the', 'pro', 'visions', 'the', 'ordinance', 'adopted', 'the', 'convention', 'delegates', 'assembled', 'bled', 'little', 'rock', 'for', 'the', 'purpose', 'forming', 'constitution', 'and', 'system', 'government', 'for', 'said', 'state', 'that', 'the', 'propositions', 'set', 'forth', 'act', 'supplementary', 'the', 'act', 'entitled', 'act', 'for', 'the', 'admission', 'the', 'state', 'arkansas', 'into', 'the', 'union', 'and', 'provide', 'for', 'the', 'due', 'execution', 'the', 'laws', 'the', 'united', 'states', 'within', 'the', 'same', 'and', 'for', 'other', 'purposes', 'and', 'the', 'same', 'are', 'hereby', 'freely', 'accepted', 'ratified', 'and', 'irrevocably', 'confirmed', 'articles', 'compact']\n"
     ]
    }
   ],
   "source": [
    "print(keepers[:100])"
   ]
  },
  {
   "cell_type": "code",
   "execution_count": 21,
   "metadata": {
    "collapsed": false,
    "jupyter": {
     "outputs_hidden": false
    }
   },
   "outputs": [],
   "source": [
    "KeeperText = nltk.Text(keepers)"
   ]
  },
  {
   "cell_type": "code",
   "execution_count": 22,
   "metadata": {
    "collapsed": false,
    "jupyter": {
     "outputs_hidden": false
    }
   },
   "outputs": [
    {
     "name": "stdout",
     "output_type": "stream",
     "text": [
      "general assembly; united states; bylaw law; elect one; one\n",
      "representative; shall elect; compose one; mend art; free white; one\n",
      "senator; supreme court; house representatives; prescribed bylaw; white\n",
      "male; state arkansas; ratified november; shall compose; two\n",
      "representatives; circuit courts; november mend\n"
     ]
    }
   ],
   "source": [
    "KeeperText.collocations()"
   ]
  },
  {
   "cell_type": "code",
   "execution_count": 23,
   "metadata": {
    "collapsed": true,
    "jupyter": {
     "outputs_hidden": true
    }
   },
   "outputs": [],
   "source": [
    "filtered_words = [word for word in keepers if word not in stopwords.words('english')]"
   ]
  },
  {
   "cell_type": "code",
   "execution_count": 24,
   "metadata": {
    "collapsed": false,
    "jupyter": {
     "outputs_hidden": false
    }
   },
   "outputs": [
    {
     "data": {
      "text/plain": [
       "5379"
      ]
     },
     "execution_count": 24,
     "metadata": {},
     "output_type": "execute_result"
    }
   ],
   "source": [
    "len(filtered_words)"
   ]
  },
  {
   "cell_type": "code",
   "execution_count": 25,
   "metadata": {
    "collapsed": false,
    "jupyter": {
     "outputs_hidden": false
    }
   },
   "outputs": [],
   "source": [
    "fdist = nltk.FreqDist(filtered_words)"
   ]
  },
  {
   "cell_type": "code",
   "execution_count": 26,
   "metadata": {
    "collapsed": false,
    "jupyter": {
     "outputs_hidden": false
    }
   },
   "outputs": [
    {
     "data": {
      "text/plain": [
       "[('shall', 428),\n",
       " ('send', 132),\n",
       " ('state', 120),\n",
       " ('may', 88),\n",
       " ('one', 84),\n",
       " ('general', 77),\n",
       " ('county', 72),\n",
       " ('assembly', 66),\n",
       " ('elect', 60),\n",
       " ('law', 53),\n",
       " ('two', 44),\n",
       " ('office', 44),\n",
       " ('governor', 44),\n",
       " ('time', 42),\n",
       " ('house', 39),\n",
       " ('representatives', 38),\n",
       " ('years', 37),\n",
       " ('bylaw', 35),\n",
       " ('elected', 34),\n",
       " ('arkansas', 33),\n",
       " ('court', 32),\n",
       " ('courts', 32),\n",
       " ('states', 30),\n",
       " ('united', 30),\n",
       " ('power', 29),\n",
       " ('counties', 28),\n",
       " ('circuit', 27),\n",
       " ('election', 26),\n",
       " ('every', 25),\n",
       " ('peace', 25),\n",
       " ('representative', 23),\n",
       " ('supreme', 22),\n",
       " ('senator', 21),\n",
       " ('judges', 20),\n",
       " ('constitution', 20),\n",
       " ('term', 20),\n",
       " ('number', 20),\n",
       " ('manner', 20),\n",
       " ('government', 19),\n",
       " ('free', 19)]"
      ]
     },
     "execution_count": 26,
     "metadata": {},
     "output_type": "execute_result"
    }
   ],
   "source": [
    "fdist.most_common(40)"
   ]
  },
  {
   "cell_type": "markdown",
   "metadata": {},
   "source": [
    "So, we have a fairly reliable way of reading in a constitution and cleaning it. What we should do now is create a function that automates the work of doing this somewhat. Actually, a more interesting thing to do might be to take a look at the next file in the list and see how similar it is. "
   ]
  },
  {
   "cell_type": "code",
   "execution_count": 28,
   "metadata": {
    "collapsed": false,
    "jupyter": {
     "outputs_hidden": false
    }
   },
   "outputs": [
    {
     "data": {
      "text/plain": [
       "'AK1959_final_parts_0.txt'"
      ]
     },
     "execution_count": 28,
     "metadata": {},
     "output_type": "execute_result"
    }
   ],
   "source": [
    "fileList[2]"
   ]
  },
  {
   "cell_type": "code",
   "execution_count": 29,
   "metadata": {
    "collapsed": true,
    "jupyter": {
     "outputs_hidden": true
    }
   },
   "outputs": [],
   "source": [
    "file =open(fileList[2], encoding='cp1252', errors='ignore').read()"
   ]
  },
  {
   "cell_type": "code",
   "execution_count": 30,
   "metadata": {
    "collapsed": false,
    "jupyter": {
     "outputs_hidden": false
    }
   },
   "outputs": [
    {
     "data": {
      "text/plain": [
       "'*** CSTART AK 1/3/1959 1/1/2003 ***\\n\\nCONSTITUTION OF ALASKA-1959 \\n\\n*** ASTART 9001.0 AK 1959 ***\\n\\nPreamble\\n\\nWe the people of Alaska, grateful to God and to those who founded our nation and pioneered this\\ngreat land, in order to secure and transmit to succeeding generations our heritage of political,\\ncivil, and religious liberty within the Union of States, do ordain and establish this constitution for\\nthe State of Alaska.\\n\\n.0*** AEND ***\\n*** ASTART 001.0 AK 1959 ***\\n\\nARTICLE I.  Declaration of Rights\\n\\n*** SSTART 001.0 001.0 0 AK 1959 ***\\n\\nSection 1. Inherent Rights. This constitution is dedicated to the principles that all persons have a\\nnatural right to life, liberty, the pursuit of happiness, and the enjoyment of the rewards of their\\nown industry; that all persons are equal and entitled to equal rights, opportunities, and protection\\nunder the law; and that all persons have corresponding obligations to the people and to the State.\\n \\n*** SEND ***\\n*** SSTART 002.0 001.0 0 AK 1959 ***\\n\\nSection 2. Source of Government. All political power is inherent in the people. All government\\noriginates with the people, is founded upon their will only, and is instituted solely for the good of\\nthe people as a whole.\\n \\n*** SEND ***\\n*** SSTART 003.0 001.0 0 AK 1959 ***\\n\\nSection 3. Civil Rights. No person is to be denied the enjoyment of any civil or political right\\nbecause of race, color, creed, or national origin. The legislature shall implement this section.\\n\\n \\n*** SEND ***\\n*** SSTART 004.0 001.0 0 AK 1959 ***\\n\\nSection 4. Freedom of Religion. No law shall be made respecting an establishment of religion, or\\nprohibiting the free exercise thereof.\\n \\n*** SEND ***\\n*** SSTART 005.0 001.0 0 AK 1959 ***\\n\\nSection 5. Freedom of Speech. Every person may freely speak, write, and publish on all subjects,\\nbeing responsible for the abuse of that right.\\n \\n*** SEND ***\\n*** SSTART 006.0 001.0 0 AK 1959 ***\\n\\nSection 6. Assembly; Petition. The right of the people peaceably to assemble, and to petition the\\ngovernment shall never be abridged.\\n \\n*** SEND ***\\n*** SSTART 007.0 001.0 0 AK 1959 ***\\n\\nSection 7. Due Process. No person shall be deprived of life, liberty, or property, without due\\nprocess of law. The right of all persons to fair and just treatment in the course of legislative and\\nexecutive investigations shall not be infringed.\\n \\n*** SEND ***\\n*** SSTART 008.0 001.0 0 AK 1959 ***\\n\\nSection 8. Grand Jury. No person shall be held to answer for a capital, or otherwise infamous\\ncrime, unless on a presentment or indictment of a grand jury, except in cases arising in the armed\\nforces in time of war or public danger. Indictment may be waived by the accused. In that case the\\nprosecution shall be by information. The grand jury shall consist of at least twelve citizens, a\\nmajority of whom concurring may return an indictment. The power of grand juries to investigate\\nand make recommendations concerning the public welfare or safety shall never be suspended.\\n \\n*** SEND ***\\n*** SSTART 009.0 001.0 0 AK 1959 ***\\n\\nSection 9. Jeopardy and Self-incrimination. No person shall be put in jeopardy twice for the same\\noffense. No person shall be compelled in any criminal proceeding to be a witness against himself.\\n \\n*** SEND ***\\n*** SSTART 010.0 001.0 0 AK 1959 ***\\n\\nSection 10. Treason. Treason against the State consists only in levying war against it, or in\\nadhering to its enemies, giving them aid and comfort. No person shall be convicted of treason,\\nunless on the testimony of two witnesses to the same overt act, or on confession in open court.\\n \\n*** SEND ***\\n*** SSTART 011.0 001.0 0 AK 1959 ***\\n\\nSection 11. Rights of Accused. In all criminal prosecutions, the accused shall have the right to a\\nspeedy and public trial, by an impartial jury of twelve, except that the legislature may provide for\\na jury of not more than twelve nor less than six in courts not of record. The accused is entitled to\\nbe informed of the nature and cause of the accusation; to be released on bail, except for capital\\noffenses when the proof is evident or the presumption great; to be confronted with the witnesses\\nagainst him; to have compulsory process for obtaining witnesses in his favor, and to have the\\nassistance of counsel for his defense.\\n \\n*** SEND ***\\n*** SSTART 012.0 001.0 0 AK 1959 ***\\n\\nSection 12. Criminal Administration. Excessive bail shall not be required, nor excessive fines\\nimposed, nor cruel and unusual punishments inflicted. Penal administration shall be based oon\\nthe principle of reformation and the need for protecting the public..0\\n\\n*** SEND ***\\n*** SSTART 013.0 001.0 0 AK 1959 ***\\n\\nSection 13. Habeas Corpus. The privilege of the writ of habeas corpus shall not be suspended,\\nunless when in cases of rebellion or actual or imminent invasion, the public safety requires it..0\\n\\n *** SEND ***\\n*** SSTART 014.0 001.0 0 AK 1959 ***\\n\\nSection 14. Searches and Seizures. The right of the people to be secure in their persons, houses\\nand other property, papers, and effects, against unreasonable searches and seizures, shall not be\\nviolated. No warrants shall issue, but upon probable cause, supported by oath or affirmation, and\\nparticularly describing the place to be searched, and the persons or things to be seized.\\n \\n*** SEND ***\\n*** SSTART 015.0 001.0 0 AK 1959 ***\\n\\nSection 15. Prohibited State Action. No bill of attainder or ex post facto law shall be passed. No\\nlaw impairing the obligation of contracts, and no law making any irrevocable grant of special\\nprivileges or immunities shall be passed. No conviction shall work corruption of blood or\\nforfeiture of estate.\\n \\n*** SEND ***\\n*** SSTART 016.0 001.0 0 AK 1959 ***\\n\\nSection 16. Civil Suits; Trial by Jury. In civil cases where the amount in controversy exceeds two\\nhundred fifty dollars, the right of trial by a jury of twelve is preserved to the same extent as it\\nexisted at common law. The legislature may make provision for a verdict by not less than\\nthree-fourths of the jury and, in courts not of record, may provide for a jury of not less than six or\\nmore than twelve.\\n \\n*** SEND ***\\n*** SSTART 017.0 001.0 0 AK 1959 ***\\n\\nSection 17. Imprisonment for Debt. There shall be no imprisonment for debt. This section does\\nnot prohibit civil arrest of absconding debtors.\\n \\n*** SEND ***\\n*** SSTART 018.0 001.0 0 AK 1959 ***\\n\\nSection 18. Eminent Domain. Private property shall not be taken or damaged for public use\\nwithout just compensation.\\n \\n*** SEND ***\\n*** SSTART 019.0 001.0 0 AK 1959 ***\\n\\nSection 19. Right to Keep and Bear Arms. A well- regulated militia being necessary to the\\nsecurity of a free state, the right of the people to keep and bear arms shall not be infringed. \\n \\n*** SEND ***\\n*** SSTART 020.0 001.0 0 AK 1959 ***\\n\\nSection 20. Quartering Soldiers. No member of the armed forces shall in time of peace be\\nquartered in any house without the consent of the owner or occupant, or in time of war except as\\nprescribed by law. The military shall be in strict subordination to the civil power.\\n \\n*** SEND ***\\n*** SSTART 021.0 001.0 0 AK 1959 ***\\n\\nSection 21. Construction. The enumeration of rights in this constitution shall not impair or deny\\nothers retained by the people.\\n \\n*** SEND ***\\n*** AEND ***\\n*** ASTART 002.0 AK 1959 ***\\n\\nArticle II\\nThe Legislature\\n\\n*** SSTART 001.0 002.0 0 AK 1959 ***\\n          \\nSection 1. Legislative Power; Membership. The legislative power of the State is vested in a\\nlegislature consisting of a senate with a membership of twenty and a house of representatives\\nwith a membership of forty. \\n \\n*** SEND ***\\n*** SSTART 002.0 002.0 0 AK 1959 ***\\n\\nSection 2. Members\\' Qualifications. A member of the legislature shall be a qualified voter who\\nhas been a resident of Alaska for at least three years and of the district from which elected for at\\nleast one year, immediately preceding his filing for office. A senator shall be at least twenty-five\\nyears of age and a representative at least twenty-one years of age. \\n \\n*** SEND ***\\n*** SSTART 003.0 002.0 0 AK 1959 ***\\n\\nSection 3. Election and Terms. Legislators shall be elected at general elections. Their terms begin\\non the fourth Monday of the January following election unless otherwise provided by law. The\\nterm of representatives shall be two years, and the term of senators, four years. One-half of the\\nsenators shall be elected every two years. \\n \\n*** SEND ***\\n*** SSTART 004.0 002.0 0 AK 1959 ***\\n\\nSection 4. Vacancies. A vacancy in the legislature shall be filled for the unexpired term as\\nprovided by law. If no provision is made, the governor shall fill the vacancy by appointment. \\n \\n*** SEND ***\\n*** SSTART 005.0 002.0 0 AK 1959 ***\\n\\nSection 5. Disqualifications. No legislator may hold any other office or position of profit under\\nthe United States or the State. During the term for which elected and for one year thereafter, no\\nlegislator may be nominated, elected, or appointed to any other office or position of profit which\\nhas been created, or the salary or emoluments of which have been increased, while he was a\\nmember. This section shall not prevent any person from seeking or holding the office of\\ngovernor, secretary of state, or member of Congress. This section shall not apply to employment\\nby or election to a constitutional convention.\\n \\n*** SEND ***\\n*** SSTART 006.0 002.0 0 AK 1959 ***\\n\\nSection 6. Immunities. Legislators may not be held to answer before any other tribunal for any\\nstatement made in the exercise of their legislative duties while the legislature is in session.\\nMembers attending, going to, or returning from legislative sessions are not subject to civil\\nprocess and are privileged from arrest except for felony or breach of the peace. \\n \\n*** SEND ***\\n*** SSTART 007.0 002.0 0 AK 1959 ***\\n\\nSection 7. Salary and Expenses. Legislators shall receive annual salaries. They may receive a per\\ndiem allowance for expenses while in session and are entitled to travel expenses going to and\\nfrom sessions. Presiding officers may receive additional compensation.\\n \\n*** SEND ***\\n*** SSTART 008.0 002.0 0 AK 1959 ***\\n\\nSection 8. Regular Sessions. The legislature shall convene in regular session each year on the\\nfourth Monday in January, but the month and day may be changed by law.\\n\\n*** SEND ***\\n*** SSTART 009.0 002.0 0 AK 1959 ***\\n\\nSection 9. Special Sessions. Special sessions may be called by the governor or by vote of\\ntwo-thirds of the legislators. The vote may be conducted by the legislative council or as\\nprescribed by law. At special sessions called by the governor, legislation shall be limited to\\nsubjects designated in his proclamation calling the session or to subjects presented by him.\\nSpecial sessions are limited to thirty days.\\n\\n*** SEND ***\\n*** SSTART 010.0 002.0 0 AK 1959 ***\\n\\nSection 10. Adjournment. Neither house may adjourn or recess for longer than three days unless\\nthe other concurs. If the two houses cannot agree on the time of adjournment and either house\\ncertifies the disagreement to the governor, he may adjourn the legislature. \\n \\n*** SEND ***\\n*** SSTART 011.0 002.0 0 AK 1959 ***\\n\\nSection 11. Interim Committees. There shall be a legislative council, and the legislature may\\nestablish other interim committees. The council and other interim committees may meet between\\nlegislative sessions. They may perform duties and employ personnel as provided by the\\nlegislature. Their members may receive an allowance for expenses while performing their duties. \\n \\n*** SEND ***\\n*** SSTART 012.0 002.0 0 AK 1959 ***\\n\\nSection 12. Rules. The houses of each legislature shall adopt uniform rules of procedure. Each\\nhouse may choose its officers and employees. Each is the judge of the election and qualifications\\nof its members and may expel a member with the concurrence of two-thirds of its members. Each\\nshall keep a journal of its proceedings. A majority of the membership of each house constitutes a\\nquorum to do business, but a smaller number may adjourn from day to day and may compel\\nattendance of absent members. The legislature shall regulate lobbying. \\n \\n*** SEND ***\\n*** SSTART 013.0 002.0 0 AK 1959 ***\\n.0Section 13. Form of Bills. Every bill shall be confined to one subject unless it is an\\nappropriation bill or one codifying, revising, or rearranging existing laws. Bills for appropriations\\nshall be confined to appropriations. The subject of each bill shall be expressed in the title. The\\nenacting clause shall be: \"Be it enacted by the Legislature of the State of Alaska.\" \\n \\n*** SEND ***\\n*** SSTART 014.0 002.0 0 AK 1959 ***\\n\\nSection 14. Passage of Bills. The legislature shall establish the procedure for enactment of bills\\ninto law. No bill may become law unless it has passed three readings in each house on three\\nseparate days, except that any bill may be advanced from second to third reading on the same day\\nby concurrence of three-fourths of the house considering it. No bill may become law without an\\naffirmative vote of a majority of the membership of each house. The yeas and nays on final\\npassage shall be entered in the journal. \\n \\n*** SEND ***\\n*** SSTART 015.0 002.0 0 AK 1959 ***\\n\\nSection 15. Veto. The governor may veto bills passed by the legislature. He may, by veto, strike\\nor reduce items in appropriation bills. He shall return any vetoed bill, with a statement of his\\nobjections, to the house of origin. \\n \\n*** SEND ***\\n*** SSTART 016.0 002.0 0 AK 1959 ***\\n\\nSection 16. Action upon Veto.   Upon receipt of a veto message, the legislature shall meet\\nimmediately in joint session and reconsider passage of the vetoed bill or item.  Bills to raise\\nrevenue and appropriation bills or items, although vetoed, become law by an affirmative vote of\\nthree-fourths of the membership of the legislature.  Bills vetoed after the adjournment of the first\\nregular session of the legislature shall be reconsidered by the legislature sitting as one body no\\nlater than the fifth day of the next regular or special session of that legislature. \\n \\n*** SEND ***\\n\\n*** SSTART 017.0 002.0 0 AK 1959 ***\\n\\nSection 17. Bills Not Signed. A bill becomes law if, while the legislature is in session, the\\ngovernor neither signs nor vetoes it within fifteen days, Sundays excepted, after its delivery to\\nhim. If the legislature is not in session and the governor neither signs nor vetoes a bill within\\ntwenty days, Sundays excepted, after its delivery to him, the bill becomes law. \\n \\n*** SEND ***\\n*** SSTART 018.0 002.0 0 AK 1959 ***\\n\\nSection 18. Effective Date. Laws passed by the legislature become effective ninety days after\\nenactment. The legislature may, by concurrence of two-thirds of the membership of each house,\\nprovide for another effective date. \\n \\n*** SEND ***\\n*** SSTART 019.0 002.0 0 AK 1959 ***\\n\\nSection 19. Local or Special Acts. The legislature shall pass no local or special act if a general act\\ncan be made applicable. Whether a general act can be made applicable shall be subject to judicial\\ndetermination. Local acts necessitating appropriations by a political subdivision may not become\\neffective unless approved by a majority of the qualified voters voting thereon in the subdivision\\naffected. \\n \\n*** SEND ***\\n*** SSTART 020.0 002.0 0 AK 1959 ***\\n\\nSection 20. Impeachment. All civil officers of the State are subject to impeachment by the\\nlegislature. Impeachment shall originate in the senate and must be approved by a two-thirds vote\\nof its members. The motion for impeachment shall list fully the basis for the proceeding. Trial on\\nimpeachment shall be conducted by the house of representatives. A supreme court justice\\ndesignated by the court shall preside at the trial. Concurrence of two-thirds of the members of the\\nhouse is required for a judgment of impeachment. The judgment may not extend beyond removal\\nfrom office, but shall not prevent proceedings in the courts on the same or related charges. \\n \\n*** SEND ***\\n*** SSTART 021.0 002.0 0 AK 1959 ***\\n\\nSection 21. Suits Against the State. The legislature shall establish procedures for suits against the\\nState. \\n \\n*** SEND ***\\n*** AEND ***\\n*** ASTART 003.0 AK 1959 ***\\nArticle III \\nThe Executive\\n\\n*** SSTART 001.0 003.0 0 AK 1959 ***\\n\\nSection 1. Executive Power. The executive power of the State is vested in the governor. \\n \\n*** SEND ***\\n\\n*** SSTART 002.0 003.0 0 AK 1959 ***\\n\\nSection 2. Governor\\'s Qualifications. The governor shall be at least thirty years of age and a\\nqualified voter of the State. He shall have been a resident of Alaska at least seven years\\nimmediately preceding his filing for office, and he shall have been a citizen of the United States\\nfor at least seven years. \\n \\n*** SEND ***\\n*** SSTART 003.0 003.0 0 AK 1959 ***\\n\\nSection 3. Election. The governor shall be chosen by the qualified voters of the State at a general\\nelection. The candidate receiving the greatest number of votes shall be governor. \\n \\n*** SEND ***\\n*** SSTART 004.0 003.0 0 AK 1959 ***\\n\\nSection 4. Term of Office. The term of office of the governor is four years, beginning at noon on\\nthe first Monday in December following his election and ending at noon on the first Monday in\\nDecember four years later. \\n \\n*** SEND ***\\n*** SSTART 005.0 003.0 0 AK 1959 ***\\n\\nSection 5. Limit on Tenure. No person who has been elected governor for two full successive\\nterms shall be again eligible to hold that office until one full term has intervened. \\n \\n*** SEND ***\\n*** SSTART 006.0 003.0 0 AK 1959 ***\\n\\nSection 6. Dual Office Holding. The governor shall not hold any other office or position of profit\\nunder the United States, the State, or its political subdivisions. \\n \\n*** SEND ***\\n*** SSTART 007.0 003.0 0 AK 1959 ***\\n\\nSection 7. Secretary of State  Duties. There shall be a secretary of state. He shall have the same\\nqualifications as the governor and serve for the same term. He shall perform such duties as may\\nbe prescribed by law and as may be delegated to him by the governor. \\n\\n*** SEND ***\\n*** SSTART 008.0 003.0 0 AK 1959 ***\\n\\nSection 8. Same - Election. The secretary of state shall be nominated in the manner provided by\\nlaw for nominating candidates for other elective offices. In the general election the votes cast for\\na candidate for governor shall be considered as cast also for the candidate for secretary of state\\nrunning jointly with him. The candidate whose name appears on the ballot jointly with that of the\\nsuccessful candidate for governor shall be elected secretary of state. \\n \\n*** SEND ***\\n*** SSTART 009.0 003.0 0 AK 1959 ***\\n\\nSection 9. Acting Governor. In case of the temporary absence of the governor from office, the\\nsecretary of state shall serve as acting governor. \\n\\n*** SEND ***\\n*** SSTART 010.0 003.0 0 AK 1959 ***\\n\\nSection 10. Succession; Failure to Qualify. If the governor-elect dies, resigns, or is disqualified,\\nthe secretary of state elected with him shall succeed to the office of governor for the full term. If\\nthe governor- elect fails to assume office for any other reason, the secretary of state elected with\\nhim shall serve as acting governor, and shall succeed to the office if the governor-elect does not\\nassume his office within six months of the beginning of the term. \\n\\n*** SEND ***\\n*** SSTART 011.0 003.0 0 AK 1959 ***\\n\\nSection 11. Vacancy. In case of a vacancy in the office of governor for any reason, the secretary\\nof state shall succeed to the office for the remainder of the term.\\n \\n*** SEND ***\\n*** SSTART 012.0 003.0 0 AK 1959 ***\\n\\nSection 12. Absence. Whenever for a period of six months, a governor has been continuously\\nabsent from office or has been unable to discharge the duties of his office by reason of mental or\\nphysical disability, the office shall be deemed vacant. The procedure for determining absence and\\ndisability shall be prescribed by law. \\n \\n*** SEND ***\\n*** SSTART 013.0 003.0 0 AK 1959 ***\\n\\nSection 13. Further Succession. Provision shall be made by law for succession to the office of\\ngovernor and for an acting governor in the event that the secretary of state is unable to succeed to\\nthe office or act as governor. No election of a secretary of state shall be held except at the time of\\nelecting a governor. \\n\\n*** SEND ***\\n*** SSTART 014.0 003.0 0 AK 1959 ***\\n\\nSection 14. Title and Authority of Successor. When the secretary of state succeeds to the office\\nof governor, he shall have the title, powers, duties and emoluments of that office. \\n \\n*** SEND ***\\n*** SSTART 015.0 003.0 0 AK 1959 ***\\n\\nSection 15. Compensation. The compensation of the governor and the secretary of state shall be\\nprescribed by law and shall not be diminished during their term of office, unless by general law\\napplying to all salaried officers of the State. \\n \\n*** SEND ***\\n*** SSTART 016.0 003.0 0 AK 1959 ***\\n\\nSection 16. Governor\\'s Authority. The governor shall be responsible for the faithful execution of\\nthe laws. He may, by appropriate court action or proceeding brought in the name of the State,\\nenforce compliance with any constitutional or legislative mandate, or restrain violation of any\\nconstitutional or legislative power, duty, or right by any officer, department, or agency of the\\nState or any of its political subdivisions. This authority shall not be construed to authorize any\\naction or proceeding against the legislature. \\n \\n*** SEND ***\\n*** SSTART 017.0 003.0 0 AK 1959 ***\\n\\nSection 17. Convening Legislature. Whenever the governor considers it in the public interest, he\\nmay convene the legislature, either house, or the two houses in joint session. \\n \\n*** SEND ***\\n*** SSTART 018.0 003.0 0 AK 1959 ***\\n\\nSection 18. Messages to Legislature. The governor shall, at the beginning of each session, and\\nmay at other times, give the legislature information concerning the affairs of the State and\\nrecommend the measures he considers necessary. \\n \\n*** SEND ***\\n*** SSTART 019.0 003.0 0 AK 1959 ***\\n\\nSection 19. Military Authority. The governor is commander-in-chief of the armed forces of the\\nState. He may call out these forces to execute the laws, suppress or prevent insurrection or\\nlawless violence, or repel invasion. The governor, as provided by law, shall appoint all general\\nand flag officers of the armed forces of the State, subject to confirmation by a majority of the\\nmembers of the legislature in joint session. He shall appoint and commission all other officers. \\n \\n*** SEND ***\\n*** SSTART 020.0 003.0 0 AK 1959 ***\\n\\nSection 20. Martial Law. The governor may proclaim martial law when the public safety requires\\nit in case of rebellion or actual or imminent invasion. Martial law shall not continue for longer\\nthan twenty days without the approval of a majority of the members of the legislature in joint\\nsession. \\n \\n*** SEND ***\\n*** SSTART 021.0 003.0 0 AK 1959 ***\\n\\nSection 21. Executive Clemency. Subject to procedure prescribed by law, the governor may grant\\npardons, commutations, and reprieves, and may suspend and remit fines and forfeitures. This\\npower shall not extend to impeachment. A parole system shall be provided by law. \\n \\n*** SEND ***\\n*** SSTART 022.0 003.0 0 AK 1959 ***\\n\\nSection 22. Executive Branch. All executive and administrative offices, departments, and\\nagencies of the state government and their respective functions, powers, and duties shall be\\nallocated by law among and within not more than twenty principal departments, so as to group\\nthem as far as practicable according to major purposes. Regulatory, quasi-judicial, and temporary\\nagencies may be established by law and need not be allocated within a principal department. \\n \\n*** SEND ***\\n*** SSTART 023.0 003.0 0 AK 1959 ***\\n\\nSection 23. Reorganization. The governor may make changes in the organization of the executive\\nbranch or in the assignment of functions among its units which he considers necessary for\\nefficient administration. Where these changes require the force of law, they shall be set forth in\\nexecutive orders. The legislature shall have sixty days of a regular session, or a full session if of\\nshorter duration, to disapprove these executive orders. Unless disapproved by resolution\\nconcurred in by a majority of the members in joint session, these orders become effective at a\\ndate thereafter to be designated by the governor. \\n \\n*** SEND ***\\n*** SSTART 024.0 003.0 0 AK 1959 ***\\n\\nSection 24. Supervision. Each principal department shall be under the supervision of the\\ngovernor. \\n \\n*** SEND ***\\n*** SSTART 025.0 003.0 0 AK 1959 ***\\n\\nSection 25. Department Heads. The head of each principal department shall be a single executive\\nunless otherwise provided by law. He shall be appointed by the governor, subject to confirmation\\nby a majority of the members of the legislature in joint session, and shall serve at the pleasure of\\nthe governor, except as otherwise provided in this article with respect to the secretary of state.\\nThe heads of all principal departments shall be citizens of the United States. \\n \\n*** SEND ***\\n*** SSTART 026.0 003.0 0 AK 1959 ***\\n\\nSection 26. Boards and Commissions. When a board or commission is at the head of a principal\\ndepartment or a regulatory or quasi-judicial agency, its members shall be appointed by the\\ngovernor, subject to confirmation by a majority of the members of the legislature in joint session,\\nand may be removed as provided by law. They shall be citizens of the United States. The board\\nor commission may appoint a principal executive officer when authorized by law, but the\\nappointment shall be subject to the approval of the governor. \\n \\n*** SEND ***\\n*** SSTART 027.0 003.0 0 AK 1959 ***\\n\\nSection 27. Recess Appointments. The governor may make appointments to fill vacancies\\noccurring during a recess of the legislature, in offices requiring confirmation by the legislature.\\nThe duration of such appointments shall be prescribed by law. \\n \\n*** SEND ***\\n \\n*** AEND ***\\n*** ASTART 004.0 AK 1959 ***\\nArticle IV\\nThe Judiciary\\n\\n*** SSTART 001.0 004.0 0 AK 1959 ***\\n\\nSection 1. Judicial Power and Jurisdiction. The judicial power of the State is vested in a supreme\\ncourt, a superior court, and the courts established by the legislature. The jurisdiction of courts\\nshall be prescribed by law. The courts shall constitute a unified judicial system for operation and\\nadministration. Judicial districts shall be established by law. \\n \\n*** SEND ***\\n*** SSTART 002.0 004.0 0 AK 1959 ***\\n\\nSection 2. Supreme Court. The supreme court shall be the highest court of the State, with final\\nappellate jurisdiction. It shall consist of three justices, one of whom is chief justice. The number\\nof justices may be increased by law upon the request of the supreme court. \\n \\n*** SEND ***\\n*** SSTART 003.0 004.0 0 AK 1959 ***\\n\\nSection 3. Superior Court. The superior court shall be the trial court of general jurisdiction and\\nshall consist of five judges. The number of judges may be changed by law. \\n \\n*** SEND ***\\n*** SSTART 004.0 004.0 0 AK 1959 ***\\n\\nSection 4. Qualifications of Justices and Judges. Supreme court justices and superior court judges\\nshall be citizens of the United States and of the State, licensed to practice law in the State, and\\npossessing any additional qualifications prescribed by law. Judges of other courts shall be\\nselected in a manner, for terms, and with qualifications prescribed by law. \\n \\n*** SEND ***\\n*** SSTART 005.0 004.0 0 AK 1959 ***\\n\\nSection 5. Nomination and Appointment. The governor shall fill any vacancy in an office of\\nsupreme court justice or superior court judge by appointing one of two or more persons\\nnominated by the judicial council. \\n \\n*** SEND ***\\n*** SSTART 006.0 004.0 0 AK 1959 ***\\n\\nSection 6. Approval or Rejection. Each supreme court justice and superior court judge shall, in\\nthe manner provided by law, be subject to approval or rejection on a nonpartisan ballot at the first\\ngeneral election held more than three years after his appointment. Thereafter, each supreme court\\njustice shall be subject to approval or rejection in a like manner every tenth year, and each\\nsuperior court judge, every sixth year. \\n \\n*** SEND ***\\n*** SSTART 007.0 004.0 0 AK 1959 ***\\n\\nSection 7. Vacancy. The office of any supreme court justice or superior court judge becomes\\nvacant ninety days after the election at which he is rejected by a majority of those voting on the\\nquestion, or for which he fails to file his declaration of candidacy to succeed himself. \\n \\n*** SEND ***\\n*** SSTART 008.0 004.0 0 AK 1959 ***\\n\\nSection 8. Judicial Council. The judicial council shall consist of seven members. Three attorney\\nmembers shall be appointed for six-year terms by the governing body of the organized state bar.\\nThree non-attorney members shall be appointed for six-year terms by the governor subject to\\nconfirmation by a majority of the members of the legislature in joint session. Vacancies shall be\\nfilled for the unexpired term in like manner. Appointments shall be made with due consideration\\nto area representation and without regard to political affiliation. The chief justice of the supreme\\ncourt shall be ex-officio the seventh member and chairman of the judicial council. No member of\\nthe judicial council, except the chief justice, may hold any other office or position of profit under\\nthe United States or the State. The judicial council shall act by concurrence of four or more\\nmembers and according to rules which it adopts. \\n \\n*** SEND ***\\n*** SSTART 009.0 004.0 0 AK 1959 ***\\n\\nSection 9. Additional Duties. The judicial council shall conduct studies for improvement of the\\nadministration of justice, and make reports and recommendations to the supreme court and to the\\nlegislature at intervals of not more than two years. The judicial council shall perform other duties\\nassigned by law. \\n \\n*** SEND ***\\n*** SSTART 010.0 004.0 0 AK 1959 ***\\n\\nSection 10. Incapacity of Judges.  Whenever the judicial council certifies to the governor that a\\nsupreme court justice appears to be so incapacitated as substantially to prevent him form\\nperforming his judicial duties, the governor shall appoint a board of three persons to inquire into\\nthe circumstances, and may on the board\\'s recommendation retire the justice.  Whenever a judge\\non another court appears to be so incapacitated as substantially to prevent him form performing\\nhis judicial duties, the judicial council shall recommend to the supreme court that the judge be\\nplaced under early retirement.  After notice and hearing, the supreme court by majority vote of its\\nmembers may retire the judge.\\n \\n*** SEND ***\\n*** SSTART 011.0 004.0 0 AK 1959 ***\\n\\nSection 11. Retirement. Justices and judges shall be retired at the age of seventy except as\\nprovided in this article. The basis and amount of retirement pay shall be prescribed by law.\\nRetired judges shall render no further service on the bench except for special assignments as\\nprovided by court rule. \\n \\n*** SEND ***\\n*** SSTART 012.0 004.0 0 AK 1959 ***\\n\\nSection 12. Impeachment. Impeachment of any justice or judge for malfeasance or misfeasance\\nin the performance of his official duties shall be according to procedure prescribed for civil\\nofficers. \\n \\n*** SEND ***\\n*** SSTART 013.0 004.0 0 AK 1959 ***\\n\\nSection 13. Compensation. Justices, judges, and members of the judicial council shall receive\\ncompensation as prescribed by law. Compensation of justices and judges shall not be diminished\\nduring their terms of office, unless by general law applying to all salaried officers of the State. \\n\\n*** SEND ***\\n*** SSTART 014.0 004.0 0 AK 1959 ***\\n\\nSection 14. Restrictions. Supreme court justices and superior court judges while holding office\\nmay not practice law, hold office in a political party, or hold any other office or position of profit\\nunder the United States, the State, or its political subdivisions. Any supreme court justice or\\nsuperior court judge filing for another elective public office forfeits his judicial position. \\n \\n*** SEND ***\\n*** SSTART 015.0 004.0 0 AK 1959 ***\\n\\nSection 15. Rule-making Power. The supreme court shall make and promulgate rules governing\\nthe administration of all courts. It shall make and promulgate rules governing practice and\\nprocedure in civil and criminal cases in all courts. These rules may be changed by the legislature\\nby two-thirds vote of the members elected to each house. \\n \\n*** SEND ***\\n*** SSTART 016.0 004.0 0 AK 1959 ***\\n\\nSection 16. Court Administration. The chief justice of the supreme court shall be the\\nadministrative head of all courts. He may assign judges from one court or division thereof to\\nanother for temporary service. The chief justice shall, with the approval of the supreme court,\\nappoint an administrative director to serve at his pleasure and to supervise the administrative\\noperations of the judicial system. \\n\\n*** SEND *** \\n*** AEND ***\\n*** ASTART 005.0 AK 1959 ***\\nArticle V\\nSuffrage and Elections\\n\\n*** SSTART 001.0 005.0 0 AK 1959 ***\\n\\nSection 1. Qualified Voters. Every citizen of the United States who is at least nineteen years of\\nage, who meets registration residency requirements which may be prescribed by law, and who is\\nqualified to vote under this article, may vote in any state or local election. He shall have been,\\nimmediately preceding the election, a thirty day resident of the election district in which he seeks\\nto vote, except that for purposes of voting for President and Vice President of the United States\\nother residency requirements may be prescribed by law. He shall be able to read or speak the\\nEnglish language as prescribed by law, unless prevented by physical disability.  Additional voting\\nqualifications may be prescribed by law for bond issue elections of political subdivisions. \\n\\n*** SEND ***\\n*** SSTART 002.0 005.0 0 AK 1959 ***\\n\\nSection 2. Disqualifications. No person may vote who has been convicted of a felony involving\\nmoral turpitude unless his civil rights have been restored. No person may vote who has been\\njudicially determined to be of unsound mind unless the disability has been removed. \\n \\n*** SEND ***\\n*** SSTART 003.0 005.0 0 AK 1959 ***\\n\\n Section 3. Methods of Voting; Election Contests. Methods of voting, including absentee voting,\\nshall be prescribed by law. Secrecy of voting shall be preserved. The procedure for determining\\nelection contests, with right of appeal to the courts, shall be prescribed by law. \\n\\n *** SEND ***\\n*** SSTART 004.0 005.0 0 AK 1959 ***\\n\\nSection 4. Voting Precincts; Registration. The legislature may provide a system of permanent\\nregistration of voters, and may establish voting precincts within election districts. \\n \\n*** SEND ***\\n*** SSTART 005.0 005.0 0 AK 1959 ***\\n\\nSection 5. General Elections. General elections shall be held on the second Tuesday in October\\nof every even-numbered year, but the month and day may be changed by law. \\n \\n*** SEND *** \\n*** AEND ***\\n*** ASTART 006.0 AK 1959 ***\\nArticle VI\\nLegislative Apportionment\\n \\n*** SSTART 001.0 006.0 0 AK 1959 ***\\n\\nSection 1. Election Districts. Members of the house of representatives shall be elected by the\\nqualified voters of the respective election districts. Until reapportionment, election districts and\\nthe number of representatives to be elected from each district shall be as set forth in Section 1 of\\nArticle XIV.\\n\\n*** SEND ***\\n*** SSTART 002.0 006.0 0 AK 1959 ***\\n\\nSection 2. Senate Districts.  Members of the senate shall be elected by the qualified voters of the\\nrespective senate districts. Senate districts shall be as set forth in Section 2 of Article XIV,\\nsubject to changes authorized in this article.\\n\\n*** SEND ***\\n*** SSTART 003.0 006.0 0 AK 1959 ***\\n\\nSection 3. Reapportionment of House and Senate. The Governor and the senate shall reapportion\\nthe house of representatives and the senate immediately following the official reporting of each\\ndecennial census of the United States. Reapportionment shall be based upon the civilian\\npopulation within each election district as reported by the census.\\n \\n*** SEND ***\\n*** SSTART 004.0 006.0 0 AK 1959 ***\\n.0Section 4. Reapportionment shall be by the method of equal proportions, except that each\\nelection district having the major fraction of the quotient obtained by dividing total civilian\\npopulation by forty shall have one representative.\\n\\n*** SEND ***\\n*** SSTART 005.0 006.0 0 AK 1959 ***\\n\\nSection 5. Combining Districts.  Should the total civilian population within any election district\\nfall below one-half of the quotient, the district shall be attached to an election district within its\\nsenate district, and the reapportionment for the new district shall be determined as provided in\\nsection 4 of this article.\\n \\n*** SEND ***\\n*** SSTART 006.0 006.0 0 AK 1959 ***\\n\\nSection 6. District Boundaries. The Governor may further redistrict by changing the size and area\\nof election districts, subject to the limitations of this article. Each new district so created shall be\\nformed of contiguous and compact territory containing as nearly as practicable a relatively\\nintegrated socio-economic area. Each shall contain a population at least equal to the quotient\\nobtained by dividing the total civilian population state by forty. Consideration may be given to\\nlocal government boundaries. Drainage and other geographic features shall be used in describing\\nboundaries wherever possible.\\n \\n*** SEND ***\\n*** SSTART 007.0 006.0 0 AK 1959 ***\\n\\nSection 7. Modification of Senate Districts. The senate districts, described in Section 2 of Article\\nXIV, may be modified to reflect changes in election districts.  A district, although modified, shall\\nretain its total number of senators and its approximate perimeter.\\n\\n*** SEND ***\\n*** SSTART 008.0 006.0 0 AK 1959 ***\\n\\nSection 8. Reapportionment Board. The governor shall appoint a reapportionment board to act in\\nan advisory capacity to him.  It shall consist of five members, none of whom may be public\\nemployees or officials.  At least one member each shall be appointed from the Southeastern,\\nSouthcentral, Central, and Northwestern Senate districts.  Appointments shall be made without\\nregard to political affiliation.  Board members shall be compensated.\\n \\n*** SEND ***\\n*** SSTART 009.0 006.0 0 AK 1959 ***\\n\\nSection 9. Board Actions. The board shall elect one of its members chairman and may employ\\ntemporary assistants.  Concurrence of three members is required for a ruling or determination,\\nbut a lesser number may conduct hearings or otherwise act for the board.\\n.0*** SEND ***\\n*** SSTART 010.0 006.0 0 AK 1959 ***\\n\\nSection 10. Redistricting Plan and Proclamation.  Within ninety days following the official\\nreporting of each decennial census, the board shall submit to the governor a plan for\\nreapportionment and redistricting as provided in this article.  Within ninety days after receipt of\\nthe plan, the governor shall issue a proclamation of reapportionment and redistricting.  An\\naccompanying statement shall explain any changes from the plan of the board.  The\\nreapportionment and redistricting shall be effective for the election of members of the legislature\\nuntil the official reporting of the next decennial census. \\n \\n*** SEND ***\\n*** SSTART 011.0 006.0 0 AK 1959 ***\\n\\nSection 11. Enforcement.  Any qualified voter may apply to the superior court to compel the\\ngovernor, by mandamus or otherwise, to perform his reapportionment duties or to correct any\\nerror in redistricting or reapportionment. Application to compel the governor to perform his\\nreapportionment duties must be filed within thirty days of the expiration of either of the two\\nninety-day periods specified in this article. Application to compel correction of any error in\\nredistricting must be filed within thirty days following the proclamation.  Original jurisdiction in\\nthese matters is hereby vested in the superior court. On appeal, the cause shall be reviewed by the\\nsupreme court upon the law and the facts.\\n\\n*** SEND *** \\n*** AEND ***\\n*** ASTART 007.0 AK 1959 ***\\nArticle VII\\nHealth, Education and Welfare\\n\\n\\n*** SSTART 001.0 007.0 0 AK 1959 ***\\n\\nSection 1. Public Education. The legislature shall by general law establish and maintain a system\\nof public schools open to all children of the State, and may provide for other public educational\\ninstitutions. Schools and institutions so established shall be free from sectarian control. No\\nmoney shall be paid from public funds for the direct benefit of any religious or other private\\neducational institution. \\n \\n*** SEND ***\\n*** SSTART 002.0 007.0 0 AK 1959 ***\\n\\nSection 2. State University. The University of Alaska is hereby established as the state university\\nand constituted a body corporate. It shall have title to all real and personal property now or\\nhereafter set aside for or conveyed to it. Its property shall be administered and disposed of\\naccording to law. \\n \\n*** SEND ***\\n*** SSTART 003.0 007.0 0 AK 1959 ***\\n\\nSection 3. Board of Regents of University. The University of Alaska shall be governed by a\\nboard of regents. The regents shall be appointed by the governor, subject to confirmation by a\\nmajority of the members of the legislature in joint session. The board shall, in accordance with\\nlaw, formulate policy and appoint the president of the university. He shall be the executive\\nofficer of the board. \\n \\n*** SEND ***\\n*** SSTART 004.0 007.0 0 AK 1959 ***\\n\\nSection 4. Public Health. The legislature shall provide for the promotion and protection of public\\nhealth. \\n \\n*** SEND ***\\n*** SSTART 005.0 007.0 0 AK 1959 ***\\n\\nSection 5. Public Welfare. The legislature shall provide for public welfare. \\n \\n*** SEND *** \\n*** AEND ***\\n*** ASTART 008.0 AK 1959 ***\\n\\nArticle VIII\\nNatural Resources\\n\\n*** SSTART 001.0 008.0 0 AK 1959 ***\\n\\nSection 1. Statement of Policy. It is the policy of the State to encourage the settlement of its land\\nand the development of its resources by making them available for maximum use consistent with\\nthe public interest. \\n \\n*** SEND ***\\n*** SSTART 002.0 008.0 0 AK 1959 ***\\n\\nSection 2. General Authority. The legislature shall provide for the utilization, development, and\\nconservation of all natural resources belonging to the State, including land and waters, for the\\nmaximum benefit of its people. \\n \\n*** SEND ***\\n*** SSTART 003.0 008.0 0 AK 1959 ***\\n\\nSection 3. Common Use. Wherever occurring in their natural state, fish, wildlife, and waters are\\nreserved to the people for common use. \\n \\n*** SEND ***\\n*** SSTART 004.0 008.0 0 AK 1959 ***\\n\\nSection 4. Sustained Yield. Fish, forests, wildlife, grasslands, and all other replenishable\\nresources belonging to the State shall be utilized, developed, and maintained on the sustained\\nyield principle, subject to preferences among beneficial uses. \\n \\n*** SEND ***\\n*** SSTART 005.0 008.0 0 AK 1959 ***\\n\\nSection 5. Facilities and Improvements. The legislature may provide for facilities, improvements,\\nand services to assure greater utilization, development, reclamation, and settlement of lands, and\\nto assure fuller utilization and development of the fisheries, wildlife, and waters. \\n \\n*** SEND ***\\n*** SSTART 006.0 008.0 0 AK 1959 ***\\n\\nSection 6. State Public Domain. Lands and interests therein, including submerged and tidal lands,\\npossessed or acquired by the State, and not used or intended exclusively for governmental\\npurposes, constitute the state public domain. The legislature shall provide for the selection of\\nlands granted to the State by the United States, and for the administration of the state public\\ndomain. \\n \\n*** SEND ***\\n*** SSTART 007.0 008.0 0 AK 1959 ***\\n\\nSection 7. Special Purpose Sites. The legislature may provide for the acquisition of sites, objects,\\nand areas of natural beauty or of historic, cultural, recreational, or scientific value. It may reserve\\nthem from the public domain and provide for their administration and preservation for the use,\\nenjoyment, and welfare of the people. \\n \\n*** SEND ***\\n*** SSTART 008.0 008.0 0 AK 1959 ***\\n\\nSection 8. Leases. The legislature may provide for the leasing of, and the issuance of permits for\\nexploration of, any part of the public domain or interest therein, subject to reasonable concurrent\\nuses. Leases and permits shall provide, among other conditions, for payment by the party at fault\\nfor damage or injury arising from noncompliance with terms governing concurrent use, and for\\nforfeiture in the event of breach of conditions. \\n \\n*** SEND ***\\n*** SSTART 009.0 008.0 0 AK 1959 ***\\n\\nSection 9. Sales and Grants. Subject to the provisions of this section, the legislature may provide\\nfor the sale or grant of state lands, or interests therein, and establish sales procedures. All sales or\\ngrants shall contain such reservations to the State of all resources as may be required by Congress\\nor the State and shall provide for access to these resources. Reservation of access shall not\\nunnecessarily impair the owners\\' use, prevent the control of trespass, or preclude compensation\\nfor damages. \\n \\n*** SEND ***\\n*** SSTART 010.0 008.0 0 AK 1959 ***\\n\\nSection 10. Public Notice. No disposals or leases of state lands, or interests therein, shall be\\nmade without prior public notice and other safeguards of the public interest as may be prescribed\\nby law. \\n \\n*** SEND ***\\n*** SSTART 011.0 008.0 0 AK 1959 ***\\n\\nSection 11. Mineral Rights. Discovery and appropriation shall be the basis for establishing a right\\nin those minerals reserved to the State which, upon the date of ratification of this constitution by\\nthe people of Alaska, were subject to location under the federal mining laws. Prior discovery,\\nlocation, and filing, as prescribed by law, shall establish a prior right to these minerals and also a\\nprior right to permits, leases, and transferable licenses for their extraction. Continuation of these\\nrights shall depend upon the performance of annual labor, or the payment of fees, rents, or\\nroyalties, or upon other requirements as may be prescribed by law. Surface uses of land by a\\nmineral claimant shall be limited to those necessary for the extraction or basic processing of the\\nmineral deposits, or for both. Discovery and appropriation shall initiate a right, subject to further\\nrequirements of law, to patent of mineral lands if authorized by the State and not prohibited by\\nCongress. The provisions of this section shall apply to all other minerals reserved to the State\\nwhich by law are declared subject to appropriation. \\n \\n*** SEND ***\\n*** SSTART 012.0 008.0 0 AK 1959 ***\\n\\nSection 12. Mineral Leases and Permits. The legislature shall provide for the issuance, types and\\nterms of leases for coal, oil, gas, oil shale, sodium, phosphate, potash, sulfur, pumice, and other\\nminerals as may be prescribed by law. Leases and permits giving the exclusive right of\\nexploration for these minerals for specific periods and areas, subject to reasonable concurrent\\nexploration as to different classes of minerals, may be authorized by law. Like leases and permits\\ngiving the exclusive right of prospecting by geophysical, geochemical, and similar methods for\\nall minerals may also be authorized by law. \\n \\n*** SEND ***\\n*** SSTART 013.0 008.0 0 AK 1959 ***\\n\\nSection 13. Water Rights. All surface and subsurface waters reserved to the people for common\\nuse, except mineral and medicinal waters, are subject to appropriation. Priority of appropriation\\nshall give prior right. Except for public water supply, an appropriation of water shall be limited\\nto stated purposes and subject to preferences among beneficial uses, concurrent or otherwise, as\\nprescribed by law, and to the general reservation of fish and wildlife. \\n \\n*** SEND ***\\n*** SSTART 014.0 008.0 0 AK 1959 ***\\n\\nSection 14. Access to Navigable Waters. Free access to the navigable or public waters of the\\nState, as defined by the legislature, shall not be denied any citizen of the United States or resident\\nof the State, except that the legislature may by general law regulate and limit such access for\\nother beneficial uses or public purposes.\\n \\n*** SEND ***\\n*** SSTART 015.0 008.0 0 AK 1959 ***\\n\\nSection 15. No Exclusive Right of Fishery. No exclusive right or special privilege of fishery shall\\nbe created or authorized in the natural waters of the State.\\n \\n*** SEND ***\\n*** SSTART 016.0 008.0 0 AK 1959 ***\\n\\nSection 16. Protection of Rights. No person shall be involuntarily divested of his right to the use\\nof waters, his interests in lands, or improvements affecting either, except for a superior beneficial\\nuse or public purpose and then only with just compensation and by operation of law. \\n \\n*** SEND ***\\n*** SSTART 017.0 008.0 0 AK 1959 ***\\n\\nSection 17. Uniform Application. Laws and regulations governing the use or disposal of natural\\nresources shall apply equally to all persons similarly situated with reference to the subject matter\\nand purpose to be served by the law or regulation. \\n \\n*** SEND ***\\n*** SSTART 018.0 008.0 0 AK 1959 ***\\n\\nSection 18. Private Ways of Necessity. Proceedings in eminent domain may be undertaken for\\nprivate ways of necessity to permit essential access for extraction or utilization of resources. Just\\ncompensation shall be made for property taken or for resultant damages to other property rights. \\n \\n*** SEND *** \\n*** AEND ***\\n*** ASTART 009.0 AK 1959 ***\\nArticle IX\\nFinance and Taxation\\n*** SSTART 001.0 009.0 0 AK 1959 ***\\n\\nSection 1. Taxing Power. The power of taxation shall never be surrendered. This power shall not\\nbe suspended or contracted away, except as provided in this article. \\n\\n*** SEND ***\\n*** SSTART 002.0 009.0 0 AK 1959 ***\\n\\nSection 2. Nondiscrimination. The lands and other property belonging to citizens of the United\\nStates residing without the State shall never be taxed at a higher rate than the lands and other\\nproperty belonging to the residents of the State. \\n\\n*** SEND ***\\n*** SSTART 003.0 009.0 0 AK 1959 ***\\n\\nSection 3. Assessment Standards. Standards for appraisal of all property assessed by the State or\\nits political subdivisions shall be prescribed by law. \\n\\n*** SEND ***\\n*** SSTART 004.0 009.0 0 AK 1959 ***\\n\\nSection 4. Exemptions. The real and personal property of the State or its political subdivisions\\nshall be exempt from taxation under conditions and exceptions which may be provided by law.\\nAll, or any portion of, property used exclusively for non-profit religious, charitable, cemetery, or\\neducational purposes, as defined by law, shall be exempt from taxation. Other exemptions of like\\nor different kind may be granted by general law. All valid existing exemptions shall be retained\\nuntil otherwise provided by law. \\n\\n*** SEND ***\\n*** SSTART 005.0 009.0 0 AK 1959 ***\\n\\nSection 5. Interests in Government Property. Private leaseholds, contracts, or interests in land or\\nproperty owned or held by the United States, the State, or its political subdivisions, shall be\\ntaxable to the extent of the interests. \\n\\n*** SEND ***\\n*** SSTART 006.0 009.0 0 AK 1959 ***\\n\\nSection 6. Public Purpose. No tax shall be levied, or appropriation of public money made, or\\npublic property transferred, nor shall the public credit be used, except for a public purpose. \\n\\n*** SEND ***\\n*** SSTART 007.0 009.0 0 AK 1959 ***\\n\\nSection 7. Dedicated Funds. The proceeds of any state tax or license shall not be dedicated to any\\nspecial purpose, except when required by the federal government for state participation in federal\\nprograms. This provision shall not prohibit the continuance of any dedication for special\\npurposes existing upon the date of ratification of this section by the people of Alaska. \\n\\n*** SEND ***\\n*** SSTART 008.0 009.0 0 AK 1959 ***\\n\\nSection 8. State Debt. No state debt shall be contracted unless authorized by law for capital\\nimprovements and ratified by a majority of the qualified voters of the State who vote on the\\nquestion. The State may, as provided by law and without ratification, contract debt for the\\npurpose of repelling invasion, suppressing insurrection, defending the State in war, meeting\\nnatural disasters, or redeeming indebtedness outstanding at the time this constitution becomes\\neffective. .0\\n\\n*** SEND ***\\n*** SSTART 009.0 009.0 0 AK 1959 ***\\n\\nSection 9. Local Debts. No debt shall be contracted by any political subdivision of the State,\\nunless authorized for capital improvements by its governing body and ratified by a majority vote\\nof those qualified to vote and voting on the question. \\n\\n*** SEND ***\\n*** SSTART 010.0 009.0 0 AK 1959 ***\\n\\nSection 10. Interim Borrowing. The State and its political subdivisions may borrow money to\\nmeet appropriations for any fiscal year in anticipation of the collection of the revenues for that\\nyear, but all debt so contracted shall be paid before the end of the next fiscal year. \\n\\n*** SEND ***\\n*** SSTART 011.0 009.0 0 AK 1959 ***\\n\\nSection 11. Exceptions. The restrictions on contracting debt do not apply to debt incurred\\nthrough the issuance of revenue bonds by a public enterprise or public corporation of the State or\\na political subdivision, when the only security is the revenues of the enterprise or corporation.\\nThe restrictions do not apply to indebtedness to be paid from special assessments on the\\nbenefited property, nor do they apply to refunding indebtedness of the State or its political\\nsubdivisions. \\n\\n*** SEND ***\\n*** SSTART 012.0 009.0 0 AK 1959 ***\\n\\nSection 12. Budget. The governor shall submit to the legislature, at a time fixed by law, a budget\\nfor the next fiscal year setting forth all proposed expenditures and anticipated income of all\\ndepartments, offices, and agencies of the State. The governor, at the same time, shall submit a\\ngeneral appropriation bill to authorize the proposed expenditures, and a bill or bills covering\\nrecommendations in the budget for new or additional revenues. \\n\\n*** SEND ***\\n*** SSTART 013.0 009.0 0 AK 1959 ***\\n\\nSection 13. Expenditures. No money shall be withdrawn from the treasury except in accordance\\nwith appropriations made by law. No obligation for the payment of money shall be incurred\\nexcept as authorized by law. Unobligated appropriations outstanding at the end of the period of\\ntime specified by law shall be void. \\n\\n*** SEND ***\\n*** SSTART 014.0 009.0 0 AK 1959 ***\\n\\nSection 14. Legislative Post-audit. The legislature shall appoint an auditor to serve at its pleasure.\\nHe shall be a certified public accountant. The auditor shall conduct post-audits as prescribed by\\nlaw and shall report to the legislature and to the governor. \\n\\n*** SEND ***\\n\\n*** AEND ***\\n*** ASTART 010.0 AK 1959 ***\\nArticle X\\nLocal Government\\n\\n*** SSTART 001.0 010.0 0 AK 1959 ***\\n\\nSection 1. Purpose and Construction. The purpose of this article is to provide for maximum local\\nself-government with a minimum of local government units, and to prevent duplication of tax\\nlevying jurisdictions. A liberal construction shall be given to the powers of local government\\nunits. \\n\\n*** SEND ***\\n*** SSTART 002.0 010.0 0 AK 1959 ***\\n\\nSection 2. Local Government Powers. All local government powers shall be vested in boroughs\\nand cities. The State may delegate taxing powers to organized boroughs and cities only. \\n\\n*** SEND ***\\n*** SSTART 003.0 010.0 0 AK 1959 ***\\n\\nSection 3. Boroughs. The entire State shall be divided into boroughs, organized or unorganized.\\nThey shall be established in a manner and according to standards provided by law. The standards\\nshall include population, geography, economy, transportation, and other factors. Each borough\\nshall embrace an area and population with common interests to the maximum degree possible.\\nThe legislature shall classify boroughs and prescribe their powers and functions. Methods by\\nwhich boroughs may be organized, incorporated, merged, consolidated, reclassified, or dissolved\\nshall be prescribed by law. \\n\\n*** SEND ***\\n*** SSTART 004.0 010.0 0 AK 1959 ***\\n\\nSection 4. Assembly. The governing body of the organized borough shall be the assembly, and its\\ncomposition shall be established by law or charter.  Each city of the first class, and each city of\\nany other class designated by law, shall be represented on the assembly by one or more members\\nof its council.  The other members of the assembly shall be elected from and by the qualified\\nvoters resident outside such cities.\\n\\n*** SEND ***\\n*** SSTART 005.0 010.0 0 AK 1959 ***\\n\\nSection 5. Service Areas. Service areas to provide special services within an organized borough\\nmay be established, altered, or abolished by the assembly, subject to the provisions of law or\\ncharter. A new service area shall not be established if, consistent with the purposes of this article,\\nthe new service can be provided by an existing service area, by incorporation as a city, or by\\nannexation to a city. The assembly may authorize the levying of taxes, charges, or assessments\\nwithin a service area to finance the special services. \\n\\n*** SEND ***\\n*** SSTART 006.0 010.0 0 AK 1959 ***\\n\\nSection 6. Unorganized Boroughs. The legislature shall provide for the performance of services it\\ndeems necessary or advisable in unorganized boroughs, allowing for maximum local\\nparticipation and responsibility. It may exercise any power or function in an unorganized borough\\nwhich the assembly may exercise in an organized borough. \\n\\n*** SEND ***\\n*** SSTART 007.0 010.0 0 AK 1959 ***\\n\\nSection 7. Cities. Cities shall be incorporated in a manner prescribed by law, and shall be a part\\nof the borough in which they are located. Cities shall have the powers and functions conferred by\\nlaw or charter. They may be merged, consolidated, classified, reclassified, or dissolved in the\\nmanner provided by law. \\n\\n*** SEND ***\\n*** SSTART 008.0 010.0 0 AK 1959 ***\\n\\nSection 8. Council. The governing body of a city shall be the council. \\n\\n*** SEND ***\\n*** SSTART 009.0 010.0 0 AK 1959 ***\\n.0Section 9. Charters. The qualified voters of any borough of the first class or city of the first\\nclass may adopt, amend, or repeal a home rule charter in a manner provided by law. In the\\nabsence of such legislation, the governing body of a borough or city of the first class shall\\nprovide the procedure for the preparation and adoption or rejection of the charter. All charters, or\\nparts or amendments of charters, shall be submitted to the qualified voters of the borough or city,\\nand shall become effective if approved by a majority of those who vote on the specific question. \\n\\n*** SEND ***\\n*** SSTART 010.0 010.0 0 AK 1959 ***\\n\\nSection 10. Extended Home Rule. The legislature may extend home rule to other boroughs and\\ncities. \\n\\n*** SEND ***\\n*** SSTART 011.0 010.0 0 AK 1959 ***\\n\\nSection 11. Home Rule Powers. A home rule borough or city may exercise all legislative powers\\nnot prohibited by law or by charter. \\n\\n*** SEND ***\\n*** SSTART 012.0 010.0 0 AK 1959 ***\\n\\nSection 12. Boundaries. A local boundary commission or board shall be established by law in the\\nexecutive branch of the state government. The commission or board may consider any proposed\\nlocal government boundary change. It may present proposed changes to the legislature during the\\nfirst ten days of any regular session. The change shall become effective forty-five days after\\npresentation or at the end of the session, whichever is earlier, unless disapproved by a resolution\\nconcurred in by a majority of the members of each house. The commission or board, subject to\\nlaw, may establish procedures whereby boundaries may be adjusted by local action. \\n\\n*** SEND ***\\n*** SSTART 013.0 010.0 0 AK 1959 ***\\n\\nSection 13. Agreements; Transfer of Powers. Agreements, including those for cooperative or\\njoint administration of any functions or powers, may be made by any local government with any\\nother local government, with the State, or with the United States, unless otherwise provided by\\nlaw or charter. A city may transfer to the borough in which it is located any of its powers or\\nfunctions unless prohibited by law or charter, and may in like manner revoke the transfer. \\n\\n*** SEND ***\\n*** SSTART 014.0 010.0 0 AK 1959 ***\\n\\nSection 14. Local Government Agency. An agency shall be established by law in the executive\\nbranch of the state government to advise and assist local governments. It shall review their\\nactivities, collect and publish local government information, and perform other duties prescribed\\nby law. \\n\\n*** SEND ***\\n*** SSTART 015.0 010.0 0 AK 1959 ***\\n\\nSection 15. Special Service Districts. Special service districts existing at the time a borough is\\norganized shall be integrated with the government of the borough as provided by law. \\n\\n*** SEND ***\\n*** AEND ***\\n*** ASTART 011.0 AK 1959 ***\\n\\nArticle XI\\nInitiative, Referendum, and Recall\\n \\n*** SSTART 001.0 011.0 0 AK 1959 ***\\n\\nSection 1. Initiative and Referendum. The people may propose and enact laws by the initiative,\\nand approve or reject acts of the legislature by the referendum.\\n\\n*** SEND ***\\n*** SSTART 002.0 011.0 0 AK 1959 ***\\n\\nSection 2. Application. An initiative or referendum is proposed by an application containing the\\nbill to be initiated or the act to be referred. The application shall be signed by not less than one\\nhundred qualified voters as sponsors, and shall be filed with the secretary of state. If he finds it in\\nproper form he shall so certify. Denial of certification shall be subject to judicial review.\\n\\n*** SEND ***\\n*** SSTART 003.0 011.0 0 AK 1959 ***\\n\\nSection 3. Petition. After certification of the application, a petition containing a summary of the\\nsubject matter shall be prepared by the secretary of state for circulation by the sponsors. If signed\\nby qualified voters, equal in number to ten per cent of those who voted in the preceding general\\nelection and resident in at least two-thirds of the election districts of the State, it may be filed\\nwith the secretary of state.\\n\\n*** SEND ***\\n*** SSTART 004.0 011.0 0 AK 1959 ***\\n\\nSection 4. Initiative Election. An initiative petition may be filed at any time. The secretary of\\nstate shall prepare a ballot title and proposition summarizing the proposed law, and shall place\\nthem on the ballot for the first statewide election held more than one hundred- twenty days after\\nadjournment of the legislative session following the filing. If, before the election, substantially\\nthe same measure has been enacted, the petition is void.\\n.0*** SEND ***\\n*** SSTART 005.0 011.0 0 AK 1959 ***\\n\\nSection 5. Referendum Election. A referendum petition may be filed only within ninety days after\\nadjournment of the legislative session at which the act was passed. The secretary of state shall\\nprepare a ballot title and proposition summarizing the act and shall place them on the ballot for\\nthe first statewide election held more than one hundred-eighty days after adjournment of that\\nsession.\\n\\n*** SEND ***\\n*** SSTART 006.0 011.0 0 AK 1959 ***\\n\\nSection 6. Enactment. If a majority of the votes cast on the proposition favor its adoption, the\\ninitiated measure is enacted. If a majority of the votes cast on the proposition favor the rejection\\nof an act referred, it is rejected. The secretary of state shall certify the election returns. An\\ninitiated law becomes effective ninety days after certification, is not subject to veto, and may not\\nbe repealed by the legislature within two years of its effective date. It may be amended at any\\ntime. An act rejected by referendum is void thirty days after certification. Additional procedures\\nfor the initiative and referendum may be prescribed by law.\\n\\n*** SEND ***\\n*** SSTART 007.0 011.0 0 AK 1959 ***\\n\\nSection 7. Restrictions. The initiative shall not be used to dedicate revenues, make or repeal\\nappropriations, create courts, define the jurisdiction of courts or prescribe their rules, or enact\\nlocal or special legislation. The referendum shall not be applied to dedications of revenue, to\\nappropriations, to local or special legislation, or to laws necessary for the immediate preservation\\nof the public peace, health, or safety.\\n\\n*** SEND ***\\n*** SSTART 008.0 011.0 0 AK 1959 ***\\n\\nSection 8. Recall. All elected public officials in the State, except judicial officers, are subject to\\nrecall by the voters of the State or political subdivision from which elected. Procedures and\\ngrounds for recall shall be prescribed by the legislature.\\n\\n*** SEND ***\\n*** AEND ***\\n*** ASTART 012.0 AK 1959 ***\\nArticle XII\\nGeneral Provisions\\n\\n*** SSTART 001.0 012.0 0 AK 1959 ***\\n\\nSection 1. State Boundaries. The State of Alaska shall consist of all the territory, together with\\nthe territorial waters appurtenant thereto, included in the Territory of Alaska upon the date of\\nratification of this constitution by the people of Alaska. \\n\\n*** SEND ***\\n*** SSTART 002.0 012.0 0 AK 1959 ***\\n\\nSection 2. Intergovernmental Relations. The State and its political subdivisions may cooperate\\nwith the United States and its territories, and with other states and their political subdivisions on\\nmatters of common interest. The respective legislative bodies may make appropriations for this\\npurpose. \\n*** SEND ***\\n\\n*** SSTART 003.0 012.0 0 AK 1959 ***\\n\\nSection 3. Office of Profit. Service in the armed forces of the United States or of the State is not\\nan office or position of profit as the term is used in this constitution. \\n\\n*** SEND ***\\n*** SSTART 004.0 012.0 0 AK 1959 ***\\n\\nSection 4. Disqualification for Disloyalty. No person who advocates, or who aids or belongs to\\nany party or organization or association which advocates, the overthrow by force or violence of\\nthe government of the United States or of the State shall be qualified to hold any public office of\\ntrust or profit under this constitution. \\n\\n*** SEND ***\\n*** SSTART 005.0 012.0 0 AK 1959 ***\\n\\nSection 5. Oath of Office. All public officers, before entering upon the duties of their offices,\\nshall take and subscribe to the following oath or affirmation: \"I do solemnly swear (or affirm)\\nthat I will support and defend the Constitution of the United States and the Constitution of the\\nState of Alaska, and that I will faithfully discharge my duties as . . . . . . . . to the best of my\\nability.\" The legislature may prescribe further oaths or affirmations. \\n\\n*** SEND ***\\n*** SSTART 006.0 012.0 0 AK 1959 ***\\n\\nSection 6. Merit System. The legislature shall establish a system under which the merit principle\\nwill govern the employment of persons by the State. \\n\\n*** SEND ***\\n*** SSTART 007.0 012.0 0 AK 1959 ***\\n\\nSection 7. Retirement Systems. Membership in employee retirement systems of the State or its\\npolitical subdivisions shall constitute a contractual relationship. Accrued benefits of these\\nsystems shall not be diminished or impaired. \\n\\n*** SEND ***\\n*** SSTART 008.0 012.0 0 AK 1959 ***\\n\\nSection 8. Residual Power. The enumeration of specified powers in this constitution shall not be\\nconstrued as limiting the powers of the State. \\n\\n*** SEND ***\\n*** SSTART 009.0 012.0 0 AK 1959 ***\\n\\nSection 9. Provisions Self-executing. The provisions of this constitution shall be construed to be\\nself-executing whenever possible. \\n\\n*** SEND ***\\n*** SSTART 010.0 012.0 0 AK 1959 ***\\n\\nSection 10. Interpretation. Titles and subtitles shall not be used in construing this constitution.\\nPersonal pronouns used in this constitution shall be construed as including either sex. \\n\\n*** SEND ***\\n*** SSTART 011.0 012.0 0 AK 1959 ***\\n\\nSection 11. Law-making Power. As used in this constitution, the terms \"by law\" and \"by the\\nlegislature,\" or variations of these terms, are used interchangeably when related to law-making\\npowers. Unless clearly inapplicable, the law-making powers assigned to the legislature may be\\nexercised by the people through the initiative, subject to the limitations of Article XI. \\n\\n*** SEND ***\\n*** SSTART 012.0 012.0 0 AK 1959 ***\\n\\nSection 12. Disclaimer and Agreement. The State of Alaska and its people forever disclaim all\\nright and title in or to any property belonging to the United States or subject to its disposition,\\nand not granted or confirmed to the State or its political subdivisions, by or under the act\\nadmitting Alaska to the Union. The State and its people further disclaim all right or title in or to\\nany property, including fishing rights, the right or title to which may be held by or for any Indian,\\nEskimo, or Aleut, or community thereof, as that right or title is defined in the act of admission.\\nThe State and its people agree that, unless otherwise provided by Congress, the property, as\\ndescribed in this section, shall remain subject to the absolute disposition of the United States.\\nThey further agree that no taxes will be imposed upon any such property, until otherwise\\nprovided by the Congress. This tax exemption shall not apply to property held by individuals in\\nfee without restrictions on alienation. \\n\\n*** SEND ***\\n*** SSTART 013.0 012.0 0 AK 1959 ***\\n.0Section 13. Consent to Act of Admission. All provisions of the act admitting Alaska to the\\nUnion which reserve rights or powers to the United States, as well as those prescribing the terms\\nor conditions of the grants of lands or other property, are consented to fully by the State and its\\npeople. \\n\\n*** SEND ***\\n*** AEND ***\\n*** ASTART 013.0 AK 1959 ***\\nArticle XIII\\nAmendment and Revision\\n\\n*** SSTART 001.0 013.0 0 AK 1959 ***\\n\\nSection 1. Amendments.  Amendments to this constitution may be proposed by a two-thirds vote\\nof each house of the legislature. The secretary of state shall prepare a ballot title and proposition\\nsummarizing each proposed amendment, and shall place them on the ballot for the next statewide\\nelection. If a majority of the votes cast on the proposition favor the amendment, it shall be\\nadopted. Unless otherwise provided in the amendment, it becomes effective thirty days after the\\ncertification of the election returns by the secretary of state. \\n\\n*** SEND ***\\n*** SSTART 002.0 013.0 0 AK 1959 ***\\n\\nSection 2. Convention. The legislature may call constitutional conventions at any time. \\n\\n*** SEND ***\\n*** SSTART 003.0 013.0 0 AK 1959 ***\\n          \\nSection 3. Call by Referendum. If during any ten-year period a constitutional convention has not\\nbeen held, the secretary of state shall place on the ballot for the next general election the\\nquestion: \"Shall there be a Constitutional Convention?\" If a majority of the votes cast on the\\nquestion are in the negative, the question need not be placed on the ballot until the end of the\\nnext ten-year period. If a majority of the votes cast on the question are in the affirmative,\\ndelegates to the convention shall be chosen at the next regular statewide election, unless the\\nlegislature provides for the election of the delegates at a special election. The secretary of state\\nshall issue the call for the convention. Unless other provisions have been made by law, the call\\nshall conform as nearly as possible to the act calling the Alaska Constitutional Convention of\\n1955, including, but not limited to, number of members, districts, election and certification of\\ndelegates, and submission and ratification of revisions and ordinances. The appropriation\\nprovisions of the call shall be self-executing and shall constitute a first claim on the state\\ntreasury. \\n\\n*** SEND ***\\n*** SSTART 004.0 013.0 0 AK 1959 ***\\n\\nSection 4. Powers. Constitutional conventions shall have plenary power to amend or revise the\\nconstitution, subject only to ratification by the people. No call for a constitutional convention\\nshall limit these powers of the convention. \\n\\n*** SEND ***\\n*** AEND ***\\n*** ASTART 014.0 AK 1959 ***\\nArticle XIV\\nApportionment Schedule\\n*** SSTART 001.0 014.0 0 AK 1959 ***\\n\\nSection 1.  Members of the house of representatives shall, until reapportionment, be elected from\\nthe election districts and in the numbers shown below:\\n\\n                                                       Number of District       Name of District              Number of Representatives\\n\\n                                                  1                   Prince of Wales               1\\n                                             2                   Ketchikan                2\\n                                                  3                   Wrangell-Petersburg           1\\n                                                  4                   Sitka                         2\\n                                                  5                   Juneau                        2\\n                                                  6                   Lynn Canal-Icy Straits        1\\n                                                  7                   Cordova-McCarthy              1\\n                    8                   Valdez-Chitina-Whittier       1\\n                                                  9                   Palmer-Wasilla-Talkeetna      1\\n                                             10                  Anchorage                8\\n                                             11                  Seward                   1\\n                                                  12                  Kenai-Cook Inlet              1\\n                                             13                  Kodiak                   2\\n                                                  14                  Aleutian Islands              1\\n                                                  15                  Bristol Bay                   1\\n                                                  16                  Bethel                        1\\n                                             17                  Kuskokwim                1\\n                                             18                  Yukon-Koyukuk            1\\n                                             19                  Fairbanks                5\\n                                                  20                  Upper Yukon                   1\\n                                             21                  Barrow                   1\\n                                                  22                  Kobuk                         1\\n                                             23                  Nome                     2\\n                                             24                  Wade Hampton             1\\n\\n*** SEND ***\\n*** SSTART 002.0 014.0 0 AK 1959 ***\\n\\nSection 2.  Members of the senate shall be elected from the senate districts and in the number\\nshown below:\\n\\n\\n                                                                 Name of District              Composed of Election Districts     Number of Senators\\n\\n                                                                 A. Southeastern               1, 2, 3, 4, 5, and 6               2\\n                                                       B. Ketchikan-Prince of Wales  1 and 2                  1\\n                                                       C. Wrangell-Petersburg-Sitka  3 and 4                  1\\n                                                       D. Juneau-Yakutat             5 and 6                  1\\n                                                                 E. Southcentral               7, 8, 9, 10, 11, 12, 13, and 14    2\\n                                                       F. Cordova-Valdez             7 and 8                  1\\n                                                       G. Anchorage-Palmer           9 and 10                 1\\n                                                       H. Seward-Kenai               11 and 12                1\\n                                                       I. Kodiak-Aleutians           13 and 14                1\\n                                                                 J. Central                    15, 16, 17, 18, 19, and 20         2\\n                                                            K. Bristol Bay-Bethel              15 and 16                1\\n                                                  L. Yukon-Kuskokwim       17 and 18                1\\n                                                       M. Fairbanks-Fort Yukon       19 and 20                1\\n                                                            N. Northwestern               21, 22, 23, and 24            2\\n                                                       O. Barrow-Kobuk               21 and 22                1\\n                                                       P. Nome-Wade Hampton          23 and 24                1\\n\\n*** SEND ***\\n\\n*** SSTART 003.0 014.0 0 AK 1959 ***\\n\\nSection 3. The election districts set forth in Section 1 shall include the following territory:\\n\\n1.  Prince of Wales: All of Prince of Wales, Dall, Forrester, Suemez, Baker, Lulu, Noyes,\\nWarren, Kosciusko and the Kashevarof Islands as well as adjacent off-shore islands.\\n\\n2.  Ketchikan: That area of the mainland drained by streams flowing into Revillagigedo Channel,\\nBehm Canal, Burroughs Bay, and east side of Clarence Strait from the southernmost point of the\\nAlaska-British Columbia boundary line to and including Lemesurier Point; and those islands\\nsouth of Ernest Sound and east of Clarence Strait, including Revillagigedo, Gravina, Annette,\\nand Duke Islands, and other adjacent smaller islands.\\n\\n3.  Wrangell-Petersburg: That area of the mainland north of Election District No. 2 and south of,\\nand including, the area draining into Frederick Sound to Cape Fanshaw on the north, and partly\\nbounded on the north by a line drawn between Cape Fanshaw and the north side of Pybus bay;\\nthat area of Admiralty Island drained by the streams flowing into Frederick Sound; that area of\\nBaranof Island drained by streams flowing into Chatham Strait to but not including that area\\ndrained by streams flowing into Peril Starit; and including Kupereanof. Mitkof, Kulu and\\nCoronation Islands and other smaller adjacent islands.\\n\\n4.  Sitka: Those parts of Admiralty, Chichagof and Baranof Islands not included in Election\\nDistricts No. 3, 5 and 6; and Kruzof Island and other smaller adjacent islands.\\n\\n5.  Juneau: The mainland north of Election District No. 3 up to and including the area drained by\\nstreams flowing into Berners Bay on the north; and that area of Admiralty Island north of\\nElection District No. 3 and drained by streams flowing into Stephens Passage, Seymour Canal,\\nLynn Canal, and their tributaries; and including Douglas, Shelter and Benjamin Islands, and other\\nsmaller adjacent islands.\\n\\n6.  Lynn Canal- Icy Straits: That part of the mainland, not included in Election district No. 5,\\ndrained by streams flowing into Lynn Canal, Glacier Bay, Icy Strait, Cross Sound and their\\ntributaries, and the Pacific Ocean, to and including the area drained into Icy Bay to the west;\\nthose parts of Admiralty and Chichagof Islands drained by streams flowing onto Icy Strait, Cross\\nSound, and their tributaries; and Yakobi, Lemesurier, and Pleasant Islands, and other smaller\\nadjacent islands.\\n\\n7.  Cordova-McCarthy: That area draining into the Gulf of Alaska and Prince William Sound,\\nfrom but not including the area draining into the south side of Icy Bay on the east to Knowles\\nHead on the west, including Hawkins, Hinchinbrook, Kayak, and Middleton Islands, and other\\nsmaller adjacent islands; and that area drained by the Copper River and its tributaries up to and\\nnot including the Tiekel River on the west, and up to and including the Chitina River on the east.\\n\\n8.  Valdez-Chitina-Whittier: That area drained by all streams flowing into Prince William Sound\\nfrom Cape Junken on the the west to Knowles Head on the east, including Montague, Latouche,\\nand Knight Islands, and other smaller adjacent islands; and all of the area drained by the Copper\\nRiver and its tributaries above and including the Tiekel River on the west, and above but not\\nincluding the Chitina River on the east.\\n\\n9.  Pamer-Wasilla-Talkeetna: That area from and including Susitna on the south, drained by the\\nSusitna River and its tributaries; and that area drained by the Little Susitna River from and\\nincluding Flat Lake on the south; and that area draining into Knik Arm from and including Fish\\nCreek and its tributaries on the west side of Knik Arm, to and including the area draining into the\\nKnik River from the north, and from the south to the highway bridge.\\n\\n10.  Anchorage: That area around Turnagain Arm and east of Knik Arm drained by streams\\nflowing into Turnagain Arm and Knik Arm, from and including Placer River on the south, to and\\nincluding the Knik River highway bridge on the north; that area east of Knik Arm and north of\\nCook Inlet drained by Goose Creek and its tributaries on the east, and the Little Susitna River\\nsouth of Flat Lake, and the Susitna River south of but not including Susitna; the area west of\\nCook Inlet drained by Ivan, Lewis, Theodore Rivers and their tributaries, to but not including\\nBeluga River on the south.\\n\\n11.  Seward: That part of the Kenai Peninsula draining into the Gulf of Alaska from Gore Point\\non the west to Cape Junken on the east; and the area draining into Turnagain Arm from and\\nincluding the drainage of Resurrection Creek on the west but not including Placer River on the\\neast, and to and including the confluence of the Kenai and Russian Rivers on the west.\\n\\n12. Kenai-Cook Inlet: That area of Kenai Peninsula drained by streams flowing into the Gulf of\\nAlaska, Cook Inlet, and Turnagain Arm, from and including the area drained into Port Dick on\\nthe south to Gore Point, to but not including Resurrection Creek on the north, and the area east of\\nthe confluence of the Kenai and Russian Rivers; and that area west of Cook Inlet drained by all\\nstreams flowing into Cook Inlet drained by all streams flowing into Cook Inlet from Cape\\nDouglas on the south, to and including the Beluga River; including Elizabeth Island and adjacent\\nIslands in Cook Inlet.\\n\\n13.  Kodiak: The part of the Alaska Peninsula drained by all streams flowing into the Pacific\\nOcean from Cape Douglas on the east to but not including Kujulik Bay on the west; and all\\nadjacent off-shore islands, including the Semidi Islands, and Kodiak, Afognak, Trinity, Chirikof\\nIslands, and other smaller islands in the immediate vicinity, such as the Barren Islands and the\\nChugach Islands.\\n\\n14. Aleutian Islands: The part of the Alaska Peninsula west of including the drainage of Meshik\\nRiver and Kujulik Bay; and all of the Aleutian and Pribilof Islands and adjacent off-shore Islands\\nwest of and excluding the Semidi Islands and Sutwik Island.\\n\\n15. Bristol Bay: The area drained by all streams flowing into Bristol Bay from Cape Newenham\\non the west to but not including the Meshik River on the south.\\n\\n16.  Bethel: The area drained by all streams flowing into Baird Inlet, Etolin Strait, and\\nKuskokwim Bay; that area drained by the Kuskokwim River and its tributaries up to, and\\nincluding, the area drained by the Tuluksak River on the east bank of the Kuskokwim River; and\\nthe area drained by tributaries up to the opposite point on the west bank of the Kuskokwim\\nRiver; and including Nunivak Island and St. Matthew Island and adjacent islands.\\n\\n17.  Kuskokwim: The area drained by the Kuskokwim River and its tributaries above and not\\nincluding the area drained by the Tuluksak River and its tributaries on the east bank; and the area\\ndrained by tributaries above the opposite point on the west bank of the Kuskokwim River; and\\nthe area drained by the Yukon River from Tuckers Slough, to but not including the area drained\\nby the Khotol River.\\n\\n18.  Yukon-Koyokuk: The area drained by all streams and their tributaries flowing into the\\nYukon River from and including Khotol River on the west to and including Hess Creek on the\\neast; and that area drained by the Tanana River and its tributaries up to but not including Clear\\nCreek, near Blair Lakes, on the east; and that part of Goldstream Creek up to but not including\\nNugget Creek and Spinach Creek; and that portion drained by the Chatanika River up to but not\\nincluding Vault Creek.\\n\\n19.  Fairbanks: That area drained by the Tanana River and its tributaries from and including\\nClear Creek, near Blair Lakes, on the west, to the Alaska-Canada boundary on the east; and also\\nthat area drained by Goldstream Creek and its tributaries from, and including, Nugget Creek and\\nSpinach Creek; and that portion drained by the Chatanika River and its tributaries up stream from\\nand including Vault Creek.\\n\\n\\n20.  Upper Yukon: That area drained by the Yukon River and its tributaries from, but not\\nincluding Hess Creek on the west, to the Alaska-Canada boundary; and that area drained by\\nstreams flowing into the Arctic Ocean from, but not including, Kuparuk River on the west, to the\\nAlaska boundary.\\n\\n21.  Barrow: The area drained by all streams flowing into the Arctic Ocean from Cape Lisburne\\non the west, to and including the area drained by the Kuparuk River and its tributaries on the\\neast.\\n\\n22.  Kobuk: The area drained by all streams flowing into the Arctic Ocean and Kotzebue Sound,\\nfrom Cape Lisburne on the north, to and including the area drained by the Goodhope River and\\nits tributaries on the south.\\n\\n23.  Nome: That part of the Seward Peninsula and adjacent areas drained by all streams flowing\\ninto the Kotzebue Sound, Bering Strait and Norton Sound, from, but not including, the area\\ndrained by the Goodhope River and its tributaries on the north, to but not including, the area\\ndrained by the Pastolik River on the south; and King, Little Diomede, St. Lawrence, Sledge, and\\nStuart Islands, as well as adjacent offshore islands.\\n\\n24.  Wade Hampton: The area drained by the lower Yukon River and its tributaries, from\\nTuckers Slough to the mouth of the Bering Sea; and the area drained by all streams flowing into\\nthe Bering Sea and Norton Sound, from and including Hazen Bay on the south, to and including\\nthe Pastolik River on the north.\\n\\n*** SEND ***\\n*** AEND ***\\n *** ASTART 015.0 AK 1959 ***\\nArticle XV\\nSchedule of Transitional Measures\\n \\nTo provide an orderly transition from a territorial to a state form of government, it is declared and\\nordained:\\n\\n*** SSTART 001.0 015.0 0 AK 1959 ***\\n\\nSection 1. Continuance of Laws. All laws in force in the Territory of Alaska on the effective date\\nof this constitution and consistent therewith shall continue in force until they expire by their own\\nlimitation, are amended, or repealed.\\n\\n*** SEND ***\\n*** SSTART 002.0 015.0 0 AK 1959 ***\\n.0Section 2. Saving of Existing Rights and Liabilities. Except as otherwise provided in this\\nconstitution, all rights, titles, actions, suits, contracts, and liabilities and all civil, criminal, or\\nadministrative proceedings shall continue unaffected by the change from territorial to state\\ngovernment, and the State shall be the legal successor to the Territory in these matters.\\n\\n*** SEND ***\\n*** SSTART 003.0 015.0 0 AK 1959 ***\\n\\nSection 3. Local Government. Cities, school districts, health districts, public utility districts, and\\nother local subdivisions of government existing on the effective date of this constitution shall\\ncontinue to exercise their powers and functions under existing law, pending enactment of\\nlegislation to carry out the provisions of this constitution. New local subdivisions of government\\nshall be created only in accordance with this constitution.\\n\\n*** SEND ***\\n*** SSTART 004.0 015.0 0 AK 1959 ***\\n\\nSection 4. Continuance of Office. All officers of the Territory, or under its laws, on the effective\\ndate of this constitution shall continue to perform the duties of their offices in a manner\\nconsistent with this constitution until they are superseded by officers of the State.\\n\\n*** SEND ***\\n*** SSTART 005.0 015.0 0 AK 1959 ***\\n\\nSection 5. Corresponding Qualifications. Residence, citizenship, or other qualifications under the\\nTerritory may be used toward the fulfillment of corresponding qualifications required by this\\nconstitution.\\n\\n*** SEND ***\\n*** SSTART 006.0 015.0 0 AK 1959 ***\\n\\nSection 6. Governor to Proclaim Election. When the people of the Territory ratify this\\nconstitution and it is approved by the duly constituted authority of the United States, the governor\\nof the Territory shall, within thirty days after receipt of the official notification of such approval,\\nissue a proclamation and take necessary measures to hold primary and general elections for all\\nstate elective offices provided for by this constitution.\\n\\n*** SEND ***\\n*** SSTART 007.0 015.0 0 AK 1959 ***\\n\\nSection 7. First State Elections. The primary election shall take place not less than forty nor more\\nthan ninety days after the proclamation by the governor of the Territory. The general election\\nshall take place not less than ninety days after the primary election. The elections shall be\\ngoverned by this constitution and by applicable territorial laws.\\n\\n*** SEND ***\\n*** SSTART 008.0 015.0 0 AK 1959 ***\\n\\nSection 8. United States Senators and Representative. The officers to be elected at the first\\ngeneral election shall include two senators and one representative to serve in the Congress of the\\nUnited States, unless senators and a representative have been previously elected and seated. One\\nsenator shall be elected for the long term and one senator for the short term, each term to expire\\non the third day of January in an odd-numbered year to be determined by authority of the United\\nStates. The term of the representative shall expire on the third day of January in the\\nodd-numbered year immediately following his assuming office. If the first representative is\\nelected in an even-numbered year to take office in that year, a representative shall be elected at\\nthe same time to fill the full term commencing on the third day of January of the following year,\\nand the same person may be elected for both terms.\\n\\n*** SEND ***\\n*** SSTART 009.0 015.0 0 AK 1959 ***\\n\\nSection 9. Terms of First Governor and Secretary of state. The First Governor and Secretary of\\nstate shall hold office for a term beginning with the day on which they assume office and ending\\nat noon on the first Monday in December of the even-numbered year following the next\\npresidential election. This term shall count as a full term for purposes of determining eligibility\\nfor reelection only if it is four years or more in duration\\n\\n*** SEND ***\\n*** SSTART 010.0 015.0 0 AK 1959 ***\\n\\nSection 10. Election of First Senators. At the first State general election, one senator shall be\\nchosen for a two-year term from each of the following senate districts, described in Section 2 of\\nArticle XIV: A, B, D, E, G, I, J, L, N, and O. At the same election, one senator shall be chosen\\nfor a four-year term from each of the following senate districts described in Section 2 of Article\\nXIV: A, C, E, F, H, J, K, M, N, and P.\\n\\n*** SEND ***\\n*** SSTART 011.0 015.0 0 AK 1959 ***\\n\\nSection 11. Terms of First State Legislators. The first State legislators shall hold office for a term\\nbeginning with the day on which they assume office and ending at noon on the fourth Monday in\\nJanuary after the next general election, except that senators elected for four-year terms shall serve\\nan additional two years thereafter. If the first general election is held in an even-numbered year, it\\nshall be deemed to be the general election for that year.\\n\\n*** SEND ***\\n*** SSTART 012.0 015.0 0 AK 1959 ***\\n\\nSection 12. Election Returns. The returns of the first general election shall be made, canvassed,\\nand certified in the manner prescribed by law. The governor of the Territory shall certify the\\nresults to the President of the United States.\\n*** SEND ***\\n\\n*** SSTART 013.0 015.0 0 AK 1959 ***\\n\\nSection 13. Assumption of Office. When the President of the United States issues a proclamation\\nannouncing the results of the election, and the State has been admitted into the Union, the\\nofficers elected and qualified shall assume office.\\n\\n*** SEND ***\\n*** SSTART 014.0 015.0 0 AK 1959 ***\\n\\nSection 14. First Session of Legislature. The governor shall call a special session of the first state\\nlegislature within thirty days after the presidential proclamation unless a regular session of the\\nlegislature falls within that period. The special session shall not be limited as to duration.\\n\\n*** SEND ***\\n*** SSTART 015.0 015.0 0 AK 1959 ***\\n\\nSection 15. Office Holding by First Legislators. The provisions of Section 5 of Article II shall not\\nprohibit any member of the first State legislature from holding any office or position created\\nduring his first term.\\n\\n*** SEND ***\\n*** SSTART 016.0 015.0 0 AK 1959 ***\\n\\nSection 16. First Judicial Council. The first members of the judicial council shall,\\nnotwithstanding Section 8 of Article IV, be appointed for terms as follows: three attorney\\nmembers for one, three, and five years respectively, and three non-attorney members for two,\\nfour, and six years respectively. The six members so appointed shall, in accordance with Section\\n5 of Article IV, submit to the governor nominations to fill the initial vacancies on the superior\\ncourt and the supreme court, including the office of chief justice. After the initial vacancies on\\nthe superior and supreme courts are filled, the chief justice shall assume his seat on the judicial\\ncouncil.\\n\\n*** SEND ***\\n*** SSTART 017.0 015.0 0 AK 1959 ***\\n\\nSection 17. Transfer of Court Jurisdiction. Until the courts provided for in Article IV are\\norganized, the courts, their jurisdiction, and the judicial system shall remain as constituted on the\\ndate of admission unless otherwise provided by law. When the State courts are organized, new\\nactions shall be commenced and filed therein, and all causes, other than those under the\\njurisdiction of the United States, pending in the courts existing on the date of admission, shall be\\ntransferred to the proper state court as though commenced, filed, or lodged in those courts in the\\nfirst instance, except as otherwise provided by law.\\n\\n*** SEND ***\\n*** SSTART 018.0 015.0 0 AK 1959 ***\\n\\nSection 18. Territorial Assets and Liabilities. The debts and liabilities of the Territory of Alaska\\nshall be assumed and paid by the State, and debts owed to the Territory shall be collected by the\\nState. Assets and records of the Territory shall become the property of the State.\\n\\n*** SEND ***\\n*** SSTART 019.0 015.0 0 AK 1959 ***\\n\\nSection 19. First Reapportionment. The first reapportionment of the house of representatives\\nshall be made immediately following the official reporting of the 1960 decennial census, or after\\nthe first regular legislative session if the session occurs thereafter, notwithstanding the provision\\nas to time contained in Section 3 of Article VI. All other provisions of Article VI shall apply in\\nthe first reapportionment.\\n*** SEND ***\\n\\n*** SSTART 020.0 015.0 0 AK 1959 ***\\n\\nSection 20. State Capital. The capital of the State of Alaska shall be at Juneau.\\n\\n*** SEND ***\\n*** SSTART 021.0 015.0 0 AK 1959 ***\\n\\nSection 21. Seal. The seal of the Territory, substituting the word \"State\" for \"Territory,\" shall be\\nthe seal of the State.\\n\\n*** SEND ***\\n*** SSTART 022.0 015.0 0 AK 1959 ***\\n\\nSection 22. Flag. The flag of the Territory shall be the flag of the State.\\n\\n*** SEND ***\\n*** SSTART 023.0 015.0 0 AK 1959 ***\\n\\nSection 23. Special Voting Provision. Citizens who legally voted in the general election of\\nNovember 4, 1924, and who meet the residence requirements for voting, shall be entitled to vote\\nnotwithstanding the provisions of Section 1 of Article V.\\n\\n*** SEND ***\\n*** SSTART 024.0 015.0 0 AK 1959 ***\\n\\nSection 24. Ordinances. Ordinance No. 1 on ratification of the constitution, Ordinance No. 2 on\\nthe Alaska-Tennessee Plan, and Ordinance No. 3 on the abolition of fish traps, adopted by the\\nAlaska Constitutional Convention and appended to this constitution, shall be submitted to the\\nvoters and if ratified shall become effective as provided in each ordinance.\\n\\n*** SEND ***\\n*** SSTART 025.0 015.0 0 AK 1959 ***\\n\\nSection 25. Effective Date. This constitution shall take effect immediately upon the admission of\\nAlaska into the Union as a state.\\n\\n*** SEND ***\\n*** AEND ***\\n\\n*** ASTART 9016.0 AK 1959 ***           \\n\\nAgreed upon by the delegates in Constitutional Convention assembled at the University of\\nAlaska, this fifth day of February, in the year of our Lord one thousand nine hundred and\\nfifty-six, and of the Independence of the United States the one hundred and eightieth.\\n\\nWm. A. Egan\\nPresident of the Convention\\n \\nR. Rolland Armstrong\\nDorothy J. Awes\\nFrank Barr\\nJohn C. Boswell\\nSeaborn J. Buckalew, Jr.\\nJohn B. Coghill\\nE. B. Collins\\nGeorge D. Cooper\\nJohn M. Cross\\nEdward V. Davis\\nJames P. Doogan\\nTruman C. Emberg\\nHelen Fischer\\nVictor Fischer\\nDouglas Gray\\nThomas C. Harris\\nJohn S. Hellenthal\\nMildred R. Hermann\\nHerb Hilscher\\nJack Hinckel\\nJames Hurley\\nMaurice T. Johnson\\nYule F. Kilcher\\nLeonard H. King\\nWilliam W. Knight\\nMaynard D. Londborg\\nSteve McCutcheon\\nGeorge M. McLaughlin\\nRobert J. McNealy\\nJohn A. McNees\\nM. R. Marston\\nIrwin L. Metcalf\\nLeslie Nerland\\nJames Nolan\\nKatherine D. Nordale\\nFrank Peratrovich\\nChris Poulsen\\nPeter L. Reader\\nBurke Riley\\nRalph J. Rivers\\nVictor C. Rivers\\nJohn H. Rosswog\\nW. O. Smith\\nB. D. Stewart\\nGeorge Sundborg\\nDora M. Sweeney\\nWarren A. Taylor\\nH. R. Vanderleest\\nM. J. Walsh\\nBarrie M. White\\nEldor R. Lee\\n\\n\\nATTEST:\\nThomas B. Stewart\\nSecretary of the Convention\\n\\n*** AEND ***\\n\\n*** MSTART 001 001.0 005.0 0 AK 1959 1966 ***\\n\\nSection 1. Qualified Voters. Every citizen of the United States who is at least nineteen years of\\nage, who meets registration residency requirements which may be prescribed by law, and who is\\nqualified to vote under this article, may vote in any state or local election. A voter shall have\\nbeen, immediately preceding the election, a thirty day resident of the election district in which he\\nseeks to vote, except that for purposes of voting for President and Vice President of the United\\nStates other residency requirements may be prescribed by law. A voter shall be able to read or\\nspeak the English language as prescribed by law, unless prevented by physical disability. \\nAdditional voting qualifications may be prescribed by law for bond issue elections of political\\nsubdivisions. \\n\\n[As amended October 9, 1966.]\\n\\n*** MEND ***\\n\\n*** MSTART 002 010.0 004.0 0 AK 1959 1968 ***\\n\\nSection 10. Commission on Judicial Qualifications. The Commission on Judicial Conduct shall\\nconsist of nine members, as follows: one justice of the supreme court, elected by the justices of\\nthe supreme court; three judges of the superior court, elected by the judges of the superior court;\\none judge of the district court elected by the judges of the district court; two members who have\\npracticed law in this state for ten years, appointed by the governing body of the organized bar;\\nand two persons who are not judges, retired judges, or members of the state bar, appointed by the\\ngovernor and subject to confirmation by a majority of the members of the legislature in joint\\nsession. In addition to being subject to impeachment under Section 12 of this article, a justice or\\njudge may be disqualified from acting as such and may be suspended, removed from office,\\nretired, or censured by the supreme court upon the recommendation of the commission. The\\npowers and duties of the commission and the bases for judicial disqualification shall be\\nestablished by law. \\n\\n[As amended October 11, 1968.]\\n\\n*** MEND ***\\n\\n*** MSTART 003 013.0 004.0 0 AK 1959 1968 ***\\n\\nSection 13. Compensation. Justices, judges, and members of the judicial council and the\\nCommission on Judicial Qualifications shall receive compensation as prescribed by law.\\nCompensation of justices and judges shall not be diminished during their terms of office, unless\\nby general law applying to all salaried officers of the State. \\n\\n[As amended October 11, 1968.]\\n\\n*** MEND ***\\n\\n*** MSTART 004 007.0 003.0 0 AK 1959 1970 ***\\n\\nSection 7. Lieutenant Governor Duties. There shall be a lieutenant governor. He shall have the\\nsame qualifications as the governor and serve for the same term. He shall perform such duties as\\nmay be prescribed by law and as may be delegated to him by the governor. \\n\\n[As amended October 10, 1970.]\\n\\n*** MEND ***\\n\\n*** MSTART 005 008.0 003.0 0 AK 1959 1970 ***\\n\\nSection 8. Same - Election. The lieutenant governor shall be nominated in the manner provided\\nby law for nominating candidates for other elective offices. In the general election the votes cast\\nfor a candidate for governor shall be considered as cast also for the candidate for lieutenant\\ngovernor running jointly with him. The candidate whose name appears on the ballot jointly with\\nthat of the successful candidate for governor shall be elected lieutenant governor. \\n\\n[As amended October 10, 1970.]\\n\\n*** MEND ***\\n\\n*** MSTART 006 009.0 003.0 0 AK 1959 1970 ***\\n\\nSection 9. Acting Governor. In case of the temporary absence of the governor from office, the\\nlieutenant governor shall serve as acting governor. \\n\\n[As amended October 10, 1970.]\\n\\n*** MEND ***\\n\\n*** MSTART 007 010.0 003.0 0 AK 1959 1970 ***\\n\\nSection 10. Succession; Failure to Qualify. If the governor-elect dies, resigns, or is disqualified,\\nthe lieutenant governor elected with him shall succeed to the office of governor for the full term.\\nIf the governor- elect fails to assume office for any other reason, the lieutenant governor elected\\nwith him shall serve as acting governor, and shall succeed to the office if the governor-elect does\\nnot assume his office within six months of the beginning of the term. \\n\\n[As amended October 10, 1970.]\\n\\n*** MEND ***\\n\\n*** MSTART 008 011.0 003.0 0 AK 1959 1970 ***\\n\\nSection 11. Vacancy. In case of a vacancy in the office of governor for any reason, the lieutenant\\ngovernor shall succeed to the office for the remainder of the term. \\n\\n[As amended October 10, 1970.]\\n\\n*** MEND ***\\n\\n*** MSTART 009 013.0 003.0 0 AK 1959 1970 ***\\n.0Section 13. Further Succession. Provision shall be made by law for succession to the office of\\ngovernor and for an acting governor in the event that the lieutenant governor is unable to succeed\\nto the office or act as governor. No election of a lieutenant governor shall be held except at the\\ntime of electing a governor. \\n\\n[As amended October 10, 1970.]\\n\\n*** MEND ***\\n\\n*** MSTART 010 014.0 003.0 0 AK 1959 1970 ***\\n\\nSection 14. Title and Authority of Successor. When the lieutenant governor succeeds to the\\noffice of governor, he shall have the title, powers, duties and emoluments of that office. \\n\\n[As amended October 10, 1970.]\\n\\n*** MEND ***\\n\\n*** MSTART 011 015.0 003.0 0 AK 1959 1970 ***\\n\\nSection 15. Compensation. The compensation of the governor and the lieutenant governor shall\\nbe prescribed by law and shall not be diminished during their term of office, unless by general\\nlaw applying to all salaried officers of the State. \\n\\n[As amended October 10, 1970.]\\n\\n*** MEND ***\\n\\n*** MSTART 013 002.0 004.0 0 AK 1959 1970 ***\\n\\nSection 2. Supreme Court. \\n\\n(a) The supreme court shall be the highest court of the State, with final appellate jurisdiction. It\\nshall consist of three justices, one of whom is chief justice. The number of justices may be\\nincreased by law upon the request of the supreme court. \\n\\n(b) The chief justice shall be selected from among the justices of the supreme court by a majority\\nvote of the justices. His term of office as chief justice is three years. A justice may serve more\\nthan one term as chief justice but he may not serve consecutive terms in that office. \\n\\n[As amended October 10, 1970.]\\n\\n*** MEND ***\\n\\n*** MSTART 014 016.0 004.0 0 AK 1959 1970 ***\\n.0Section 16. Court Administration. The chief justice of the supreme court shall be the\\nadministrative head of all courts. He may assign judges from one court or division thereof to\\nanother for temporary service. The chief justice shall, with the approval of the supreme court,\\nappoint an administrative director to serve at the pleasure of the supreme court and to supervise\\nthe administrative operations of the judicial system. \\n\\n[As amended October 10, 1970.]\\n\\n*** MEND ***\\n\\n*** MSTART 015 001.0 005.0 0 AK 1959 1970 ***\\n\\nSection 1. Qualified Voters. Every citizen of the United States who is at least eighteen years of\\nage, who meets registration requirements which may be prescribed by law, and who is qualified\\nto vote under this article, may vote in any state or local election. A voter shall have been,\\nimmediately preceding the election, for one year a resident of Alaska and for thirty days a\\nresident of the election district in which he seeks to vote, except that for purposes of voting for\\nPresident and Vice President of the United States other residency requirements may be prescribed\\nby law. Additional voting qualifications may be prescribed by law for bond issue elections of\\npolitical subdivisions. \\n\\n[As amended October 10, 1970.]\\n\\nNote: The 1970 text of Article 5, Section 1 reflects two distinct amendments which both became\\neffective on the same date.  The amendment proposed by legislation in 1969 established the\\nvoting age at 18 years.  The amendment proposed by legislation in 1970 eliminated the\\nrequirement of ability to read or speak English as prerequisite to voting.\\n\\n*** MEND ***\\n\\n*** MSTART 016 002.0 011.0 0 AK 1959 1970 ***\\n\\nSection 2. Application. An initiative or referendum is proposed by an application containing the\\nbill to be initiated or the act to be referred. The application shall be signed by not less than one\\nhundred qualified voters as sponsors, and shall be filed with the lieutenant governor. If he finds it\\nin proper form he shall so certify. Denial of certification shall be subject to judicial review.\\n\\n[As amended October 10, 1970.]\\n\\n*** MEND ***\\n\\n*** MSTART 017 003.0 011.0 0 AK 1959 1970 ***\\n\\nSection 3. Petition. After certification of the application, a petition containing a summary of the\\nsubject matter shall be prepared by the lieutenant governor for circulation by the sponsors. If\\nsigned by qualified voters, equal in number to ten per cent of those who voted in the preceding\\ngeneral election and resident in at least two-thirds of the election districts of the State, it may be\\nfiled with the lieutenant governor.\\n\\n[As amended October 10, 1970.]\\n\\n*** MEND ***\\n\\n*** MSTART 018 004.0 011.0 0 AK 1959 1970 ***\\n\\nSection 4. Initiative Election. An initiative petition may be filed at any time. The lieutenant\\ngovernor shall prepare a ballot title and proposition summarizing the proposed law, and shall\\nplace them on the ballot for the first statewide election held more than one hundred- twenty days\\nafter adjournment of the legislative session following the filing. If, before the election,\\nsubstantially the same measure has been enacted, the petition is void.\\n\\n[As amended October 10, 1970.]\\n\\n*** MEND ***\\n\\n*** MSTART 019 005.0 011.0 0 AK 1959 1970 ***\\n\\nSection 5. Referendum Election. A referendum petition may be filed only within ninety days after\\nadjournment of the legislative session at which the act was passed. The lieutenant governor shall\\nprepare a ballot title and proposition summarizing the act and shall place them on the ballot for\\nthe first statewide election held more than one hundred-eighty days after adjournment of that\\nsession.\\n\\n[As amended October 10, 1970.]\\n\\n*** MEND ***\\n\\n*** MSTART 020 006.0 011.0 0 AK 1959 1970 ***\\n\\nSection 6. Enactment. If a majority of the votes cast on the proposition favor its adoption, the\\ninitiated measure is enacted. If a majority of the votes cast on the proposition favor the rejection\\nof an act referred, it is rejected. The lieutenant governor shall certify the election returns. An\\ninitiated law becomes effective ninety days after certification, is not subject to veto, and may not\\nbe repealed by the legislature within two years of its effective date. It may be amended at any\\ntime. An act rejected by referendum is void thirty days after certification. Additional procedures\\nfor the initiative and referendum may be prescribed by law.\\n[As amended October 10, 1970.]\\n\\n*** MEND ***\\n\\n*** MSTART 021 001.0 013.0 0 AK 1959 1970 ***\\n\\nSection 1. Amendments.  Amendments to this constitution may be proposed by a two-thirds vote\\nof each house of the legislature. The lieutenant governor shall prepare a ballot title and\\nproposition summarizing each proposed amendment, and shall place them on the ballot for the\\nnext statewide election. If a majority of the votes cast on the proposition favor the amendment, it\\nshall be adopted. Unless otherwise provided in the amendment, it becomes effective thirty days\\nafter the certification of the election returns by the lieutenant governor. .0\\n\\n[As amended October 10, 1970.]\\n\\n*** MEND ***\\n\\n*** MSTART 022 003.0 013.0 0 AK 1959 1970 ***\\n\\nSection 3. Call by Referendum. If during any ten-year period a constitutional convention has not\\nbeen held, the lieutenant governor shall place on the ballot for the next general election the\\nquestion: \"Shall there be a Constitutional Convention?\" If a majority of the votes cast on the\\nquestion are in the negative, the question need not be placed on the ballot until the end of the\\nnext ten-year period. If a majority of the votes cast on the question are in the affirmative,\\ndelegates to the convention shall be chosen at the next regular statewide election, unless the\\nlegislature provides for the election of the delegates at a special election. The lieutenant governor\\nshall issue the call for the convention. Unless other provisions have been made by law, the call\\nshall conform as nearly as possible to the act calling the Alaska Constitutional Convention of\\n1955, including, but not limited to, number of members, districts, election and certification of\\ndelegates, and submission and ratification of revisions and ordinances. The appropriation\\nprovisions of the call shall be self-executing and shall constitute a first claim on the state\\ntreasury. \\n\\n[As amended October 10, 1970.]\\n\\n*** MEND ***\\n\\n*** MSTART 023 009.0 015.0 0 AK 1959 1970 ***\\n\\nSection 9. Terms of First Governor and Lieutenant Governor. The First Governor and Lieutenant\\nGovernor shall hold office for a term beginning with the day on which they assume office and\\nending at noon on the first Monday in December of the even-numbered year following the next\\npresidential election. This term shall count as a full term for purposes of determining eligibility\\nfor reelection only if it is four years or more in duration\\n\\n[As amended October 10, 1970.]\\n\\n*** MEND ***\\n\\n*** MSTART 024 003.0 001.0 0 AK 1959 1972 ***\\n\\nSection 3. Civil Rights. No person is to be denied the enjoyment of any civil or political right\\nbecause of race, color, creed, sex, or national origin. The legislature shall implement this section.\\n\\n[As amended October 14, 1972.]\\n\\n*** MEND ***\\n\\n*** MSTART 025 022.0 001.0 0 AK 1959 1972 ***\\n\\nSection 22. Right of Privacy. The right of the people to privacy is recognized and shall not be\\ninfringed. The legislature shall implement this section.\\n\\n[Adopted October 14, 1972.]\\n\\n*** MEND ***\\n\\n\\n*** MSTART 026 015.0 008.0 0 AK 1959 1972 ***\\n\\nSection 15. No Exclusive Right of Fishery. No exclusive right or special privilege of fishery shall\\nbe created or authorized in the natural waters of the State. This section does not restrict the power\\nof the State to limit entry into any fishery for purposes of resource conservation, to prevent\\neconomic distress among fishermen and those dependent upon them for a livelihood and to\\npromote the efficient development of aquaculture in the State.\\n\\n[As amended October 14, 1972.]\\n\\n*** MEND ***\\n\\n*** MSTART 029 001.0 005.0 0 AK 1959 1972 ***\\n\\nSection 1. Qualified Voters. Every citizen of the United States who is at least eighteen years of\\nage, who meets registration residency requirements which may be prescribed by law, and who is\\nqualified to vote under this article, may vote in any state or local election. A voter shall have\\nbeen, immediately preceding the election, a thirty day resident of the election district in which he\\nseeks to vote, except that for purposes of voting for President and Vice President of the United\\nStates other residency requirements may be prescribed by law. Additional voting qualifications\\nmay be prescribed by law for bond issue elections of political subdivisions. \\n\\n[As amended October 14, 1972.]\\n\\n*** MEND ***\\n\\n*** MSTART 030 004.0 010.0 0 AK 1959 1972 ***\\n\\nSection 4. Assembly. The governing body of the organized borough shall be the assembly, and its\\ncomposition shall be established by law or charter. \\n\\n[As amended October 14, 1972.]\\n\\n*** MEND ***\\n\\n*** MSTART 031 001.0 013.0 0 AK 1959 1974 ***\\n\\nSection 1. Amendments to this constitution may be proposed by a two-thirds vote of each house\\nof the legislature. The lieutenant governor shall prepare a ballot title and proposition\\nsummarizing each proposed amendment, and shall place them on the ballot for the next general\\nelection. If a majority of the votes cast on the proposition favor the amendment, it shall be\\nadopted. Unless otherwise provided in the amendment, it becomes effective thirty days after the\\ncertification of the election returns by the lieutenant governor. .0\\n\\n[As amended October 12, 1974.]\\n\\n*** MEND ***\\n\\n*** MSTART 032 009.0 002.0 0 AK 1959 1976 ***\\n\\nSection 9. Special Sessions. Special sessions may be called by the governor or by vote of\\ntwo-thirds of the legislators. The vote may be conducted by the legislative council or as\\nprescribed by law. At special sessions called by the governor, legislation shall be limited to\\nsubjects designated in his proclamation calling the session, to subjects presented by him, and the\\nreconsideration of bills vetoed by him after adjournment of the last regular session. Special\\nsessions are limited to thirty days..0\\n\\n[As amended December 23, 1976.]\\n\\n*** MEND ***\\n\\n*** MSTART 033 016.0 002.0 0 AK 1959 1976 ***\\n\\nSection 16.  Upon receipt of a veto message during a regular session of the legislature, the\\nlegislature shall meet immediately in joint session and reconsider passage of the vetoed bill or\\nitem.  Bills to raise revenue and appropriation bills or items, although vetoed, become law by an\\naffirmative vote of three-fourths of the membership of the legislature.  Bills vetoed after the\\nadjournment of the first regular session of the legislature shall be reconsidered by the legislature\\nsitting as one body no later than the fifth day of the next regular or special session of that\\nlegislature.  Bills vetoed after the adjournment of the second regular session shall be reconsidered\\nby the legislature sitting as one body no later than the fifth day of a special session of that\\nlegislature, if one is called. The vote on reconsideration of a vetoed bill shall be entered on the\\njournals of both houses.\\n\\n[As amended December 23, 1976.]\\n\\n*** MEND ***\\n\\n*** MSTART 034 007.0 009.0 0 AK 1959 1977 ***\\n\\nSection 7. Dedicated Funds. The proceeds of any state tax or license shall not be dedicated to any\\nspecial purpose, except as provided in Section 15 of this article or when required by the federal\\ngovernment for state participation in federal programs. This provision shall not prohibit the\\ncontinuance of any dedication for special purposes existing upon the date of ratification of this\\nsection by the people of Alaska. \\n.0\\n[As amended February 21, 1977.]\\n\\n*** MEND ***.0\\n\\n*** MSTART 035 015.0 009.0 0 AK 1959 1977 ***\\n\\nSection 15. Alaska Permanent Fund. At least twenty-five per cent of all mineral lease rentals,\\nroyalties, royalty sale proceeds, federal mineral revenue sharing payments and bonuses received\\nby the State shall be placed in a permanent fund, the principal of which shall be used only for\\nthose income-producing investments specifically designated by law as eligible for permanent\\nfund investments. All income from the permanent fund shall be deposited in the general fund\\nunless otherwise provided by law. .0\\n\\n[As adopted February 21, 1977.]\\n\\n*** MEND ***.0\\n\\n*** MSTART 036 010.0 004.0 0 AK 1959 1982 ***\\n\\nSection 10. Commission on Judicial Conduct. The Commission on Judicial Conduct shall consist\\nof nine members, as follows: three persons who are justices or judges of state courts, elected by\\nthe justices and judges of state courts; three members who have practiced law in this state for ten\\nyears, appointed by the governor from nominations made by the governing body of the organized\\nbar and subject to confirmation by a majority of the members of the legislature in joint session;\\nand three persons who are not judges, retired judges, or members of the state bar, appointed by\\nthe governor and subject to confirmation by a majority of the members of the legislature in joint\\nsession. In addition to being subject to impeachment under Section 12 of this article, a justice or\\njudge may be disqualified from acting as such and may be suspended, removed from office,\\nretired, or censured by the supreme court upon the recommendation of the commission. The\\npowers and duties of the commission and the bases for judicial disqualification shall be\\nestablished by law. .0\\n\\n[As amended December 24, 1982.]\\n\\n*** MEND ***\\n\\n*** MSTART 037 008.0 009.0 0 AK 1959 1982 ***\\n\\nSection 8. State Debt. No state debt shall be contracted unless authorized by law for capital\\nimprovements or unless authorized by law for housing loans for veterans, and ratified by a\\nmajority of the qualified voters of the State who vote on the question. The State may, as provided\\nby law and without ratification, contract debt for the purpose of repelling invasion, suppressing\\ninsurrection, defending the State in war, meeting natural disasters, or redeeming indebtedness\\noutstanding at the time this constitution becomes effective. .0\\n\\n[As amended December 24, 1982.]\\n\\n*** MEND ***.0\\n\\n*** MSTART 038 016.0 009.0 0 AK 1959 1982 ***\\n\\nSection 16. Appropriation Limit. Except for appropriations for Alaska permanent fund dividends,\\nappropriations of revenue bond proceeds, appropriations required to pay the principal and interest\\non general obligation bonds, and appropriations of money received from a nonstate source in\\ntrust for a specific purpose, including revenues of a public enterprise or public corporation of the\\nState that issues revenue bonds, appropriations from the treasury made for a fiscal year shall not\\nexceed $2,500,000,000 by more than the cumulative change, derived from federal indices as\\nprescribed by law, in population and inflation since July 1, 1981. Within this limit, at least\\none-third shall be reserved for capital projects and loan appropriations. The legislature may\\nexceed this limit in bills for appropriations to the Alaska permanent fund and in bills for\\nappropriations for capital projects, whether of bond proceeds or otherwise, if each bill is\\napproved by the governor, or passed by affirmative vote of three-fourths of the membership of\\nthe legislature over a veto or item veto, or becomes law without signature, and is also approved\\nby the voters as prescribed by law. Each bill for appropriations for capital projects in excess of\\nthe limit shall be confined to capital projects of the same type, and the voters shall, as provided\\nby law, be informed of the cost of operations and maintenance of the capital projects. No other\\nappropriation in excess of this limit may be made except to meet a state of disaster declared by\\nthe governor as prescribed by law. The governor shall cause any unexpended and unappropriated\\nbalance to be invested so as to yield competitive market rates to the treasury.\\n.0\\n[Adopted December 24, 1982.]\\n\\n*** MEND ***\\n\\n*** MSTART 039 026.0 015.0 0 AK 1959 1982 ***\\n\\nSection 26. Appropriations for Relocation of the Capital. If a majority of those voting on the\\nquestion at the general election in 1982 approve the ballot proposition for the total cost to the\\nState of providing for relocation of the capital, no additional voter approval of appropriations for\\nthat purpose within the cost approved by the voters is required under the 1982 amendment\\nlimiting increases in appropriations (art. IX, sec. 16).\\n.0\\n[As adopted December 24, 1982.]\\n\\n*** MEND ***.0\\n\\n*** MSTART 040 027.0 015.0 0 AK 1959 1982 ***\\n\\nSection 27. Reconsideration of Amendment Limiting Increases in Appropriations. If the 1982\\namendment limiting appropriation increases (art. IX, sec. 16) is adopted, the lieutenant governor\\nshall cause the ballot title and proposition for the amendment to be placed on the ballot again at\\nthe general election in 1986. If the majority of those voting on the proposition in 1986 rejects the\\namendment, it shall be repealed..0\\n\\n[As adopted December 24, 1982.]\\n\\n*** MEND ***\\n\\n*** MSTART 041 028.0 015.0 0 AK 1959 1982 ***\\n\\nSection 28. Application of Amendment. The 1982 amendment limiting appropriation increases\\n(art. IX, sec.16) applies to appropriations made for fiscal year 1984 and thereafter.\\n.0\\n[As adopted December 24, 1982.]\\n\\n*** MEND ***.0\\n\\n*** MSTART 042 008.0 002.0 0 AK 1959 1984 ***\\n\\nSection 8. Regular Sessions. The legislature shall convene in regular session each year on the\\nfourth Monday in January, but the month and day may be changed by law. The legislature shall\\nadjourn from regular session no later than one hundred twenty consecutive calendar days from\\nthe date it convenes except that a regular session may be extended once for up to ten consecutive\\ncalendar days. An extension of the regular session requires the affirmative vote of at least\\ntwo-thirds of the membership of each house of the legislature. The legislature shall adopt as part\\nof the uniform rules of procedure deadlines for scheduling session work not inconsistent with\\nprovisions controlling the length of the session. \\n.0\\n[As amended December 30, 1984.]\\n\\n*** MEND ***\\n\\n*** MSTART 043 023.0 001.0 0 AK 1959 1989 ***\\n\\nSection 23. Resident Preference. This constitution does not prohibit the State from granting\\npreferences, on the basis of Alaska residence, to residents of the State over nonresidents to the\\nextent permitted by the Constitution of the United States.\\n.0\\n[Adopted January 4, 1989.]\\n\\n*** MEND ***\\n\\n*** MSTART 044 017.0 009.0 0 AK 1959 1991 ***\\n\\nSection 17. Budget Reserve Fund. (a) There is established as a separate fund in the State treasury\\nthe budget reserve fund. Except for money deposited into the permanent fund under Section 15\\nof this article, all money received by the State after July 1, 1990, as a result of the termination,\\nthrough settlement or otherwise, of an administrative proceeding or of litigation in a State or\\nfederal court involving mineral lease bonuses, rentals, royalties, royalty sale proceeds, federal\\nmineral revenue sharing payments or bonuses, or involving taxes imposed on mineral income,\\nproduction, or property, shall be deposited in the budget reserve fund. Money in the budget\\nreserve fund shall be invested so as to yield competitive market rates to the fund. Income of the\\nfund shall be retained in the fund. Section 7 of this article does not apply to deposits made to the\\nfund under this subsection. Money may be appropriated from the fund only as authorized under\\n(b) or (c) of this section.\\n\\n(b) If the amount available for appropriation for a fiscal year is less than the amount appropriated\\nfor the previous fiscal year, an appropriation may be made from the budget reserve fund.\\nHowever, the amount appropriated from the fund under this subsection may not exceed the\\namount necessary, when added to other funds available for appropriation, to provide for total\\nappropriations equal to the amount of appropriations made in the previous calendar year for the\\nprevious fiscal year.\\n\\n(c) An appropriation from the budget reserve fund may be made for any public purpose upon\\naffirmative vote of three-fourths of the members of each house of the legislature.\\n\\n(d) If an appropriation is made from the budget reserve fund, until the amount appropriated is\\nrepaid, the amount of money in the general fund available for appropriation at the end of each\\nsucceeding fiscal year shall be deposited in the budget reserve fund. The legislature shall\\nimplement this subsection by law..0\\n\\n[Adopted January 2, 1991.]\\n\\n*** MEND ***\\n\\n*** MSTART 045 012.0 001.0 0 AK 1959 1994 ***\\n\\nSection 12. Criminal Administration. Excessive bail shall not be required, nor excessive fines\\nimposed, nor cruel and unusual punishments inflicted. Criminal administration shall be based\\nupon the following: the need for protecting the public, community condemnation of the offender,\\nthe rights of victims of crimes, restitution from the offender, and the principle of reformation.0.\\n\\n[As amended December 30, 1994.]\\n\\n*** MEND ***\\n\\n*** MSTART 046 019.0 001.0 0 AK 1959 1994 ***\\n\\nSection 19. Right to Keep and Bear Arms. A well- regulated militia being necessary to the\\nsecurity of a free state, the right of the people to keep and bear arms shall not be infringed. The\\nindividual right to keep and bear arms shall not be denied or infringed by the State or a political\\nsubdivision of the State..0\\n\\n[As amended December 30, 1994.]\\n\\n*** MEND ***.0\\n\\n*** MSTART 047 024.0 001.0 0 AK 1959 1994 ***\\n\\nSection 24. Rights of Crime Victims. Crime victims, as defined by law, shall have the following\\nrights as provided by law: the right to be reasonably protected from the accused through the\\nimposition of appropriate bail or conditions of release by the court; the right to confer with the\\nprosecution; the right to be treated with dignity, respect, and fairness during all phases of the\\ncriminal and juvenile justice process; the right to timely disposition of the case following the\\narrest of the accused; the right to obtain information about and be allowed to be present at all\\ncriminal or juvenile proceedings where the accused has the right to be present; the right to be\\nallowed to be heard, upon request, at sentencing, before or after conviction or juvenile\\nadjudication, and at any proceeding where the accused\\'s release from custody is considered; the\\nright to restitution from the accused; and the right to be informed, upon request, of the accused\\'s\\nescape or release from custody before or after conviction or juvenile adjudication..0\\n\\n[Adopted December 30, 1994.]\\n\\n*** MEND ***.0\\n\\n*** MSTART 048 014.0 012.0 0 AK 1959 1996 ***\\n     \\nSection 14. Approval of Federal Amendment to Statehood Act Affecting an Interest of the State\\nunder That Act. A federal statute or proposed federal statute that affects an interest of this State\\nunder the Act admitting Alaska to the Union is ineffective as against the State interest unless\\napproved by a two-thirds vote of each house of the legislature or approved by the people of the\\nState. The legislature may, by a resolution passed by a majority vote of each house, place the\\nquestion of approval of the federal statute on the ballot for the next general election unless in the\\nresolution placing the question of approval, the legislature requires the question to be placed\\nbefore the voters at a special election. The approval of the federal statute by the people of the\\nState is not effective unless the federal statute described in the resolution is ratified by a majority\\nof the qualified voters of the State who vote on the question. Unless a summary of the question is\\nprovided in the resolution passed by the legislature, the lieutenant governor shall prepare an\\nimpartial summary of the question. The lieutenant governor shall present the question to the\\nvoters so that a \"yes\" vote on the question is a vote to approve the federal statute..0\\n\\n[As adopted December 27, 1996.]\\n\\n*** MEND ***.0\\n\\n*** MSTART 049 025.0 001.0 0 AK 1959 1999 ***\\n\\nSection 25. Marriage To be valid or recognized in this State, a marriage may exist only between\\none man and one woman.\\n.0\\n[Adopted January 3, 1999.]\\n\\n*** MEND ***\\n\\n*** MSTART 050 001.0 006.0 0 AK 1959 1999 ***\\n\\nSection 1. House Districts. Members of the house of representatives shall be elected by the\\nqualified voters of the respective house districts. The boundaries of the house districts shall be set\\nunder this article following the official reporting of each decennial census of the United States.\\n.0\\n[As amended January 3, 1999.]\\n\\n*** MEND ***\\n\\n*** MSTART 051 002.0 006.0 0 AK 1959 1999 ***\\n\\nSection 2. Senate Districts.  Members of the senate shall be elected by the qualified voters of the\\nrespective senate districts. The boundaries of the senate districts shall be set under this article\\nfollowing the official reporting of each decennial census of the United States..0\\n\\n[As amended January 3, 1999.]\\n\\n*** MEND ***\\n\\n*** MSTART 052 003.0 006.0 0 AK 1959 1999 ***\\n\\nSection 3. Reapportionment of House and Senate. The Redistricting Board shall reapportion the\\nhouse of representatives and the senate immediately following the official reporting of each\\ndecennial census of the United States. Reapportionment shall be based upon the population\\nwithin each house and senate district as reported by the official decennial census of the United\\nStates.\\n.0\\n[As amended January 3, 1999.]\\n\\n*** MEND ***\\n\\n*** MSTART 053 004.0 006.0 0 AK 1959 1999 ***\\n\\nSection 4. Method Redistricting. The Redistricting Board shall establish forty house districts,\\nwith each house district to elect one member of the house of representatives. The board shall\\nestablish twenty senate districts, each composed of two house districts, with each senate district\\nto elect one senator..0\\n\\n[As amended January 3, 1999.]\\n\\n*** MEND ***.0\\n.0\\n*** MSTART 054 005.0 006.0 0 AK 1959 1999 ***\\n\\nSection 5. Combining Districts. [Repealed by 1998 Ballot measure No. 3 (1998 Legislative\\nResolve 74; 20th Legislature\\'s SCS CSHJR 44 (JUD).]\\n.0\\n[As amended effective January 3, 1999.]\\n\\n*** MEND ***\\n\\n*** MSTART 055 006.0 006.0 0 AK 1959 1999 ***\\n\\nSection 6. District Boundaries. The Redistricting Board shall establish the size and area of house\\ndistricts, subject to the limitations of this article. Each house district shall be formed of\\ncontiguous and compact territory containing as nearly as practicable a relatively integrated\\nsocio-economic area. Each shall contain a population as near as practicable to the quotient\\nobtained by dividing the population of the state by forty. Each senate district shall be composed\\nas near as practicable of two contiguous house districts. Consideration may be given to local\\ngovernment boundaries. Drainage and other geographic features shall be used in describing\\nboundaries wherever possible..0\\n\\n[As amended January 3, 1999.]\\n\\n*** MEND ***\\n\\n*** MSTART 056 007.0 006.0 0 AK 1959 1999 ***\\n\\nSection 7. Modification of Senate Districts. [Repealed by 1998 Ballot measure No. 3 (1998\\nLegislative Resolve 74; 20th Legislature\\'s SCS CSHJR 44 (JUD).].0\\n\\n[As amended effective January 3, 1999.]\\n\\n*** MEND ***\\n\\n*** MSTART 057 008.0 006.0 0 AK 1959 1999 ***\\n\\nSection 8 Redistricting Board. (a) There shall be a redistricting board. It shall consist of five\\nmembers, all of whom shall be residents of the state for at least one year and none of whom may\\nbe public employees or officials at the time of or during the tenure of appointment. Appointments\\nshall be made without regard to political affiliation. Board members shall be compensated. \\n(b) Members of the Redistricting Board shall be appointed in the year in which an official\\ndecennial census of the United States is taken and by September 1 of that year. The governor\\nshall appoint two members of the board. The presiding officer of the senate, the presiding officer\\nof the house of representatives, and the chief justice of the supreme court shall each appoint one\\nmember of the board. The appointments to the board shall be made in the order listed in this\\nsubsection. At least one board member shall be a resident of each judicial district that existed on\\nJanuary 1, 1999. Board members serve until a final plan for redistricting and proclamation of\\nredistricting has been adopted and all challenges to it brought under Section 11 of this article\\nhave been resolved after final remand or affirmation. \\n(c) A person who was a member of the Redistricting Board at any time during the process leading\\nto final adoption of a redistricting plan under Section 10 of this article may not be a candidate for\\nthe legislature in the general election following the adoption of the final redistricting plan. \\nAnnotations.0\\n\\n[As amended January 3, 1999.]\\n\\n*** MEND ***\\n\\n*** MSTART 058 009.0 006.0 0 AK 1959 1999 ***\\n\\nSection 9 Board Actions. The board shall elect one of its members chairman and may employ\\ntemporary assistants. Concurrence of three members of the Redistricting Board is required for\\nactions of the Board, but a lesser number may conduct hearings. The board shall employ or\\ncontract for services of independent legal counsel.\\n.0\\n[As amended January 3, 1999.]\\n\\n*** MEND ***\\n\\n*** MSTART 059 010.0 006.0 0 AK 1959 1999 ***\\n\\nSection 10. Redistricting Plan and Proclamation.  (a) Within thirty days after the official\\nreporting of the decennial census of the United States or thirty days after being duly appointed,\\nwhichever occurs last, the board shall adopt one or more proposed redistricting plans. The board\\nshall hold public hearings on the proposed plan, or, if no single proposed plan is agreed on, on all\\nplans proposed by the board. No later than ninety days after the board has been appointed and the\\nofficial reporting of the decennial census of the United States, the board shall adopt a final\\nredistricting plan and issue a proclamation of redistricting. The final plan shall set out boundaries\\nof house and senate districts and shall be effective for the election of members of the legislature\\nuntil after the official reporting of the next decennial census of the United States. \\n(b) Adoption of a final redistricting plan shall require the affirmative votes of three members of\\nthe Redistricting Board..0\\n\\n[As amended January 3, 1999.]\\n\\n*** MEND ***\\n\\n*** MSTART 060 011.0 006.0 0 AK 1959 1999 ***\\n\\nSection 11.  Enforcement.  Any qualified voter may apply to the superior court to compel the\\nRedistricting Board, by mandamus or otherwise, to perform its duties under this article or to\\ncorrect any error in redistricting. Application to compel the board to perform must be filed not\\nlater than thirty days following the expiration of the ninety-day period specified in this article.\\nApplication to compel correction of any error in redistricting must be filed within thirty days\\nfollowing the adoption of the final redistricting plan and proclamation by the board. Original\\njurisdiction in these matters is vested in the superior court. On appeal from the superior court, the\\ncause shall be reviewed by the supreme court on the law and the facts. Notwithstanding Section\\n15 of Article IV, all dispositions by the superior court and the supreme court under this section\\nshall be expedited and shall have priority over all other matters pending before the respective\\ncourt. Upon a final judicial decision that a plan is invalid, the matter shall be returned to the\\nboard for correction and development of a new plan. If that new plan is declared invalid, the\\nmatter may be referred again to the board..0\\n\\n[As amended January 3, 1999.]\\n\\n*** MEND ***\\n\\n*** MSTART 061 003.0 011.0 0 AK 1959 1999 ***\\n\\nSection 3. Petition. After certification of the application, a petition containing a summary of the\\nsubject matter shall be prepared by the lieutenant governor for circulation by the sponsors. If\\nsigned by qualified voters, equal in number to ten per cent of those who voted in the preceding\\ngeneral election and resident in at least two-thirds of the house districts of the State, it may be\\nfiled with the lieutenant governor.\\n.0\\n[As amended January 3, 1999.]\\n\\n*** MEND ***\\n\\n*** MSTART 062 001.0 014.0 0 AK 1959 1999 ***\\n\\nSection 1.  Article XIV is repealed by 1998 Ballot Measure No. 3, eff. 1/3/99, (1998 Legislative\\nResolve 74; 20th Legislature\\'s SCS CSHJR 44 (JUD)). A replacement redistricting schedule will\\nbe adopted by the redistricting board established in Article VI, Section 8, upon completion of the\\n2000 census..0\\n\\n[As amended January 3, 1999.]\\n\\n*** MEND ***\\n\\n*** MSTART 063 002.0 014.0 0 AK 1959 1999 ***\\n\\nSection 2.  Article XIV is repealed by 1998 Ballot Measure No. 3, eff. 1/3/99, (1998 Legislative\\nResolve 74; 20th Legislature\\'s SCS CSHJR 44 (JUD)). A replacement redistricting schedule will\\nbe adopted by the redistricting board established in Article VI, Section 8, upon completion of the\\n2000 census..0\\n\\n[As amended January 3, 1999.]\\n\\n*** MEND ***\\n\\n*** MSTART 064 003.0 014.0 0 AK 1959 1999 ***\\n\\nSection 3.  Article XIV is repealed by 1998 Ballot Measure No. 3, eff. 1/3/99, (1998 Legislative\\nResolve 74; 20th Legislature\\'s SCS CSHJR 44 (JUD)). A replacement redistricting schedule will\\nbe adopted by the redistricting board established in Article VI, Section 8, upon completion of the\\n2000 census..0\\n\\n[As amended January 3, 1999.]\\n\\n*** MEND ***.0\\n\\n*** MSTART 065 029.0 015.0 0 AK 1959 1999 ***\\n\\nSection 29. Applicability of Amendments Providing for Redistricting of the Legislature. The\\n1998 amendments relating to redistricting of the legislature (art. VI and art. XIV) apply only to\\nplans for redistricting and proclamations of redistricting adopted on or after January 1, 2001.\\n\\n[As adopted January 3, 1999.]\\n\\n*** MEND ***\\n*** CEND ***'"
      ]
     },
     "execution_count": 30,
     "metadata": {},
     "output_type": "execute_result"
    }
   ],
   "source": [
    "file"
   ]
  },
  {
   "cell_type": "code",
   "execution_count": 31,
   "metadata": {
    "collapsed": true,
    "jupyter": {
     "outputs_hidden": true
    }
   },
   "outputs": [],
   "source": [
    "file = re.sub('!\\w', ' ', file)"
   ]
  },
  {
   "cell_type": "code",
   "execution_count": 33,
   "metadata": {
    "collapsed": false,
    "jupyter": {
     "outputs_hidden": false
    }
   },
   "outputs": [],
   "source": [
    "words = re.findall('\\w+', file.lower())"
   ]
  },
  {
   "cell_type": "code",
   "execution_count": 34,
   "metadata": {
    "collapsed": false,
    "jupyter": {
     "outputs_hidden": false
    }
   },
   "outputs": [
    {
     "data": {
      "text/plain": [
       "['cstart',\n",
       " 'ak',\n",
       " '1',\n",
       " '3',\n",
       " '1959',\n",
       " '1',\n",
       " '1',\n",
       " '2003',\n",
       " 'constitution',\n",
       " 'of',\n",
       " 'alaska',\n",
       " '1959',\n",
       " 'astart',\n",
       " '9001',\n",
       " '0',\n",
       " 'ak',\n",
       " '1959',\n",
       " 'preamble',\n",
       " 'we',\n",
       " 'the',\n",
       " 'people',\n",
       " 'of',\n",
       " 'alaska',\n",
       " 'grateful',\n",
       " 'to',\n",
       " 'god',\n",
       " 'and',\n",
       " 'to',\n",
       " 'those',\n",
       " 'who',\n",
       " 'founded',\n",
       " 'our',\n",
       " 'nation',\n",
       " 'and',\n",
       " 'pioneered',\n",
       " 'this',\n",
       " 'great',\n",
       " 'land',\n",
       " 'in',\n",
       " 'order',\n",
       " 'to',\n",
       " 'secure',\n",
       " 'and',\n",
       " 'transmit',\n",
       " 'to',\n",
       " 'succeeding',\n",
       " 'generations',\n",
       " 'our',\n",
       " 'heritage',\n",
       " 'of',\n",
       " 'political',\n",
       " 'civil',\n",
       " 'and',\n",
       " 'religious',\n",
       " 'liberty',\n",
       " 'within',\n",
       " 'the',\n",
       " 'union',\n",
       " 'of',\n",
       " 'states',\n",
       " 'do',\n",
       " 'ordain',\n",
       " 'and',\n",
       " 'establish',\n",
       " 'this',\n",
       " 'constitution',\n",
       " 'for',\n",
       " 'the',\n",
       " 'state',\n",
       " 'of',\n",
       " 'alaska',\n",
       " '0',\n",
       " 'aend',\n",
       " 'astart',\n",
       " '001',\n",
       " '0',\n",
       " 'ak',\n",
       " '1959',\n",
       " 'article',\n",
       " 'i',\n",
       " 'declaration',\n",
       " 'of',\n",
       " 'rights',\n",
       " 'sstart',\n",
       " '001',\n",
       " '0',\n",
       " '001',\n",
       " '0',\n",
       " '0',\n",
       " 'ak',\n",
       " '1959',\n",
       " 'section',\n",
       " '1',\n",
       " 'inherent',\n",
       " 'rights',\n",
       " 'this',\n",
       " 'constitution',\n",
       " 'is',\n",
       " 'dedicated',\n",
       " 'to',\n",
       " 'the',\n",
       " 'principles',\n",
       " 'that',\n",
       " 'all',\n",
       " 'persons',\n",
       " 'have',\n",
       " 'a',\n",
       " 'natural',\n",
       " 'right',\n",
       " 'to',\n",
       " 'life',\n",
       " 'liberty',\n",
       " 'the',\n",
       " 'pursuit',\n",
       " 'of',\n",
       " 'happiness',\n",
       " 'and',\n",
       " 'the',\n",
       " 'enjoyment',\n",
       " 'of',\n",
       " 'the',\n",
       " 'rewards',\n",
       " 'of',\n",
       " 'their',\n",
       " 'own',\n",
       " 'industry',\n",
       " 'that',\n",
       " 'all',\n",
       " 'persons',\n",
       " 'are',\n",
       " 'equal',\n",
       " 'and',\n",
       " 'entitled',\n",
       " 'to',\n",
       " 'equal',\n",
       " 'rights',\n",
       " 'opportunities',\n",
       " 'and',\n",
       " 'protection',\n",
       " 'under',\n",
       " 'the',\n",
       " 'law',\n",
       " 'and',\n",
       " 'that',\n",
       " 'all',\n",
       " 'persons',\n",
       " 'have',\n",
       " 'corresponding',\n",
       " 'obligations',\n",
       " 'to',\n",
       " 'the',\n",
       " 'people',\n",
       " 'and',\n",
       " 'to',\n",
       " 'the',\n",
       " 'state',\n",
       " 'send',\n",
       " 'sstart',\n",
       " '002',\n",
       " '0',\n",
       " '001',\n",
       " '0',\n",
       " '0',\n",
       " 'ak',\n",
       " '1959',\n",
       " 'section',\n",
       " '2',\n",
       " 'source',\n",
       " 'of',\n",
       " 'government',\n",
       " 'all',\n",
       " 'political',\n",
       " 'power',\n",
       " 'is',\n",
       " 'inherent',\n",
       " 'in',\n",
       " 'the',\n",
       " 'people',\n",
       " 'all',\n",
       " 'government',\n",
       " 'originates',\n",
       " 'with',\n",
       " 'the',\n",
       " 'people',\n",
       " 'is',\n",
       " 'founded',\n",
       " 'upon',\n",
       " 'their',\n",
       " 'will',\n",
       " 'only',\n",
       " 'and',\n",
       " 'is',\n",
       " 'instituted',\n",
       " 'solely',\n",
       " 'for',\n",
       " 'the',\n",
       " 'good',\n",
       " 'of',\n",
       " 'the',\n",
       " 'people',\n",
       " 'as',\n",
       " 'a',\n",
       " 'whole',\n",
       " 'send',\n",
       " 'sstart',\n",
       " '003',\n",
       " '0',\n",
       " '001',\n",
       " '0',\n",
       " '0',\n",
       " 'ak',\n",
       " '1959',\n",
       " 'section',\n",
       " '3',\n",
       " 'civil',\n",
       " 'rights',\n",
       " 'no',\n",
       " 'person',\n",
       " 'is',\n",
       " 'to',\n",
       " 'be',\n",
       " 'denied',\n",
       " 'the',\n",
       " 'enjoyment',\n",
       " 'of',\n",
       " 'any',\n",
       " 'civil',\n",
       " 'or',\n",
       " 'political',\n",
       " 'right',\n",
       " 'because',\n",
       " 'of',\n",
       " 'race',\n",
       " 'color',\n",
       " 'creed',\n",
       " 'or',\n",
       " 'national',\n",
       " 'origin',\n",
       " 'the',\n",
       " 'legislature',\n",
       " 'shall',\n",
       " 'implement',\n",
       " 'this',\n",
       " 'section',\n",
       " 'send',\n",
       " 'sstart',\n",
       " '004',\n",
       " '0',\n",
       " '001',\n",
       " '0',\n",
       " '0',\n",
       " 'ak',\n",
       " '1959',\n",
       " 'section',\n",
       " '4',\n",
       " 'freedom',\n",
       " 'of',\n",
       " 'religion',\n",
       " 'no',\n",
       " 'law',\n",
       " 'shall',\n",
       " 'be',\n",
       " 'made',\n",
       " 'respecting',\n",
       " 'an',\n",
       " 'establishment',\n",
       " 'of',\n",
       " 'religion',\n",
       " 'or',\n",
       " 'prohibiting',\n",
       " 'the',\n",
       " 'free',\n",
       " 'exercise',\n",
       " 'thereof',\n",
       " 'send',\n",
       " 'sstart',\n",
       " '005',\n",
       " '0',\n",
       " '001',\n",
       " '0',\n",
       " '0',\n",
       " 'ak',\n",
       " '1959',\n",
       " 'section',\n",
       " '5',\n",
       " 'freedom',\n",
       " 'of',\n",
       " 'speech',\n",
       " 'every',\n",
       " 'person',\n",
       " 'may',\n",
       " 'freely',\n",
       " 'speak',\n",
       " 'write',\n",
       " 'and',\n",
       " 'publish',\n",
       " 'on',\n",
       " 'all',\n",
       " 'subjects',\n",
       " 'being',\n",
       " 'responsible',\n",
       " 'for',\n",
       " 'the',\n",
       " 'abuse',\n",
       " 'of',\n",
       " 'that',\n",
       " 'right',\n",
       " 'send',\n",
       " 'sstart',\n",
       " '006',\n",
       " '0',\n",
       " '001',\n",
       " '0',\n",
       " '0',\n",
       " 'ak',\n",
       " '1959',\n",
       " 'section',\n",
       " '6',\n",
       " 'assembly',\n",
       " 'petition',\n",
       " 'the',\n",
       " 'right',\n",
       " 'of',\n",
       " 'the',\n",
       " 'people',\n",
       " 'peaceably',\n",
       " 'to',\n",
       " 'assemble',\n",
       " 'and',\n",
       " 'to',\n",
       " 'petition',\n",
       " 'the',\n",
       " 'government',\n",
       " 'shall',\n",
       " 'never',\n",
       " 'be',\n",
       " 'abridged',\n",
       " 'send',\n",
       " 'sstart',\n",
       " '007',\n",
       " '0',\n",
       " '001',\n",
       " '0',\n",
       " '0',\n",
       " 'ak',\n",
       " '1959',\n",
       " 'section',\n",
       " '7',\n",
       " 'due',\n",
       " 'process',\n",
       " 'no',\n",
       " 'person',\n",
       " 'shall',\n",
       " 'be',\n",
       " 'deprived',\n",
       " 'of',\n",
       " 'life',\n",
       " 'liberty',\n",
       " 'or',\n",
       " 'property',\n",
       " 'without',\n",
       " 'due',\n",
       " 'process',\n",
       " 'of',\n",
       " 'law',\n",
       " 'the',\n",
       " 'right',\n",
       " 'of',\n",
       " 'all',\n",
       " 'persons',\n",
       " 'to',\n",
       " 'fair',\n",
       " 'and',\n",
       " 'just',\n",
       " 'treatment',\n",
       " 'in',\n",
       " 'the',\n",
       " 'course',\n",
       " 'of',\n",
       " 'legislative',\n",
       " 'and',\n",
       " 'executive',\n",
       " 'investigations',\n",
       " 'shall',\n",
       " 'not',\n",
       " 'be',\n",
       " 'infringed',\n",
       " 'send',\n",
       " 'sstart',\n",
       " '008',\n",
       " '0',\n",
       " '001',\n",
       " '0',\n",
       " '0',\n",
       " 'ak',\n",
       " '1959',\n",
       " 'section',\n",
       " '8',\n",
       " 'grand',\n",
       " 'jury',\n",
       " 'no',\n",
       " 'person',\n",
       " 'shall',\n",
       " 'be',\n",
       " 'held',\n",
       " 'to',\n",
       " 'answer',\n",
       " 'for',\n",
       " 'a',\n",
       " 'capital',\n",
       " 'or',\n",
       " 'otherwise',\n",
       " 'infamous',\n",
       " 'crime',\n",
       " 'unless',\n",
       " 'on',\n",
       " 'a',\n",
       " 'presentment',\n",
       " 'or',\n",
       " 'indictment',\n",
       " 'of',\n",
       " 'a',\n",
       " 'grand',\n",
       " 'jury',\n",
       " 'except',\n",
       " 'in',\n",
       " 'cases',\n",
       " 'arising',\n",
       " 'in',\n",
       " 'the',\n",
       " 'armed',\n",
       " 'forces',\n",
       " 'in',\n",
       " 'time',\n",
       " 'of',\n",
       " 'war',\n",
       " 'or',\n",
       " 'public',\n",
       " 'danger',\n",
       " 'indictment',\n",
       " 'may',\n",
       " 'be',\n",
       " 'waived',\n",
       " 'by',\n",
       " 'the',\n",
       " 'accused',\n",
       " 'in',\n",
       " 'that',\n",
       " 'case',\n",
       " 'the',\n",
       " 'prosecution',\n",
       " 'shall',\n",
       " 'be',\n",
       " 'by',\n",
       " 'information',\n",
       " 'the',\n",
       " 'grand',\n",
       " 'jury',\n",
       " 'shall',\n",
       " 'consist',\n",
       " 'of',\n",
       " 'at',\n",
       " 'least',\n",
       " 'twelve',\n",
       " 'citizens',\n",
       " 'a',\n",
       " 'majority',\n",
       " 'of',\n",
       " 'whom',\n",
       " 'concurring',\n",
       " 'may',\n",
       " 'return',\n",
       " 'an',\n",
       " 'indictment',\n",
       " 'the',\n",
       " 'power',\n",
       " 'of',\n",
       " 'grand',\n",
       " 'juries',\n",
       " 'to',\n",
       " 'investigate',\n",
       " 'and',\n",
       " 'make',\n",
       " 'recommendations',\n",
       " 'concerning',\n",
       " 'the',\n",
       " 'public',\n",
       " 'welfare',\n",
       " 'or',\n",
       " 'safety',\n",
       " 'shall',\n",
       " 'never',\n",
       " 'be',\n",
       " 'suspended',\n",
       " 'send',\n",
       " 'sstart',\n",
       " '009',\n",
       " '0',\n",
       " '001',\n",
       " '0',\n",
       " '0',\n",
       " 'ak',\n",
       " '1959',\n",
       " 'section',\n",
       " '9',\n",
       " 'jeopardy',\n",
       " 'and',\n",
       " 'self',\n",
       " 'incrimination',\n",
       " 'no',\n",
       " 'person',\n",
       " 'shall',\n",
       " 'be',\n",
       " 'put',\n",
       " 'in',\n",
       " 'jeopardy',\n",
       " 'twice',\n",
       " 'for',\n",
       " 'the',\n",
       " 'same',\n",
       " 'offense',\n",
       " 'no',\n",
       " 'person',\n",
       " 'shall',\n",
       " 'be',\n",
       " 'compelled',\n",
       " 'in',\n",
       " 'any',\n",
       " 'criminal',\n",
       " 'proceeding',\n",
       " 'to',\n",
       " 'be',\n",
       " 'a',\n",
       " 'witness',\n",
       " 'against',\n",
       " 'himself',\n",
       " 'send',\n",
       " 'sstart',\n",
       " '010',\n",
       " '0',\n",
       " '001',\n",
       " '0',\n",
       " '0',\n",
       " 'ak',\n",
       " '1959',\n",
       " 'section',\n",
       " '10',\n",
       " 'treason',\n",
       " 'treason',\n",
       " 'against',\n",
       " 'the',\n",
       " 'state',\n",
       " 'consists',\n",
       " 'only',\n",
       " 'in',\n",
       " 'levying',\n",
       " 'war',\n",
       " 'against',\n",
       " 'it',\n",
       " 'or',\n",
       " 'in',\n",
       " 'adhering',\n",
       " 'to',\n",
       " 'its',\n",
       " 'enemies',\n",
       " 'giving',\n",
       " 'them',\n",
       " 'aid',\n",
       " 'and',\n",
       " 'comfort',\n",
       " 'no',\n",
       " 'person',\n",
       " 'shall',\n",
       " 'be',\n",
       " 'convicted',\n",
       " 'of',\n",
       " 'treason',\n",
       " 'unless',\n",
       " 'on',\n",
       " 'the',\n",
       " 'testimony',\n",
       " 'of',\n",
       " 'two',\n",
       " 'witnesses',\n",
       " 'to',\n",
       " 'the',\n",
       " 'same',\n",
       " 'overt',\n",
       " 'act',\n",
       " 'or',\n",
       " 'on',\n",
       " 'confession',\n",
       " 'in',\n",
       " 'open',\n",
       " 'court',\n",
       " 'send',\n",
       " 'sstart',\n",
       " '011',\n",
       " '0',\n",
       " '001',\n",
       " '0',\n",
       " '0',\n",
       " 'ak',\n",
       " '1959',\n",
       " 'section',\n",
       " '11',\n",
       " 'rights',\n",
       " 'of',\n",
       " 'accused',\n",
       " 'in',\n",
       " 'all',\n",
       " 'criminal',\n",
       " 'prosecutions',\n",
       " 'the',\n",
       " 'accused',\n",
       " 'shall',\n",
       " 'have',\n",
       " 'the',\n",
       " 'right',\n",
       " 'to',\n",
       " 'a',\n",
       " 'speedy',\n",
       " 'and',\n",
       " 'public',\n",
       " 'trial',\n",
       " 'by',\n",
       " 'an',\n",
       " 'impartial',\n",
       " 'jury',\n",
       " 'of',\n",
       " 'twelve',\n",
       " 'except',\n",
       " 'that',\n",
       " 'the',\n",
       " 'legislature',\n",
       " 'may',\n",
       " 'provide',\n",
       " 'for',\n",
       " 'a',\n",
       " 'jury',\n",
       " 'of',\n",
       " 'not',\n",
       " 'more',\n",
       " 'than',\n",
       " 'twelve',\n",
       " 'nor',\n",
       " 'less',\n",
       " 'than',\n",
       " 'six',\n",
       " 'in',\n",
       " 'courts',\n",
       " 'not',\n",
       " 'of',\n",
       " 'record',\n",
       " 'the',\n",
       " 'accused',\n",
       " 'is',\n",
       " 'entitled',\n",
       " 'to',\n",
       " 'be',\n",
       " 'informed',\n",
       " 'of',\n",
       " 'the',\n",
       " 'nature',\n",
       " 'and',\n",
       " 'cause',\n",
       " 'of',\n",
       " 'the',\n",
       " 'accusation',\n",
       " 'to',\n",
       " 'be',\n",
       " 'released',\n",
       " 'on',\n",
       " 'bail',\n",
       " 'except',\n",
       " 'for',\n",
       " 'capital',\n",
       " 'offenses',\n",
       " 'when',\n",
       " 'the',\n",
       " 'proof',\n",
       " 'is',\n",
       " 'evident',\n",
       " 'or',\n",
       " 'the',\n",
       " 'presumption',\n",
       " 'great',\n",
       " 'to',\n",
       " 'be',\n",
       " 'confronted',\n",
       " 'with',\n",
       " 'the',\n",
       " 'witnesses',\n",
       " 'against',\n",
       " 'him',\n",
       " 'to',\n",
       " 'have',\n",
       " 'compulsory',\n",
       " 'process',\n",
       " 'for',\n",
       " 'obtaining',\n",
       " 'witnesses',\n",
       " 'in',\n",
       " 'his',\n",
       " 'favor',\n",
       " 'and',\n",
       " 'to',\n",
       " 'have',\n",
       " 'the',\n",
       " 'assistance',\n",
       " 'of',\n",
       " 'counsel',\n",
       " 'for',\n",
       " 'his',\n",
       " 'defense',\n",
       " 'send',\n",
       " 'sstart',\n",
       " '012',\n",
       " '0',\n",
       " '001',\n",
       " '0',\n",
       " '0',\n",
       " 'ak',\n",
       " '1959',\n",
       " 'section',\n",
       " '12',\n",
       " 'criminal',\n",
       " 'administration',\n",
       " 'excessive',\n",
       " 'bail',\n",
       " 'shall',\n",
       " 'not',\n",
       " 'be',\n",
       " 'required',\n",
       " 'nor',\n",
       " 'excessive',\n",
       " 'fines',\n",
       " 'imposed',\n",
       " 'nor',\n",
       " 'cruel',\n",
       " 'and',\n",
       " 'unusual',\n",
       " 'punishments',\n",
       " 'inflicted',\n",
       " 'penal',\n",
       " 'administration',\n",
       " 'shall',\n",
       " 'be',\n",
       " 'based',\n",
       " 'oon',\n",
       " 'the',\n",
       " 'principle',\n",
       " 'of',\n",
       " 'reformation',\n",
       " 'and',\n",
       " 'the',\n",
       " 'need',\n",
       " 'for',\n",
       " 'protecting',\n",
       " 'the',\n",
       " 'public',\n",
       " '0',\n",
       " 'send',\n",
       " 'sstart',\n",
       " '013',\n",
       " '0',\n",
       " '001',\n",
       " '0',\n",
       " '0',\n",
       " 'ak',\n",
       " '1959',\n",
       " 'section',\n",
       " '13',\n",
       " 'habeas',\n",
       " 'corpus',\n",
       " 'the',\n",
       " 'privilege',\n",
       " 'of',\n",
       " 'the',\n",
       " 'writ',\n",
       " 'of',\n",
       " 'habeas',\n",
       " 'corpus',\n",
       " 'shall',\n",
       " 'not',\n",
       " 'be',\n",
       " 'suspended',\n",
       " 'unless',\n",
       " 'when',\n",
       " 'in',\n",
       " 'cases',\n",
       " 'of',\n",
       " 'rebellion',\n",
       " 'or',\n",
       " 'actual',\n",
       " 'or',\n",
       " 'imminent',\n",
       " 'invasion',\n",
       " 'the',\n",
       " 'public',\n",
       " 'safety',\n",
       " 'requires',\n",
       " 'it',\n",
       " '0',\n",
       " 'send',\n",
       " 'sstart',\n",
       " '014',\n",
       " '0',\n",
       " '001',\n",
       " '0',\n",
       " '0',\n",
       " 'ak',\n",
       " '1959',\n",
       " 'section',\n",
       " '14',\n",
       " 'searches',\n",
       " 'and',\n",
       " 'seizures',\n",
       " 'the',\n",
       " 'right',\n",
       " 'of',\n",
       " 'the',\n",
       " 'people',\n",
       " 'to',\n",
       " 'be',\n",
       " 'secure',\n",
       " 'in',\n",
       " 'their',\n",
       " 'persons',\n",
       " 'houses',\n",
       " 'and',\n",
       " 'other',\n",
       " 'property',\n",
       " 'papers',\n",
       " 'and',\n",
       " 'effects',\n",
       " 'against',\n",
       " 'unreasonable',\n",
       " 'searches',\n",
       " 'and',\n",
       " 'seizures',\n",
       " 'shall',\n",
       " 'not',\n",
       " 'be',\n",
       " 'violated',\n",
       " 'no',\n",
       " 'warrants',\n",
       " 'shall',\n",
       " 'issue',\n",
       " 'but',\n",
       " 'upon',\n",
       " 'probable',\n",
       " 'cause',\n",
       " 'supported',\n",
       " 'by',\n",
       " 'oath',\n",
       " 'or',\n",
       " 'affirmation',\n",
       " 'and',\n",
       " 'particularly',\n",
       " 'describing',\n",
       " 'the',\n",
       " 'place',\n",
       " 'to',\n",
       " 'be',\n",
       " 'searched',\n",
       " 'and',\n",
       " 'the',\n",
       " 'persons',\n",
       " 'or',\n",
       " 'things',\n",
       " 'to',\n",
       " 'be',\n",
       " 'seized',\n",
       " 'send',\n",
       " 'sstart',\n",
       " '015',\n",
       " '0',\n",
       " '001',\n",
       " '0',\n",
       " '0',\n",
       " 'ak',\n",
       " '1959',\n",
       " 'section',\n",
       " '15',\n",
       " 'prohibited',\n",
       " 'state',\n",
       " 'action',\n",
       " 'no',\n",
       " 'bill',\n",
       " 'of',\n",
       " 'attainder',\n",
       " 'or',\n",
       " 'ex',\n",
       " 'post',\n",
       " 'facto',\n",
       " 'law',\n",
       " 'shall',\n",
       " 'be',\n",
       " 'passed',\n",
       " 'no',\n",
       " 'law',\n",
       " 'impairing',\n",
       " 'the',\n",
       " 'obligation',\n",
       " 'of',\n",
       " 'contracts',\n",
       " 'and',\n",
       " 'no',\n",
       " 'law',\n",
       " 'making',\n",
       " 'any',\n",
       " 'irrevocable',\n",
       " 'grant',\n",
       " 'of',\n",
       " 'special',\n",
       " 'privileges',\n",
       " 'or',\n",
       " 'immunities',\n",
       " 'shall',\n",
       " 'be',\n",
       " 'passed',\n",
       " 'no',\n",
       " 'conviction',\n",
       " 'shall',\n",
       " 'work',\n",
       " 'corruption',\n",
       " 'of',\n",
       " 'blood',\n",
       " 'or',\n",
       " 'forfeiture',\n",
       " 'of',\n",
       " 'estate',\n",
       " 'send',\n",
       " 'sstart',\n",
       " '016',\n",
       " '0',\n",
       " '001',\n",
       " '0',\n",
       " '0',\n",
       " 'ak',\n",
       " '1959',\n",
       " 'section',\n",
       " '16',\n",
       " 'civil',\n",
       " 'suits',\n",
       " 'trial',\n",
       " 'by',\n",
       " 'jury',\n",
       " 'in',\n",
       " 'civil',\n",
       " 'cases',\n",
       " 'where',\n",
       " 'the',\n",
       " 'amount',\n",
       " 'in',\n",
       " 'controversy',\n",
       " 'exceeds',\n",
       " 'two',\n",
       " 'hundred',\n",
       " 'fifty',\n",
       " 'dollars',\n",
       " 'the',\n",
       " 'right',\n",
       " 'of',\n",
       " 'trial',\n",
       " 'by',\n",
       " 'a',\n",
       " 'jury',\n",
       " 'of',\n",
       " 'twelve',\n",
       " 'is',\n",
       " 'preserved',\n",
       " 'to',\n",
       " 'the',\n",
       " 'same',\n",
       " 'extent',\n",
       " 'as',\n",
       " 'it',\n",
       " 'existed',\n",
       " 'at',\n",
       " 'common',\n",
       " 'law',\n",
       " 'the',\n",
       " 'legislature',\n",
       " 'may',\n",
       " 'make',\n",
       " 'provision',\n",
       " 'for',\n",
       " 'a',\n",
       " 'verdict',\n",
       " 'by',\n",
       " 'not',\n",
       " 'less',\n",
       " 'than',\n",
       " 'three',\n",
       " 'fourths',\n",
       " 'of',\n",
       " 'the',\n",
       " 'jury',\n",
       " ...]"
      ]
     },
     "execution_count": 34,
     "metadata": {},
     "output_type": "execute_result"
    }
   ],
   "source": [
    "words"
   ]
  },
  {
   "cell_type": "code",
   "execution_count": 35,
   "metadata": {
    "collapsed": true,
    "jupyter": {
     "outputs_hidden": true
    }
   },
   "outputs": [],
   "source": [
    "words = [re.sub('[ìôóðäïòø¼àµ]', ' ', word).strip().split() for word in words]"
   ]
  },
  {
   "cell_type": "code",
   "execution_count": 37,
   "metadata": {
    "collapsed": false,
    "jupyter": {
     "outputs_hidden": false
    }
   },
   "outputs": [],
   "source": [
    "words = flatten(words)"
   ]
  },
  {
   "cell_type": "code",
   "execution_count": 38,
   "metadata": {
    "collapsed": true,
    "jupyter": {
     "outputs_hidden": true
    }
   },
   "outputs": [],
   "source": [
    "keepers = []\n",
    "for i in range(0,len(words)):\n",
    "    if words[i] in dictwords:\n",
    "        keepers.append(words[i])\n",
    "    else:\n",
    "        if i < len(words) -2:    \n",
    "            if (words[i]+words[i+1] in dictwords):\n",
    "                keepers.append(words[i]+words[i+1])"
   ]
  },
  {
   "cell_type": "code",
   "execution_count": 39,
   "metadata": {
    "collapsed": true,
    "jupyter": {
     "outputs_hidden": true
    }
   },
   "outputs": [],
   "source": [
    "filtered_words = [word for word in keepers if word not in stopwords.words('english')]"
   ]
  },
  {
   "cell_type": "code",
   "execution_count": 40,
   "metadata": {
    "collapsed": true,
    "jupyter": {
     "outputs_hidden": true
    }
   },
   "outputs": [],
   "source": [
    "fdist = nltk.FreqDist(filtered_words)"
   ]
  },
  {
   "cell_type": "code",
   "execution_count": 42,
   "metadata": {
    "collapsed": false,
    "jupyter": {
     "outputs_hidden": false
    }
   },
   "outputs": [
    {
     "data": {
      "text/plain": [
       "[('shall', 468),\n",
       " ('section', 299),\n",
       " ('send', 206),\n",
       " ('state', 190),\n",
       " ('may', 172),\n",
       " ('law', 158),\n",
       " ('governor', 137),\n",
       " ('legislature', 119),\n",
       " ('bylaw', 111),\n",
       " ('election', 104),\n",
       " ('court', 74),\n",
       " ('office', 69),\n",
       " ('including', 64),\n",
       " ('members', 63),\n",
       " ('article', 62),\n",
       " ('mend', 62),\n",
       " ('area', 59),\n",
       " ('amended', 53),\n",
       " ('board', 52),\n",
       " ('session', 51),\n",
       " ('public', 50),\n",
       " ('prescribed', 50),\n",
       " ('one', 50),\n",
       " ('drained', 49),\n",
       " ('states', 48),\n",
       " ('united', 46),\n",
       " ('subject', 46),\n",
       " ('districts', 45),\n",
       " ('house', 45),\n",
       " ('general', 44),\n",
       " ('vote', 43),\n",
       " ('right', 43),\n",
       " ('first', 43),\n",
       " ('provided', 42),\n",
       " ('unless', 42),\n",
       " ('alaska', 42),\n",
       " ('river', 41),\n",
       " ('year', 41),\n",
       " ('days', 41),\n",
       " ('judicial', 40)]"
      ]
     },
     "execution_count": 42,
     "metadata": {},
     "output_type": "execute_result"
    }
   ],
   "source": [
    "fdist.most_common(40)"
   ]
  },
  {
   "cell_type": "code",
   "execution_count": 44,
   "metadata": {
    "collapsed": false,
    "jupyter": {
     "outputs_hidden": false
    }
   },
   "outputs": [],
   "source": [
    "file =open(fileList[3], encoding='cp1252', errors='ignore').read()\n",
    "file = re.sub('!\\w', ' ', file)\n",
    "words = re.findall('\\w+', file.lower())\n",
    "words = [re.sub('[ìôóðäïòø¼àµ]', ' ', word).strip().split() for word in words]\n",
    "words = flatten(words)\n",
    "keepers = []\n",
    "for i in range(0,len(words)):\n",
    "    if words[i] in dictwords:\n",
    "        keepers.append(words[i])\n",
    "    else:\n",
    "        if i < len(words) -2:    \n",
    "            if (words[i]+words[i+1] in dictwords):\n",
    "                keepers.append(words[i]+words[i+1])\n",
    "filtered_words = [word for word in keepers if word not in stopwords.words('english')]"
   ]
  },
  {
   "cell_type": "code",
   "execution_count": 46,
   "metadata": {
    "collapsed": false,
    "jupyter": {
     "outputs_hidden": false
    }
   },
   "outputs": [],
   "source": [
    "fdist = nltk.FreqDist(filtered_words)"
   ]
  },
  {
   "cell_type": "code",
   "execution_count": 50,
   "metadata": {
    "collapsed": false,
    "jupyter": {
     "outputs_hidden": false
    }
   },
   "outputs": [
    {
     "data": {
      "text/plain": [
       "[('shall', 393),\n",
       " ('send', 148),\n",
       " ('state', 109),\n",
       " ('general', 98),\n",
       " ('may', 86),\n",
       " ('assembly', 80),\n",
       " ('law', 51),\n",
       " ('county', 50),\n",
       " ('one', 48),\n",
       " ('house', 42),\n",
       " ('representatives', 41),\n",
       " ('office', 40),\n",
       " ('person', 38),\n",
       " ('governor', 36),\n",
       " ('bylaw', 36),\n",
       " ('power', 31),\n",
       " ('two', 30),\n",
       " ('provided', 30),\n",
       " ('time', 29),\n",
       " ('election', 26),\n",
       " ('courts', 26),\n",
       " ('states', 25),\n",
       " ('constitution', 25),\n",
       " ('united', 23),\n",
       " ('years', 23),\n",
       " ('laws', 23),\n",
       " ('every', 21),\n",
       " ('cases', 21),\n",
       " ('town', 20),\n",
       " ('court', 19),\n",
       " ('manner', 19),\n",
       " ('alabama', 19),\n",
       " ('said', 18),\n",
       " ('government', 18),\n",
       " ('first', 18),\n",
       " ('number', 18),\n",
       " ('session', 18),\n",
       " ('bank', 18),\n",
       " ('three', 18),\n",
       " ('entitled', 17),\n",
       " ('members', 17),\n",
       " ('next', 17),\n",
       " ('public', 16),\n",
       " ('year', 16),\n",
       " ('houses', 16),\n",
       " ('hundred', 16),\n",
       " ('within', 16),\n",
       " ('city', 16),\n",
       " ('except', 15),\n",
       " ('vote', 15),\n",
       " ('several', 15),\n",
       " ('term', 15),\n",
       " ('twenty', 15),\n",
       " ('circuit', 15),\n",
       " ('officers', 14),\n",
       " ('white', 14),\n",
       " ('hold', 14),\n",
       " ('unless', 14),\n",
       " ('counties', 14),\n",
       " ('thereof', 14),\n",
       " ('territory', 14),\n",
       " ('judges', 14),\n",
       " ('made', 14),\n",
       " ('held', 13),\n",
       " ('case', 13),\n",
       " ('representative', 13),\n",
       " ('prescribed', 13),\n",
       " ('elected', 13),\n",
       " ('eight', 13),\n",
       " ('place', 13),\n",
       " ('elections', 13),\n",
       " ('thousand', 12),\n",
       " ('offices', 12),\n",
       " ('appointed', 12),\n",
       " ('either', 12),\n",
       " ('right', 12),\n",
       " ('authority', 12),\n",
       " ('day', 11),\n",
       " ('deem', 11),\n",
       " ('directed', 11)]"
      ]
     },
     "execution_count": 50,
     "metadata": {},
     "output_type": "execute_result"
    }
   ],
   "source": [
    "fdist.most_common(80)"
   ]
  },
  {
   "cell_type": "code",
   "execution_count": 55,
   "metadata": {
    "collapsed": true,
    "jupyter": {
     "outputs_hidden": true
    }
   },
   "outputs": [],
   "source": [
    "file =open(fileList[15], encoding='cp1252', errors='ignore').read()\n",
    "file = re.sub('!\\w', ' ', file)\n",
    "words = re.findall('\\w+', file.lower())\n",
    "words = [re.sub('[ìôóðäïòø¼àµ]', ' ', word).strip().split() for word in words]\n",
    "words = flatten(words)\n",
    "keepers = []\n",
    "for i in range(0,len(words)):\n",
    "    if words[i] in dictwords:\n",
    "        keepers.append(words[i])\n",
    "    else:\n",
    "        if i < len(words) -2:    \n",
    "            if (words[i]+words[i+1] in dictwords):\n",
    "                keepers.append(words[i]+words[i+1])\n",
    "filtered_words = [word for word in keepers if word not in stopwords.words('english')]"
   ]
  },
  {
   "cell_type": "code",
   "execution_count": 57,
   "metadata": {
    "collapsed": true,
    "jupyter": {
     "outputs_hidden": true
    }
   },
   "outputs": [],
   "source": [
    "fdist = nltk.FreqDist(filtered_words)"
   ]
  },
  {
   "cell_type": "code",
   "execution_count": 58,
   "metadata": {
    "collapsed": false,
    "jupyter": {
     "outputs_hidden": false
    }
   },
   "outputs": [
    {
     "data": {
      "text/plain": [
       "[('shall', 2157),\n",
       " ('state', 775),\n",
       " ('section', 755),\n",
       " ('law', 432),\n",
       " ('court', 402),\n",
       " ('may', 384),\n",
       " ('county', 368),\n",
       " ('office', 368),\n",
       " ('provided', 320),\n",
       " ('bylaw', 319),\n",
       " ('one', 311),\n",
       " ('election', 309),\n",
       " ('legislature', 277),\n",
       " ('person', 268),\n",
       " ('property', 261),\n",
       " ('effective', 257),\n",
       " ('year', 255),\n",
       " ('send', 253),\n",
       " ('members', 235),\n",
       " ('two', 227),\n",
       " ('mend', 225),\n",
       " ('amendment', 218),\n",
       " ('public', 218),\n",
       " ('governor', 216),\n",
       " ('commission', 209),\n",
       " ('dollars', 198),\n",
       " ('five', 194),\n",
       " ('thousand', 173),\n",
       " ('term', 171),\n",
       " ('said', 169),\n",
       " ('years', 165),\n",
       " ('general', 164),\n",
       " ('elected', 163),\n",
       " ('states', 158),\n",
       " ('except', 157),\n",
       " ('limitation', 157),\n",
       " ('united', 150),\n",
       " ('superior', 144),\n",
       " ('arizona', 144),\n",
       " ('prescribed', 142),\n",
       " ('number', 137),\n",
       " ('fiscal', 137),\n",
       " ('hundred', 136),\n",
       " ('district', 134),\n",
       " ('upon', 133),\n",
       " ('political', 132),\n",
       " ('corporation', 130),\n",
       " ('expenditure', 129),\n",
       " ('board', 129),\n",
       " ('supreme', 128),\n",
       " ('judges', 127),\n",
       " ('thereof', 126),\n",
       " ('total', 124),\n",
       " ('exceed', 124),\n",
       " ('judge', 124),\n",
       " ('time', 121),\n",
       " ('manner', 119),\n",
       " ('school', 119),\n",
       " ('qualified', 118),\n",
       " ('courts', 116),\n",
       " ('laws', 115),\n",
       " ('electors', 115),\n",
       " ('within', 114),\n",
       " ('measure', 114),\n",
       " ('city', 113),\n",
       " ('subsection', 111),\n",
       " ('article', 110),\n",
       " ('pursuant', 110),\n",
       " ('constitution', 110),\n",
       " ('amount', 109),\n",
       " ('taxation', 108),\n",
       " ('assessment', 107),\n",
       " ('service', 106),\n",
       " ('justice', 106),\n",
       " ('tax', 105),\n",
       " ('four', 104),\n",
       " ('days', 104),\n",
       " ('made', 104),\n",
       " ('power', 101),\n",
       " ('votes', 100)]"
      ]
     },
     "execution_count": 58,
     "metadata": {},
     "output_type": "execute_result"
    }
   ],
   "source": [
    "fdist.most_common(80)"
   ]
  },
  {
   "cell_type": "code",
   "execution_count": null,
   "metadata": {
    "collapsed": true,
    "jupyter": {
     "outputs_hidden": true
    }
   },
   "outputs": [],
   "source": []
  }
 ],
 "metadata": {
  "kernelspec": {
   "display_name": "Python 3 (ipykernel)",
   "language": "python",
   "name": "python3"
  },
  "language_info": {
   "codemirror_mode": {
    "name": "ipython",
    "version": 3
   },
   "file_extension": ".py",
   "mimetype": "text/x-python",
   "name": "python",
   "nbconvert_exporter": "python",
   "pygments_lexer": "ipython3",
   "version": "3.11.6"
  }
 },
 "nbformat": 4,
 "nbformat_minor": 4
}
