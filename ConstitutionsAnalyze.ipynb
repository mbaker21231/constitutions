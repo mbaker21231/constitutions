{
 "cells": [
  {
   "cell_type": "markdown",
   "metadata": {},
   "source": [
    "# Textual analysis and comparison of constitutions\n",
    "\n",
    "In this notebook, we will start the process of analyzing the constitutions, in addition to developing some means of reading them in. "
   ]
  },
  {
   "cell_type": "code",
   "execution_count": 1,
   "metadata": {
    "collapsed": true
   },
   "outputs": [],
   "source": [
    "import os\n",
    "import re\n",
    "import nltk\n",
    "import collections\n",
    "import numpy as np\n",
    "import pandas as pd\n",
    "import codecs\n",
    "from sklearn import feature_extraction\n",
    "import mpld3\n",
    "\n",
    "from nltk.corpus import stopwords\n",
    "from nltk.util import ngrams\n",
    "from collections import Counter\n",
    "from math import sqrt\n",
    "\n",
    "%matplotlib inline"
   ]
  },
  {
   "cell_type": "code",
   "execution_count": 2,
   "metadata": {
    "collapsed": false
   },
   "outputs": [],
   "source": [
    "try:\n",
    "    os.chdir(os.getcwd()+'\\\\texts')\n",
    "except:\n",
    "    print('Seemingly already there!')"
   ]
  },
  {
   "cell_type": "code",
   "execution_count": 3,
   "metadata": {
    "collapsed": true
   },
   "outputs": [],
   "source": [
    "dictionaryFile = open('dictionary.txt').read()\n",
    "dictwords = re.findall('\\w+', dictionaryFile.lower())"
   ]
  },
  {
   "cell_type": "code",
   "execution_count": 4,
   "metadata": {
    "collapsed": true
   },
   "outputs": [],
   "source": [
    "filelist = os.listdir()"
   ]
  },
  {
   "cell_type": "code",
   "execution_count": 6,
   "metadata": {
    "collapsed": false
   },
   "outputs": [
    {
     "data": {
      "text/plain": [
       "'AK1836_final_parts_0.txt'"
      ]
     },
     "execution_count": 6,
     "metadata": {},
     "output_type": "execute_result"
    }
   ],
   "source": [
    "filelist[0]"
   ]
  },
  {
   "cell_type": "markdown",
   "metadata": {},
   "source": [
    "The following is a method to clean up a file and make it into a sequence of words. There are quite possibly better ways to check and see if there are words that are mistakenly strung together. I also create some additional methods for figuring out lexical diversity, and the size of the vocabulary used. "
   ]
  },
  {
   "cell_type": "code",
   "execution_count": 7,
   "metadata": {
    "collapsed": false
   },
   "outputs": [],
   "source": [
    "def Cleaner(filename, flag=0):\n",
    "    file  = open(filename, encoding='cp1252', errors='ignore').read()\n",
    "    words = re.findall('\\w+', file.lower())\n",
    "\n",
    "    keepers = []\n",
    "    for i in range(0,len(words)):\n",
    "        if words[i] in dictwords:\n",
    "            keepers.append(words[i])\n",
    "        else:\n",
    "            if i < len(words) -2:    \n",
    "                if (words[i] + words[i+1] in dictwords) & (words[i] + words[i+1] != 'bylaw'):\n",
    "                    keepers.append(words[i]+words[i+1]) \n",
    "                    \n",
    "    if flag == 0:\n",
    "        keepers = [word for word in keepers if word not in stopwords.words('english')]\n",
    "    \n",
    "    return nltk.Text(keepers)\n",
    "\n",
    "def Cleaner_list(filename, flag=0):\n",
    "    file  = open(filename, encoding='cp1252', errors='ignore').read()\n",
    "    words = re.findall('\\w+', file.lower())\n",
    "\n",
    "    keepers = []\n",
    "    for i in range(0,len(words)):\n",
    "        if words[i] in dictwords:\n",
    "            keepers.append(words[i])\n",
    "        else:\n",
    "            if i < len(words) -2:    \n",
    "                if (words[i] + words[i+1] in dictwords) & (words[i] + words[i+1] != 'bylaw'):\n",
    "                    keepers.append(words[i]+words[i+1]) \n",
    "    \n",
    "    if flag == 0:\n",
    "        keepers = [word for word in keepers if word not in stopwords.words('english')]\n",
    "    \n",
    "    return keepers  \n",
    "\n",
    "def VocabSize(text):\n",
    "    return len(set(text))\n",
    "\n",
    "def LexicalDiversity(text):\n",
    "    return VocabSize(text) / len(text)\n",
    "\n",
    "def LongWords(text, cutl_ength=5, freq=5):\n",
    "    freq_dist = nltk.FreqDist(text)\n",
    "    return sorted(w for w in set(text) if len(w) > 5 and freq_dist[w] > 5 )\n",
    "\n",
    "def CosineSim(u,v):\n",
    "    a=np.array(u)/len(u)\n",
    "    b=np.array(v)/len(v)\n",
    "    return np.dot(a,b) / (sqrt(np.dot(a,a))*sqrt(np.dot(b,b)))\n",
    "\n",
    "def flatten(x):\n",
    "    result = []\n",
    "    for el in x:\n",
    "        if hasattr(el, \"__iter__\") and not isinstance(el, str):\n",
    "            result.extend(flatten(el))\n",
    "        else:\n",
    "            result.append(el)\n",
    "    return result\n"
   ]
  },
  {
   "cell_type": "markdown",
   "metadata": {},
   "source": [
    "# Some preliminary analysis \n",
    "\n",
    "Here, I'm just going to take a look at what is possible before moving on, to try and get a feel for what a raggedy constitution looks like! In this take on things, I do not remove the stopwords because I am keeping `flag=1`. This is useful because then we can get N-grams that do not have stopwords after doing this, which should give a cleaner set of collocated words. \n",
    "\n",
    "Here is a little ngram finder that I stole from stack overflow:"
   ]
  },
  {
   "cell_type": "code",
   "execution_count": 8,
   "metadata": {
    "collapsed": true
   },
   "outputs": [],
   "source": [
    "def find_ngrams(input_list, n):\n",
    "    return list(zip(*[input_list[i:] for i in range(n)]))"
   ]
  },
  {
   "cell_type": "code",
   "execution_count": 9,
   "metadata": {
    "collapsed": false
   },
   "outputs": [],
   "source": [
    "Ark1836 = Cleaner(filelist[0], 1)"
   ]
  },
  {
   "cell_type": "code",
   "execution_count": 10,
   "metadata": {
    "collapsed": false
   },
   "outputs": [],
   "source": [
    "Ark1836_2g = find_ngrams(Ark1836.tokens, 2)"
   ]
  },
  {
   "cell_type": "code",
   "execution_count": 11,
   "metadata": {
    "collapsed": false
   },
   "outputs": [],
   "source": [
    "cleangrams = []\n",
    "for gram in Ark1836_2g:\n",
    "    flag = 0\n",
    "    for word in gram:\n",
    "        if word in stopwords.words('english'):\n",
    "            flag = 1\n",
    "    if flag == 0:\n",
    "        cleangrams.append(gram)"
   ]
  },
  {
   "cell_type": "code",
   "execution_count": 12,
   "metadata": {
    "collapsed": false
   },
   "outputs": [
    {
     "data": {
      "text/plain": [
       "[('absence', 'business'),\n",
       " ('absent', 'impeached'),\n",
       " ('acceptance', 'arkansas'),\n",
       " ('acceptance', 'compact'),\n",
       " ('accepted', 'ratified'),\n",
       " ('according', 'dictates'),\n",
       " ('according', 'elect'),\n",
       " ('according', 'law'),\n",
       " ('according', 'number'),\n",
       " ('according', 'rules'),\n",
       " ('account', 'less'),\n",
       " ('accrue', 'use'),\n",
       " ('accused', 'aright'),\n",
       " ('acquiring', 'possessing'),\n",
       " ('acquitted', 'liable'),\n",
       " ('acquitted', 'send'),\n",
       " ('act', 'supplementary'),\n",
       " ('acting', 'governor'),\n",
       " ('actions', 'covenant'),\n",
       " ('actions', 'law'),\n",
       " ('actions', 'prosecutions'),\n",
       " ('acts', 'congress'),\n",
       " ('actual', 'residence'),\n",
       " ('actually', 'resides'),\n",
       " ('addition', 'duties'),\n",
       " ('address', 'send'),\n",
       " ('adhering', 'enemies'),\n",
       " ('adjourn', 'may'),\n",
       " ('adjournment', 'shall'),\n",
       " ('adjutant', 'general'),\n",
       " ('admission', 'arkansas'),\n",
       " ('affirmation', 'justice'),\n",
       " ('affirmation', 'support'),\n",
       " ('aforesaid', 'writs'),\n",
       " ('age', 'native'),\n",
       " ('age', 'one'),\n",
       " ('age', 'thirty'),\n",
       " ('age', 'twenty'),\n",
       " ('agree', 'pass'),\n",
       " ('agricultural', 'interests'),\n",
       " ('alike', 'like'),\n",
       " ('allowing', 'rewards'),\n",
       " ('almighty', 'god'),\n",
       " ('also', 'one'),\n",
       " ('also', 'vest'),\n",
       " ('alter', 'reform'),\n",
       " ('alteration', 'members'),\n",
       " ('altered', 'law'),\n",
       " ('always', 'entitled'),\n",
       " ('always', 'reside'),\n",
       " ('amended', 'rejected'),\n",
       " ('america', 'consistent'),\n",
       " ('america', 'john'),\n",
       " ('amount', 'claimed'),\n",
       " ('amount', 'may'),\n",
       " ('amount', 'seventy'),\n",
       " ('amount', 'twenty'),\n",
       " ('amounts', 'five'),\n",
       " ('amounts', 'seventy'),\n",
       " ('another', 'enumeration'),\n",
       " ('another', 'governor'),\n",
       " ('another', 'send'),\n",
       " ('another', 'species'),\n",
       " ('appellate', 'jurisdiction'),\n",
       " ('applicable', 'shall'),\n",
       " ('appoint', 'attorney'),\n",
       " ('appointment', 'shall'),\n",
       " ('apportioned', 'among'),\n",
       " ('apportioned', 'upon'),\n",
       " ('appropriation', 'money'),\n",
       " ('approve', 'shall'),\n",
       " ('approved', 'majority'),\n",
       " ('aright', 'right'),\n",
       " ('arkansas', 'may'),\n",
       " ('arkansas', 'native'),\n",
       " ('arkansas', 'previous'),\n",
       " ('arkansas', 'send'),\n",
       " ('arkansas', 'shall'),\n",
       " ('arkansas', 'virtue'),\n",
       " ('arms', 'common'),\n",
       " ('army', 'made'),\n",
       " ('army', 'navy'),\n",
       " ('arranged', 'follows'),\n",
       " ('article', 'stricken'),\n",
       " ('article', 'trade'),\n",
       " ('articles', 'union'),\n",
       " ('arts', 'commerce'),\n",
       " ('ascertained', 'law'),\n",
       " ('asocial', 'social'),\n",
       " ('assemble', 'together'),\n",
       " ('assembled', 'bled'),\n",
       " ('assembly', 'clerks'),\n",
       " ('assembly', 'consist'),\n",
       " ('assembly', 'information'),\n",
       " ('assembly', 'jurisdiction'),\n",
       " ('assembly', 'may'),\n",
       " ('assembly', 'prevent'),\n",
       " ('assembly', 'provide'),\n",
       " ('assembly', 'seat'),\n",
       " ('assembly', 'send'),\n",
       " ('assembly', 'shall'),\n",
       " ('assembly', 'soon'),\n",
       " ('assembly', 'state'),\n",
       " ('assistant', 'deputy'),\n",
       " ('attend', 'erect'),\n",
       " ('attend', 'members'),\n",
       " ('attendance', 'elections'),\n",
       " ('attorney', 'circuit'),\n",
       " ('attorney', 'pro'),\n",
       " ('auditor', 'treasurer'),\n",
       " ('august', 'next'),\n",
       " ('authority', 'aforesaid'),\n",
       " ('authority', 'said'),\n",
       " ('bail', 'shall'),\n",
       " ('bank', 'banking'),\n",
       " ('bank', 'red'),\n",
       " ('banking', 'institution'),\n",
       " ('banks', 'herein'),\n",
       " ('based', 'upon'),\n",
       " ('basis', 'throughout'),\n",
       " ('bear', 'arms'),\n",
       " ('beat', 'least'),\n",
       " ('become', 'since'),\n",
       " ('become', 'vacant'),\n",
       " ('becoming', 'public'),\n",
       " ('behavior', 'officers'),\n",
       " ('behavior', 'send'),\n",
       " ('beheld', 'held'),\n",
       " ('beholden', 'holden'),\n",
       " ('belonging', 'either'),\n",
       " ('bill', 'divorce'),\n",
       " ('bill', 'entered'),\n",
       " ('bill', 'send'),\n",
       " ('bill', 'shall'),\n",
       " ('bills', 'may'),\n",
       " ('bind', 'keep'),\n",
       " ('bled', 'little'),\n",
       " ('body', 'wit'),\n",
       " ('bonds', 'executed'),\n",
       " ('born', 'citizen'),\n",
       " ('boundaries', 'state'),\n",
       " ('boundary', 'line'),\n",
       " ('bounty', 'hereafter'),\n",
       " ('branches', 'may'),\n",
       " ('breach', 'peace'),\n",
       " ('bribe', 'procure'),\n",
       " ('bribery', 'perjury'),\n",
       " ('brigades', 'field'),\n",
       " ('brigadier', 'generals'),\n",
       " ('bringing', 'suits'),\n",
       " ('business', 'shall'),\n",
       " ('calculated', 'aid'),\n",
       " ('calculated', 'encourage'),\n",
       " ('campbell', 'ready'),\n",
       " ('capacity', 'shall'),\n",
       " ('capital', 'shall'),\n",
       " ('carroll', 'shall'),\n",
       " ('case', 'bill'),\n",
       " ('case', 'dis'),\n",
       " ('case', 'may'),\n",
       " ('case', 'necessary'),\n",
       " ('case', 'penal'),\n",
       " ('case', 'rebellion'),\n",
       " ('case', 'required'),\n",
       " ('case', 'shall'),\n",
       " ('case', 'vacancy'),\n",
       " ('case', 'whatever'),\n",
       " ('cases', 'except'),\n",
       " ('cases', 'send'),\n",
       " ('cases', 'shall'),\n",
       " ('cases', 'treason'),\n",
       " ('cause', 'causes'),\n",
       " ('cause', 'election'),\n",
       " ('cause', 'forfeiture'),\n",
       " ('causes', 'judges'),\n",
       " ('causes', 'removal'),\n",
       " ('ceased', 'persons'),\n",
       " ('chancery', 'court'),\n",
       " ('chancery', 'jurisdiction'),\n",
       " ('chancery', 'send'),\n",
       " ('change', 'government'),\n",
       " ('change', 'permanent'),\n",
       " ('channel', 'river'),\n",
       " ('channel', 'said'),\n",
       " ('charge', 'juries'),\n",
       " ('charged', 'notified'),\n",
       " ('chief', 'justice'),\n",
       " ('chief', 'magistrate'),\n",
       " ('chosen', 'every'),\n",
       " ('chosen', 'governor'),\n",
       " ('chosen', 'represent'),\n",
       " ('circuit', 'court'),\n",
       " ('circuit', 'courts'),\n",
       " ('circuit', 'established'),\n",
       " ('circuit', 'fails'),\n",
       " ('circuit', 'inferior'),\n",
       " ('circuit', 'judge'),\n",
       " ('circuit', 'shall'),\n",
       " ('circuit', 'temporarily'),\n",
       " ('circuits', 'either'),\n",
       " ('citizen', 'may'),\n",
       " ('citizen', 'shall'),\n",
       " ('civil', 'cases'),\n",
       " ('civil', 'department'),\n",
       " ('civil', 'military'),\n",
       " ('civil', 'office'),\n",
       " ('civil', 'power'),\n",
       " ('civil', 'rights'),\n",
       " ('clarke', 'shall'),\n",
       " ('class', 'senators'),\n",
       " ('class', 'shall'),\n",
       " ('classed', 'prescribed'),\n",
       " ('classes', 'nine'),\n",
       " ('clerk', 'clerks'),\n",
       " ('clerks', 'courts'),\n",
       " ('clerks', 'send'),\n",
       " ('collected', 'taxed'),\n",
       " ('collection', 'persons'),\n",
       " ('collector', 'holder'),\n",
       " ('collector', 'public'),\n",
       " ('comfort', 'fort'),\n",
       " ('commander', 'chief'),\n",
       " ('commanders', 'regiments'),\n",
       " ('commenced', 'transferred'),\n",
       " ('commerce', 'manufactures'),\n",
       " ('commission', 'class'),\n",
       " ('commission', 'military'),\n",
       " ('commission', 'specially'),\n",
       " ('commissioned', 'officers'),\n",
       " ('commissions', 'court'),\n",
       " ('commissions', 'immediately'),\n",
       " ('commissions', 'send'),\n",
       " ('commissions', 'shall'),\n",
       " ('commit', 'discharge'),\n",
       " ('committed', 'seize'),\n",
       " ('common', 'law'),\n",
       " ('common', 'send'),\n",
       " ('communication', 'thoughts'),\n",
       " ('companies', 'send'),\n",
       " ('compelled', 'attend'),\n",
       " ('compelled', 'give'),\n",
       " ('compose', 'judicial'),\n",
       " ('compose', 'one'),\n",
       " ('composed', 'three'),\n",
       " ('compulsory', 'process'),\n",
       " ('con', 'contrary'),\n",
       " ('con', 'stable'),\n",
       " ('con', 'territory'),\n",
       " ('con', 'thereto'),\n",
       " ('concurrence', 'two'),\n",
       " ('conduct', 'men'),\n",
       " ('conducted', 'according'),\n",
       " ('confession', 'open'),\n",
       " ('confided', 'separate'),\n",
       " ('confirmed', 'articles'),\n",
       " ('conforming', 'nearly'),\n",
       " ('congress', 'shall'),\n",
       " ('consequence', 'appropriation'),\n",
       " ('considered', 'unconstitutional'),\n",
       " ('consist', 'con'),\n",
       " ('consist', 'less'),\n",
       " ('consist', 'members'),\n",
       " ('consist', 'senate'),\n",
       " ('constables', 'send'),\n",
       " ('constitute', 'quorum'),\n",
       " ('constitution', 'cause'),\n",
       " ('constitution', 'hereby'),\n",
       " ('constitution', 'pro'),\n",
       " ('constitution', 'ratified'),\n",
       " ('constitution', 'shall'),\n",
       " ('constitution', 'specific'),\n",
       " ('construed', 'deny'),\n",
       " ('contagious', 'diseases'),\n",
       " ('contain', 'less'),\n",
       " ('contained', 'shall'),\n",
       " ('contemptuous', 'behavior'),\n",
       " ('contested', 'election'),\n",
       " ('contested', 'governor'),\n",
       " ('continuance', 'office'),\n",
       " ('continue', 'change'),\n",
       " ('continue', 'hold'),\n",
       " ('continue', 'office'),\n",
       " ('continued', 'prison'),\n",
       " ('contract', 'except'),\n",
       " ('contracts', 'covenants'),\n",
       " ('contracts', 'individuals'),\n",
       " ('contracts', 'shall'),\n",
       " ('contrary', 'notwithstanding'),\n",
       " ('convenient', 'circuits'),\n",
       " ('convenient', 'districts'),\n",
       " ('convenient', 'divisions'),\n",
       " ('convention', 'assembled'),\n",
       " ('convention', 'little'),\n",
       " ('convicted', 'acquitted'),\n",
       " ('convicted', 'bribery'),\n",
       " ('convicted', 'directly'),\n",
       " ('convicted', 'treason'),\n",
       " ('conviction', 'shall'),\n",
       " ('conviction', 'thereof'),\n",
       " ('conway', 'shall'),\n",
       " ('coroner', 'member'),\n",
       " ('coroner', 'one'),\n",
       " ('corporation', 'courts'),\n",
       " ('corresponding', 'responding'),\n",
       " ('corruption', 'blood'),\n",
       " ('counsel', 'presided'),\n",
       " ('counties', 'arkansas'),\n",
       " ('counties', 'carroll'),\n",
       " ('counties', 'contiguous'),\n",
       " ('counties', 'conway'),\n",
       " ('counties', 'crawford'),\n",
       " ('counties', 'follows'),\n",
       " ('counties', 'hempstead'),\n",
       " ('counties', 'hot'),\n",
       " ('counties', 'independence'),\n",
       " ('counties', 'johnson'),\n",
       " ('counties', 'judge'),\n",
       " ('counties', 'lawrence'),\n",
       " ('counties', 'less'),\n",
       " ('counties', 'phillips'),\n",
       " ('counties', 'pulaski'),\n",
       " ('counties', 'saint'),\n",
       " ('counties', 'send'),\n",
       " ('counties', 'shall'),\n",
       " ('counties', 'within'),\n",
       " ('country', 'required'),\n",
       " ('county', 'arkansas'),\n",
       " ('county', 'carroll'),\n",
       " ('county', 'clarke'),\n",
       " ('county', 'conway'),\n",
       " ('county', 'counties'),\n",
       " ('county', 'court'),\n",
       " ('county', 'courts'),\n",
       " ('county', 'crawford'),\n",
       " ('county', 'dis'),\n",
       " ('county', 'district'),\n",
       " ('county', 'greene'),\n",
       " ('county', 'hempstead'),\n",
       " ('county', 'hot'),\n",
       " ('county', 'independence'),\n",
       " ('county', 'jackson'),\n",
       " ('county', 'jefferson'),\n",
       " ('county', 'johnson'),\n",
       " ('county', 'justices'),\n",
       " ('county', 'lafayette'),\n",
       " ('county', 'lawrence'),\n",
       " ('county', 'lie'),\n",
       " ('county', 'long'),\n",
       " ('county', 'may'),\n",
       " ('county', 'member'),\n",
       " ('county', 'miller'),\n",
       " ('county', 'mississippi'),\n",
       " ('county', 'monroe'),\n",
       " ('county', 'phillips'),\n",
       " ('county', 'pike'),\n",
       " ('county', 'pope'),\n",
       " ('county', 'pulaski'),\n",
       " ('county', 'purposes'),\n",
       " ('county', 'randolph'),\n",
       " ('county', 'saint'),\n",
       " ('county', 'saline'),\n",
       " ('county', 'scott'),\n",
       " ('county', 'shall'),\n",
       " ('county', 'surveyor'),\n",
       " ('county', 'surveyors'),\n",
       " ('county', 'taxes'),\n",
       " ('county', 'township'),\n",
       " ('county', 'union'),\n",
       " ('county', 'van'),\n",
       " ('county', 'washington'),\n",
       " ('county', 'white'),\n",
       " ('course', 'shall'),\n",
       " ('court', 'beholden'),\n",
       " ('court', 'commissioned'),\n",
       " ('court', 'county'),\n",
       " ('court', 'except'),\n",
       " ('court', 'judges'),\n",
       " ('court', 'manner'),\n",
       " ('court', 'may'),\n",
       " ('court', 'one'),\n",
       " ('court', 'probate'),\n",
       " ('court', 'record'),\n",
       " ('court', 'send'),\n",
       " ('court', 'shall'),\n",
       " ('court', 'sheriff'),\n",
       " ('courts', 'cause'),\n",
       " ('courts', 'chancery'),\n",
       " ('courts', 'circuits'),\n",
       " ('courts', 'clerks'),\n",
       " ('courts', 'excepted'),\n",
       " ('courts', 'justice'),\n",
       " ('courts', 'justices'),\n",
       " ('courts', 'law'),\n",
       " ('courts', 'majority'),\n",
       " ('courts', 'ratified'),\n",
       " ('courts', 'record'),\n",
       " ('courts', 'shall'),\n",
       " ('courts', 'sheriffs'),\n",
       " ('crawford', 'shall'),\n",
       " ('crime', 'shall'),\n",
       " ('crimes', 'amounting'),\n",
       " ('criminal', 'case'),\n",
       " ('criminal', 'cases'),\n",
       " ('criminal', 'charge'),\n",
       " ('criminal', 'prosecutions'),\n",
       " ('criminal', 'revised'),\n",
       " ('dangerous', 'liberty'),\n",
       " ('day', 'election'),\n",
       " ('day', 'january'),\n",
       " ('day', 'send'),\n",
       " ('day', 'today'),\n",
       " ('days', 'previous'),\n",
       " ('days', 'sundays'),\n",
       " ('death', 'refusal'),\n",
       " ('death', 'resignation'),\n",
       " ('debtor', 'except'),\n",
       " ('deceased', 'ceased'),\n",
       " ('december', 'mend'),\n",
       " ('decided', 'send'),\n",
       " ('declare', 'writs'),\n",
       " ('deem', 'expedient'),\n",
       " ('deem', 'proper'),\n",
       " ('deemed', 'considered'),\n",
       " ('deemed', 'elector'),\n",
       " ('deemed', 'necessary'),\n",
       " ('deemed', 'slaves'),\n",
       " ('defending', 'life'),\n",
       " ('degree', 'north'),\n",
       " ('degree', 'punishment'),\n",
       " ('degrees', 'may'),\n",
       " ('degrees', 'thirty'),\n",
       " ('delegated', 'declare'),\n",
       " ('deny', 'disparage'),\n",
       " ('department', 'state'),\n",
       " ('departments', 'shall'),\n",
       " ('deprived', 'impartial'),\n",
       " ('destroyed', 'deprived'),\n",
       " ('determination', 'thereof'),\n",
       " ('determined', 'yeas'),\n",
       " ('die', 'absent'),\n",
       " ('different', 'days'),\n",
       " ('different', 'place'),\n",
       " ('diminished', 'time'),\n",
       " ('direct', 'law'),\n",
       " ('direct', 'making'),\n",
       " ('direct', 'send'),\n",
       " ('directed', 'law'),\n",
       " ('directed', 'send'),\n",
       " ('direction', 'assembly'),\n",
       " ('directly', 'indirectly'),\n",
       " ('disapproved', 'shall'),\n",
       " ('disbursements', 'money'),\n",
       " ('discharge', 'recognize'),\n",
       " ('diseases', 'case'),\n",
       " ('disparage', 'others'),\n",
       " ('disqualification', 'hold'),\n",
       " ('district', 'may'),\n",
       " ('district', 'nearly'),\n",
       " ('district', 'send'),\n",
       " ('districts', 'send'),\n",
       " ('districts', 'shall'),\n",
       " ('divided', 'lot'),\n",
       " ('divisions', 'brigades'),\n",
       " ('divisions', 'brigadier'),\n",
       " ('duly', 'elected'),\n",
       " ('duly', 'qualified'),\n",
       " ('duties', 'may'),\n",
       " ('duties', 'shall'),\n",
       " ('duty', 'provide'),\n",
       " ('eight', 'hundred'),\n",
       " ('eight', 'second'),\n",
       " ('eight', 'years'),\n",
       " ('either', 'house'),\n",
       " ('either', 'temporarily'),\n",
       " ('elect', 'clerk'),\n",
       " ('elect', 'county'),\n",
       " ('elect', 'one'),\n",
       " ('elect', 'six'),\n",
       " ('elect', 'three'),\n",
       " ('elect', 'two'),\n",
       " ('elected', 'conforming'),\n",
       " ('elected', 'every'),\n",
       " ('elected', 'expel'),\n",
       " ('elected', 'fill'),\n",
       " ('elected', 'joint'),\n",
       " ('elected', 'mend'),\n",
       " ('elected', 'one'),\n",
       " ('elected', 'ratified'),\n",
       " ('elected', 'send'),\n",
       " ('elected', 'subject'),\n",
       " ('election', 'appointment'),\n",
       " ('election', 'beheld'),\n",
       " ('election', 'congress'),\n",
       " ('election', 'decided'),\n",
       " ('election', 'fill'),\n",
       " ('election', 'joint'),\n",
       " ('election', 'send'),\n",
       " ('election', 'shall'),\n",
       " ('election', 'two'),\n",
       " ('election', 'within'),\n",
       " ('elections', 'governor'),\n",
       " ('elections', 'held'),\n",
       " ('elections', 'shall'),\n",
       " ('eligible', 'seat'),\n",
       " ('emancipation', 'without'),\n",
       " ('encourage', 'humanity'),\n",
       " ('encourage', 'intellectual'),\n",
       " ('end', 'eight'),\n",
       " ('end', 'every'),\n",
       " ('end', 'four'),\n",
       " ('end', 'shall'),\n",
       " ('end', 'six'),\n",
       " ('end', 'two'),\n",
       " ('enemies', 'giving'),\n",
       " ('enlarged', 'account'),\n",
       " ('entitled', 'one'),\n",
       " ('entitled', 'vote'),\n",
       " ('enumeration', 'arrange'),\n",
       " ('enumeration', 'rights'),\n",
       " ('enumeration', 'shall'),\n",
       " ('equal', 'number'),\n",
       " ('equal', 'send'),\n",
       " ('equal', 'systematic'),\n",
       " ('equal', 'throughout'),\n",
       " ('equal', 'value'),\n",
       " ('equally', 'apportioned'),\n",
       " ('equally', 'divided'),\n",
       " ('equity', 'may'),\n",
       " ('equity', 'secretary'),\n",
       " ('equity', 'shall'),\n",
       " ('equity', 'subject'),\n",
       " ('essential', 'principles'),\n",
       " ('establish', 'courts'),\n",
       " ('establish', 'ratify'),\n",
       " ('established', 'declare'),\n",
       " ('established', 'law'),\n",
       " ('established', 'ratified'),\n",
       " ('established', 'shall'),\n",
       " ('establishment', 'county'),\n",
       " ('establishment', 'mode'),\n",
       " ('estate', 'send'),\n",
       " ('estates', 'persons'),\n",
       " ('ever', 'given'),\n",
       " ('ever', 'granted'),\n",
       " ('ever', 'made'),\n",
       " ('ever', 'reduced'),\n",
       " ('every', 'bill'),\n",
       " ('every', 'case'),\n",
       " ('every', 'citizen'),\n",
       " ('every', 'election'),\n",
       " ('every', 'enumeration'),\n",
       " ('every', 'fifty'),\n",
       " ('every', 'four'),\n",
       " ('every', 'free'),\n",
       " ('every', 'office'),\n",
       " ('every', 'order'),\n",
       " ('every', 'person'),\n",
       " ('every', 'second'),\n",
       " ('every', 'thing'),\n",
       " ('every', 'two'),\n",
       " ('exceed', 'one'),\n",
       " ('except', 'actions'),\n",
       " ('except', 'cases'),\n",
       " ('except', 'consent'),\n",
       " ('except', 'directed'),\n",
       " ('except', 'shall'),\n",
       " ('except', 'treason'),\n",
       " ('excepted', 'shall'),\n",
       " ('excessive', 'bail'),\n",
       " ('excessive', 'fines'),\n",
       " ('exchange', 'deceased'),\n",
       " ('exclusive', 'original'),\n",
       " ('executed', 'send'),\n",
       " ('executive', 'another'),\n",
       " ('executive', 'power'),\n",
       " ('executors', 'administrators'),\n",
       " ('exercise', 'belonging'),\n",
       " ('exercise', 'control'),\n",
       " ('exercising', 'governor'),\n",
       " ('exiled', 'orin'),\n",
       " ('existing', 'laws'),\n",
       " ('expedient', 'establish'),\n",
       " ('expedient', 'send'),\n",
       " ('expelled', 'second'),\n",
       " ('expenses', 'inspection'),\n",
       " ('expenses', 'unless'),\n",
       " ('expressly', 'directed'),\n",
       " ('extend', 'beyond'),\n",
       " ('extraordinary', 'occasions'),\n",
       " ('face', 'face'),\n",
       " ('fact', 'committed'),\n",
       " ('facts', 'send'),\n",
       " ('fails', 'attend'),\n",
       " ('fair', 'register'),\n",
       " ('faithfully', 'executed'),\n",
       " ('faithfully', 'office'),\n",
       " ('far', 'applicable'),\n",
       " ('february', 'mend'),\n",
       " ('federal', 'constitution'),\n",
       " ('fees', 'office'),\n",
       " ('felony', 'breach'),\n",
       " ('field', 'officers'),\n",
       " ('fifteen', 'hundred'),\n",
       " ('fifty', 'four'),\n",
       " ('fifty', 'voters'),\n",
       " ('fill', 'giving'),\n",
       " ('final', 'adjournment'),\n",
       " ('finally', 'ratified'),\n",
       " ('finally', 'taken'),\n",
       " ('find', 'necessary'),\n",
       " ('fines', 'imposed'),\n",
       " ('fines', 'penalties'),\n",
       " ('first', 'class'),\n",
       " ('first', 'day'),\n",
       " ('first', 'election'),\n",
       " ('first', 'enumeration'),\n",
       " ('first', 'general'),\n",
       " ('first', 'monday'),\n",
       " ('first', 'session'),\n",
       " ('first', 'week'),\n",
       " ('five', 'age'),\n",
       " ('five', 'days'),\n",
       " ('five', 'hundred'),\n",
       " ('five', 'members'),\n",
       " ('five', 'number'),\n",
       " ('five', 'sand'),\n",
       " ('five', 'years'),\n",
       " ('fixed', 'law'),\n",
       " ('following', 'constitution'),\n",
       " ('following', 'shall'),\n",
       " ('follows', 'county'),\n",
       " ('foregoing', 'purposes'),\n",
       " ('foreign', 'power'),\n",
       " ('forfeiture', 'residence'),\n",
       " ('form', 'asocial'),\n",
       " ('formation', 'senatorial'),\n",
       " ('forming', 'constitution'),\n",
       " ('fort', 'person'),\n",
       " ('four', 'ears'),\n",
       " ('four', 'six'),\n",
       " ('four', 'years'),\n",
       " ('francis', 'river'),\n",
       " ('francis', 'shall'),\n",
       " ('fraud', 'shall'),\n",
       " ('free', 'communication'),\n",
       " ('free', 'every'),\n",
       " ('free', 'govern'),\n",
       " ('free', 'government'),\n",
       " ('free', 'pursuit'),\n",
       " ('free', 'white'),\n",
       " ('freely', 'accepted'),\n",
       " ('freely', 'speak'),\n",
       " ('freeman', 'shall'),\n",
       " ('funds', 'belonging'),\n",
       " ('funds', 'necessary'),\n",
       " ('fur', 'trial'),\n",
       " ('gable', 'waters'),\n",
       " ('general', 'assembly'),\n",
       " ('general', 'control'),\n",
       " ('general', 'determine'),\n",
       " ('general', 'election'),\n",
       " ('general', 'elections'),\n",
       " ('general', 'powers'),\n",
       " ('general', 'regulations'),\n",
       " ('general', 'warrants'),\n",
       " ('generally', 'diffused'),\n",
       " ('generals', 'brigadier'),\n",
       " ('generals', 'shall'),\n",
       " ('genius', 'republic'),\n",
       " ('give', 'evidence'),\n",
       " ('give', 'offer'),\n",
       " ('given', 'evidence'),\n",
       " ('given', 'stockholders'),\n",
       " ('giving', 'bribe'),\n",
       " ('giving', 'proclamation'),\n",
       " ('god', 'according'),\n",
       " ('god', 'shall'),\n",
       " ('good', 'behavior'),\n",
       " ('good', 'instruct'),\n",
       " ('govern', 'may'),\n",
       " ('government', 'declare'),\n",
       " ('government', 'different'),\n",
       " ('government', 'send'),\n",
       " ('government', 'shall'),\n",
       " ('government', 'thereof'),\n",
       " ('governor', 'absent'),\n",
       " ('governor', 'far'),\n",
       " ('governor', 'members'),\n",
       " ('governor', 'secretary'),\n",
       " ('governor', 'shall'),\n",
       " ('grant', 'pardons'),\n",
       " ('grant', 'reprieves'),\n",
       " ('granted', 'send'),\n",
       " ('great', 'agricultural'),\n",
       " ('greater', 'number'),\n",
       " ('greater', 'tax'),\n",
       " ('greene', 'shall'),\n",
       " ('ground', 'impeachment'),\n",
       " ('guardians', 'may'),\n",
       " ('happen', 'offices'),\n",
       " ('happen', 'within'),\n",
       " ('happiness', 'mutually'),\n",
       " ('happiness', 'send'),\n",
       " ('hawkers', 'peddlers'),\n",
       " ('heirs', 'remain'),\n",
       " ('held', 'fill'),\n",
       " ('held', 'thereof'),\n",
       " ('hempstead', 'shall'),\n",
       " ('hereafter', 'collector'),\n",
       " ('hereafter', 'granted'),\n",
       " ('hereafter', 'incorporated'),\n",
       " ('hereby', 'freely'),\n",
       " ('hereby', 'stricken'),\n",
       " ('hereditary', 'privileges'),\n",
       " ('herein', 'contained'),\n",
       " ('herein', 'delegated'),\n",
       " ('herein', 'retained'),\n",
       " ('herein', 'specified'),\n",
       " ('hereinafter', 'expressly'),\n",
       " ('heretofore', 'defining'),\n",
       " ('heretofore', 'taken'),\n",
       " ('high', 'crime'),\n",
       " ('higher', 'number'),\n",
       " ('higher', 'powers'),\n",
       " ('highest', 'one'),\n",
       " ('highly', 'conducive'),\n",
       " ('holden', 'every'),\n",
       " ('holder', 'collector'),\n",
       " ('holder', 'public'),\n",
       " ('holding', 'commissions'),\n",
       " ('holding', 'office'),\n",
       " ('honors', 'ever'),\n",
       " ('hot', 'spring'),\n",
       " ('house', 'contemptuous'),\n",
       " ('house', 'may'),\n",
       " ('house', 'representatives'),\n",
       " ('house', 'respectively'),\n",
       " ('house', 'shall'),\n",
       " ('house', 'unless'),\n",
       " ('house', 'well'),\n",
       " ('house', 'without'),\n",
       " ('houses', 'according'),\n",
       " ('houses', 'contested'),\n",
       " ('houses', 'elect'),\n",
       " ('houses', 'examine'),\n",
       " ('houses', 'may'),\n",
       " ('houses', 'papers'),\n",
       " ('houses', 'shall'),\n",
       " ('however', 'small'),\n",
       " ('humanity', 'industry'),\n",
       " ('humanity', 'send'),\n",
       " ('hundred', 'dollars'),\n",
       " ('hundred', 'free'),\n",
       " ('hundred', 'ratified'),\n",
       " ('hundred', 'square'),\n",
       " ('immediately', 'cause'),\n",
       " ('immediately', 'thereafter'),\n",
       " ('impartial', 'jury'),\n",
       " ('impeached', 'shall'),\n",
       " ('impeached', 'whether'),\n",
       " ('impeachment', 'power'),\n",
       " ('impeachment', 'send'),\n",
       " ('imposed', 'lands'),\n",
       " ('imposed', 'send'),\n",
       " ('improvement', 'arts'),\n",
       " ('improvement', 'relation'),\n",
       " ('improvements', 'shall'),\n",
       " ('included', 'brackets'),\n",
       " ('inconvenience', 'may'),\n",
       " ('incorporate', 'banking'),\n",
       " ('incorporate', 'one'),\n",
       " ('incorporated', 'established'),\n",
       " ('incorporated', 'towns'),\n",
       " ('incorporation', 'corporation'),\n",
       " ('increase', 'senators'),\n",
       " ('increased', 'diminished'),\n",
       " ('independence', 'shall'),\n",
       " ('indictment', 'present'),\n",
       " ('indirectly', 'giving'),\n",
       " ('individually', 'two'),\n",
       " ('inequity', 'equity'),\n",
       " ('inferior', 'court'),\n",
       " ('inferior', 'courts'),\n",
       " ('inflicted', 'person'),\n",
       " ('information', 'thereof'),\n",
       " ('information', 'writing'),\n",
       " ('inhabitants', 'county'),\n",
       " ('inhabitants', 'may'),\n",
       " ('inhabitants', 'therein'),\n",
       " ('injury', 'send'),\n",
       " ('injustices', 'justices'),\n",
       " ('inserted', 'amendment'),\n",
       " ('inspection', 'send'),\n",
       " ('instances', 'hereinafter'),\n",
       " ('instead', 'thereof'),\n",
       " ('institution', 'calculated'),\n",
       " ('institution', 'shall'),\n",
       " ('intellectual', 'scientific'),\n",
       " ('internal', 'improvement'),\n",
       " ('internal', 'improvements'),\n",
       " ('irrevocably', 'confirmed'),\n",
       " ('issue', 'con'),\n",
       " ('issue', 'process'),\n",
       " ('issue', 'writs'),\n",
       " ('jackson', 'shall'),\n",
       " ('january', 'one'),\n",
       " ('jefferson', 'shall'),\n",
       " ('jeopardy', 'life'),\n",
       " ('john', 'wilson'),\n",
       " ('johnson', 'shall'),\n",
       " ('joint', 'concurrent'),\n",
       " ('joint', 'vote'),\n",
       " ('jointly', 'exclusive'),\n",
       " ('journal', 'send'),\n",
       " ('judge', 'justice'),\n",
       " ('judge', 'ratified'),\n",
       " ('judge', 'shall'),\n",
       " ('judges', 'declare'),\n",
       " ('judges', 'one'),\n",
       " ('judges', 'shall'),\n",
       " ('judges', 'thereof'),\n",
       " ('judgments', 'claims'),\n",
       " ('judicial', 'another'),\n",
       " ('judicial', 'circuit'),\n",
       " ('judicial', 'power'),\n",
       " ('jurisdiction', 'determine'),\n",
       " ('jurisdiction', 'matters'),\n",
       " ('jurisdiction', 'may'),\n",
       " ('jurisdiction', 'send'),\n",
       " ('jury', 'shall'),\n",
       " ('justice', 'according'),\n",
       " ('justice', 'granted'),\n",
       " ('justice', 'peace'),\n",
       " ('keep', 'fair'),\n",
       " ('kept', 'strict'),\n",
       " ('lafayette', 'shall'),\n",
       " ('laid', 'order'),\n",
       " ('land', 'send'),\n",
       " ('large', 'upon'),\n",
       " ('late', 'governor'),\n",
       " ('late', 'war'),\n",
       " ('latitude', 'running'),\n",
       " ('latitude', 'saint'),\n",
       " ('law', 'cases'),\n",
       " ('law', 'directed'),\n",
       " ('law', 'equity'),\n",
       " ('law', 'impairing'),\n",
       " ('law', 'judges'),\n",
       " ('law', 'knowledge'),\n",
       " ('law', 'like'),\n",
       " ('law', 'orin'),\n",
       " ('law', 'presiding'),\n",
       " ('law', 'provided'),\n",
       " ('law', 'ratified'),\n",
       " ('law', 'send'),\n",
       " ('law', 'shall'),\n",
       " ('lawrence', 'shall'),\n",
       " ('laws', 'civil'),\n",
       " ('laws', 'con'),\n",
       " ('laws', 'faithfully'),\n",
       " ('laws', 'may'),\n",
       " ('laws', 'permit'),\n",
       " ('laws', 'send'),\n",
       " ('laws', 'shall'),\n",
       " ('learning', 'generally'),\n",
       " ('least', 'four'),\n",
       " ('least', 'shall'),\n",
       " ('least', 'thirty'),\n",
       " ('least', 'twelve'),\n",
       " ('least', 'twenty'),\n",
       " ('legislative', 'one'),\n",
       " ('legislative', 'power'),\n",
       " ('legislature', 'remove'),\n",
       " ('less', 'number'),\n",
       " ('less', 'population'),\n",
       " ('levying', 'war'),\n",
       " ('liable', 'send'),\n",
       " ('liable', 'tried'),\n",
       " ('liberties', 'outlawed'),\n",
       " ('liberty', 'send'),\n",
       " ('lie', 'may'),\n",
       " ('life', 'acquiring'),\n",
       " ('life', 'liberty'),\n",
       " ('life', 'limb'),\n",
       " ('like', 'manner'),\n",
       " ('like', 'revision'),\n",
       " ('likewise', 'shall'),\n",
       " ('limb', 'send'),\n",
       " ('limitations', 'altered'),\n",
       " ('limitations', 'prescribed'),\n",
       " ('little', 'rock'),\n",
       " ('live', 'ratio'),\n",
       " ('local', 'concerns'),\n",
       " ('longer', 'two'),\n",
       " ('lord', 'one'),\n",
       " ('loss', 'injury'),\n",
       " ('lot', 'divide'),\n",
       " ('lottery', 'shall'),\n",
       " ('lottery', 'tickets'),\n",
       " ('louisiana', 'order'),\n",
       " ('louisiana', 'thence'),\n",
       " ('made', 'clerks'),\n",
       " ('made', 'elective'),\n",
       " ('made', 'send'),\n",
       " ('made', 'within'),\n",
       " ('magistrate', 'shall'),\n",
       " ('main', 'channel'),\n",
       " ('major', 'generals'),\n",
       " ('majority', 'number'),\n",
       " ('make', 'provisions'),\n",
       " ('male', 'citizen'),\n",
       " ('male', 'inhabitants'),\n",
       " ('malpractice', 'office'),\n",
       " ('man', 'marine'),\n",
       " ('man', 'shall'),\n",
       " ('manner', 'administer'),\n",
       " ('manner', 'assemble'),\n",
       " ('manner', 'bringing'),\n",
       " ('manner', 'commenced'),\n",
       " ('manner', 'destroyed'),\n",
       " ('manner', 'may'),\n",
       " ('manner', 'prescribed'),\n",
       " ('matter', 'fact'),\n",
       " ('matter', 'published'),\n",
       " ('matter', 'thereof'),\n",
       " ('matters', 'contract'),\n",
       " ('matters', 'contracts'),\n",
       " ('matters', 'equity'),\n",
       " ('matters', 'relative'),\n",
       " ('may', 'according'),\n",
       " ('may', 'adjourn'),\n",
       " ('may', 'administered'),\n",
       " ('may', 'also'),\n",
       " ('may', 'appropriated'),\n",
       " ('may', 'arise'),\n",
       " ('may', 'chosen'),\n",
       " ('may', 'collected'),\n",
       " ('may', 'commenced'),\n",
       " ('may', 'continue'),\n",
       " ('may', 'deem'),\n",
       " ('may', 'deemed'),\n",
       " ('may', 'determine'),\n",
       " ('may', 'direct'),\n",
       " ('may', 'elected'),\n",
       " ('may', 'exercising'),\n",
       " ('may', 'find'),\n",
       " ('may', 'freely'),\n",
       " ('may', 'given'),\n",
       " ('may', 'granted'),\n",
       " ('may', 'happen'),\n",
       " ('may', 'hold'),\n",
       " ('may', 'incorporate'),\n",
       " ('may', 'increased'),\n",
       " ('may', 'intended'),\n",
       " ('may', 'law'),\n",
       " ('may', 'make'),\n",
       " ('may', 'necessary'),\n",
       " ('may', 'originate'),\n",
       " ('may', 'passed'),\n",
       " ('may', 'pending'),\n",
       " ('may', 'pledged'),\n",
       " ('may', 'prescribed'),\n",
       " ('may', 'proclamation'),\n",
       " ('may', 'punish'),\n",
       " ('may', 'punishable'),\n",
       " ('may', 'raised'),\n",
       " ('may', 'received'),\n",
       " ('may', 'recognized'),\n",
       " ('may', 'reduced'),\n",
       " ('may', 'require'),\n",
       " ('may', 'required'),\n",
       " ('may', 'search'),\n",
       " ('may', 'sit'),\n",
       " ('may', 'state'),\n",
       " ('may', 'taken'),\n",
       " ('may', 'think'),\n",
       " ('measures', 'may'),\n",
       " ('meet', 'every'),\n",
       " ('member', 'congress'),\n",
       " ('member', 'shall'),\n",
       " ('members', 'behavior'),\n",
       " ('members', 'chosen'),\n",
       " ('members', 'elected'),\n",
       " ('members', 'send'),\n",
       " ('members', 'shall'),\n",
       " ('members', 'soon'),\n",
       " ('members', 'two'),\n",
       " ('men', 'law'),\n",
       " ('men', 'public'),\n",
       " ('mend', 'judges'),\n",
       " ('merchandise', 'oblige'),\n",
       " ('merchants', 'hawkers'),\n",
       " ('miles', 'except'),\n",
       " ('miles', 'included'),\n",
       " ('miles', 'less'),\n",
       " ('military', 'duty'),\n",
       " ('military', 'either'),\n",
       " ('military', 'services'),\n",
       " ('military', 'shall'),\n",
       " ('militia', 'officers'),\n",
       " ...]"
      ]
     },
     "execution_count": 12,
     "metadata": {},
     "output_type": "execute_result"
    }
   ],
   "source": [
    "sorted(set(cleangrams))"
   ]
  },
  {
   "cell_type": "code",
   "execution_count": 13,
   "metadata": {
    "collapsed": false
   },
   "outputs": [],
   "source": [
    "Col1876 = Cleaner(filelist[15])"
   ]
  },
  {
   "cell_type": "code",
   "execution_count": 14,
   "metadata": {
    "collapsed": false
   },
   "outputs": [],
   "source": [
    "fdist1 = nltk.FreqDist(Ark1836)"
   ]
  },
  {
   "cell_type": "code",
   "execution_count": 15,
   "metadata": {
    "collapsed": true
   },
   "outputs": [],
   "source": [
    "fdist2 = nltk.FreqDist(Col1876)"
   ]
  },
  {
   "cell_type": "code",
   "execution_count": 16,
   "metadata": {
    "collapsed": false
   },
   "outputs": [
    {
     "name": "stdout",
     "output_type": "stream",
     "text": [
      "('the', 746) ('shall', 395) ('and', 342) ('send', 132) ('state', 113) ('for', 99) ('may', 82) ('one', 82) ('any', 81) ('general', 68) ('county', 68) ('have', 63) ('that', 60) ('elect', 59) ('which', 59) ('assembly', 59) ('all', 57) ('from', 52) ('such', 48) ('law', 48) ('this', 47) ('their', 44) ('two', 43) ('not', 42) ('house', 38) ('office', 38) ('governor', 37) ('each', 37) ('time', 36) ('representatives', 34) ('years', 34) ('other', 33) ('court', 31) ('elected', 30) ('arkansas', 29) ('they', 29) ('his', 29) ('power', 28) ('who', 28) ('counties', 28) ('courts', 27) ('states', 27) ('united', 25) ('until', 24) ('peace', 23) ('circuit', 23) ('with', 23) ('are', 23) ('every', 22) ('representative', 22) ****************************************************\n",
      "('shall', 2239) ('state', 884) ('county', 645) ('section', 628) ('general', 502) ('may', 490) ('city', 385) ('november', 358) ('said', 347) ('law', 340) ('governor', 320) ('provided', 319) ('assembly', 313) ('property', 302) ('upon', 301) ('mend', 297) ('board', 288) ('election', 287) ('year', 282) ('district', 279) ('office', 277) ('service', 243) ('one', 242) ('effective', 240) ('court', 215) ('colorado', 208) ('january', 206) ('charter', 205) ('members', 204) ('article', 200) ('tax', 197) ('amended', 193) ('public', 177) ('term', 175) ('fund', 173) ('within', 173) ('except', 173) ('constitution', 172) ('person', 170) ('vote', 164) ('electors', 156) ('proclamation', 152) ('provisions', 152) ('time', 147) ('officers', 145) ('thereof', 144) ('petition', 144) ('years', 141) ('elected', 138) ('authority', 132) "
     ]
    }
   ],
   "source": [
    "for thing in fdist1.most_common(50):\n",
    "    print(thing, end=' ')\n",
    "\n",
    "print('****************************************************')\n",
    "\n",
    "for thing in fdist2.most_common(50):\n",
    "    print(thing, end=' ')"
   ]
  },
  {
   "cell_type": "code",
   "execution_count": 17,
   "metadata": {
    "collapsed": false,
    "scrolled": true
   },
   "outputs": [
    {
     "data": {
      "image/png": "[encoded data removed]",
      "text/plain": [
       "<matplotlib.figure.Figure at 0xb97af28>"
      ]
     },
     "metadata": {},
     "output_type": "display_data"
    }
   ],
   "source": [
    "fdist1.plot(40)"
   ]
  },
  {
   "cell_type": "code",
   "execution_count": 18,
   "metadata": {
    "collapsed": false
   },
   "outputs": [
    {
     "data": {
      "image/png": "[encoded data removed]",
      "text/plain": [
       "<matplotlib.figure.Figure at 0xb9f6a58>"
      ]
     },
     "metadata": {},
     "output_type": "display_data"
    }
   ],
   "source": [
    "fdist2.plot(40)"
   ]
  },
  {
   "cell_type": "markdown",
   "metadata": {},
   "source": [
    "Here are some collocations from this document. One possible point of distinguising things might be \"free white\". "
   ]
  },
  {
   "cell_type": "code",
   "execution_count": 19,
   "metadata": {
    "collapsed": false,
    "scrolled": true
   },
   "outputs": [
    {
     "name": "stdout",
     "output_type": "stream",
     "text": [
      "general assembly; united states; elect one; one representative;\n",
      "representative county; shall elect; senator counties; compose one; one\n",
      "senator; free white; supreme court; ratified november; shall compose;\n",
      "house representatives; white male; two representatives; joint vote;\n",
      "representatives county; state arkansas; november mend\n"
     ]
    }
   ],
   "source": [
    "Ark1836.collocations()"
   ]
  },
  {
   "cell_type": "code",
   "execution_count": 20,
   "metadata": {
    "collapsed": false
   },
   "outputs": [
    {
     "name": "stdout",
     "output_type": "stream",
     "text": [
      "general assembly; mend section; november effective; proclamation\n",
      "governor; upon proclamation; amended november; city county; united\n",
      "states; home rule; effective upon; supreme court; fiscal year; january\n",
      "mend; limited gaming; registered electors; county denver; valuation\n",
      "assessment; qualified electors; property tax; city town\n"
     ]
    }
   ],
   "source": [
    "Col1876.collocations()"
   ]
  },
  {
   "cell_type": "code",
   "execution_count": 21,
   "metadata": {
    "collapsed": false
   },
   "outputs": [
    {
     "name": "stdout",
     "output_type": "stream",
     "text": [
      "Displaying 12 of 12 matches:\n",
      " purposes address send that the free white men this state shall have aright rig\n",
      "ouse representatives send every free white male citizen the united states who s\n",
      "twenty five years who shall not free white male citizen the who shall not have \n",
      "tained the age thirty years not free white male citizen the united states who s\n",
      "the senate shall based upon the free white male inhabitants the state each equa\n",
      "d elect one senator counties pulaski white and saline shall compose one dis and\n",
      "nearly practicable equal number free white male inhabitants county long its pop\n",
      "he senate shall fifteen hundred free white each senator until the senators amou\n",
      "ut the state such ratio numbers free white male inhabitants may require without\n",
      "ies this state according number free white male inhabitants therein taking five\n",
      "all elect two representatives county white shall elect one representative count\n",
      "the several counties the number free white males each county above prescribed s\n"
     ]
    }
   ],
   "source": [
    "Ark1836.concordance('white')"
   ]
  },
  {
   "cell_type": "code",
   "execution_count": 22,
   "metadata": {
    "collapsed": false
   },
   "outputs": [
    {
     "name": "stdout",
     "output_type": "stream",
     "text": [
      "No matches\n"
     ]
    }
   ],
   "source": [
    "Col1876.concordance('white')"
   ]
  },
  {
   "cell_type": "code",
   "execution_count": 23,
   "metadata": {
    "collapsed": false
   },
   "outputs": [
    {
     "name": "stdout",
     "output_type": "stream",
     "text": [
      "and_govern shall_every shall_and numbers_white all_govern number_white\n",
      "not_white preservation_government hundred_white the_communication\n",
      "the_white the_pursuit every_white\n",
      "None\n",
      "send_representative one_the one_counties shall_who each_until one_and\n",
      "None\n"
     ]
    }
   ],
   "source": [
    "print(Ark1836.common_contexts(['free'], 50))\n",
    "print(Ark1836.common_contexts(['senator'], 50))"
   ]
  },
  {
   "cell_type": "code",
   "execution_count": 24,
   "metadata": {
    "collapsed": false
   },
   "outputs": [
    {
     "name": "stdout",
     "output_type": "stream",
     "text": [
      "legislature_state value_games\n",
      "None\n"
     ]
    }
   ],
   "source": [
    "print(Col1876.common_contexts(['free'], 50))"
   ]
  },
  {
   "cell_type": "markdown",
   "metadata": {},
   "source": [
    "Note the conspicuous presence of \"white male\" and \"free white\"...where do these terms usually occur?"
   ]
  },
  {
   "cell_type": "code",
   "execution_count": 25,
   "metadata": {
    "collapsed": false
   },
   "outputs": [
    {
     "data": {
      "image/png": "[encoded data removed]",
      "text/plain": [
       "<matplotlib.figure.Figure at 0xdeae2b0>"
      ]
     },
     "metadata": {},
     "output_type": "display_data"
    }
   ],
   "source": [
    "Ark1836.dispersion_plot(['united', 'white', 'free', 'county', 'trial', 'slave', 'property'])"
   ]
  },
  {
   "cell_type": "code",
   "execution_count": 26,
   "metadata": {
    "collapsed": false
   },
   "outputs": [
    {
     "data": {
      "image/png": "[encoded data removed]",
      "text/plain": [
       "<matplotlib.figure.Figure at 0xca86400>"
      ]
     },
     "metadata": {},
     "output_type": "display_data"
    }
   ],
   "source": [
    "Col1876.dispersion_plot(['united', 'white', 'free', 'county', 'trial', 'slave', 'property'])"
   ]
  },
  {
   "cell_type": "markdown",
   "metadata": {},
   "source": [
    "# Some preliminary comparisons\n",
    "\n",
    "Let's see if we can get the first say twenty documents and compare them. I'm actually going to do this without really knowing what the files are"
   ]
  },
  {
   "cell_type": "code",
   "execution_count": 27,
   "metadata": {
    "collapsed": false
   },
   "outputs": [
    {
     "name": "stdout",
     "output_type": "stream",
     "text": [
      "AK1836 AK1959 AL1819 AL1861 AL1865 AL1868 AL1875 AL1901 AL1901 AL1901 AL1901 AR1864 AR1868 AR1874 AZ1912 CO1876 CO1876 CO1876 "
     ]
    },
    {
     "ename": "KeyboardInterrupt",
     "evalue": "",
     "output_type": "error",
     "traceback": [
      "\u001b[0;31m---------------------------------------------------------------------------\u001b[0m",
      "\u001b[0;31mKeyboardInterrupt\u001b[0m                         Traceback (most recent call last)",
      "\u001b[0;32m<ipython-input-27-2ff1117e1122>\u001b[0m in \u001b[0;36m<module>\u001b[0;34m()\u001b[0m\n\u001b[1;32m      3\u001b[0m     \u001b[0mresult\u001b[0m \u001b[1;33m=\u001b[0m \u001b[0mre\u001b[0m\u001b[1;33m.\u001b[0m\u001b[0msearch\u001b[0m\u001b[1;33m(\u001b[0m\u001b[1;34m'[^_]*'\u001b[0m\u001b[1;33m,\u001b[0m \u001b[0mitem\u001b[0m\u001b[1;33m)\u001b[0m\u001b[1;33m\u001b[0m\u001b[0m\n\u001b[1;32m      4\u001b[0m     \u001b[0mresult\u001b[0m \u001b[1;33m=\u001b[0m \u001b[0mresult\u001b[0m\u001b[1;33m.\u001b[0m\u001b[0mgroup\u001b[0m\u001b[1;33m(\u001b[0m\u001b[1;36m0\u001b[0m\u001b[1;33m)\u001b[0m\u001b[1;33m\u001b[0m\u001b[0m\n\u001b[0;32m----> 5\u001b[0;31m     \u001b[0mconst_dict\u001b[0m\u001b[1;33m[\u001b[0m\u001b[1;34m'{}'\u001b[0m\u001b[1;33m.\u001b[0m\u001b[0mformat\u001b[0m\u001b[1;33m(\u001b[0m\u001b[0mresult\u001b[0m\u001b[1;33m)\u001b[0m \u001b[1;33m]\u001b[0m \u001b[1;33m=\u001b[0m \u001b[0mCleaner\u001b[0m\u001b[1;33m(\u001b[0m\u001b[0mitem\u001b[0m\u001b[1;33m)\u001b[0m\u001b[1;33m\u001b[0m\u001b[0m\n\u001b[0m\u001b[1;32m      6\u001b[0m     \u001b[0mprint\u001b[0m\u001b[1;33m(\u001b[0m\u001b[0mresult\u001b[0m\u001b[1;33m,\u001b[0m \u001b[0mend\u001b[0m\u001b[1;33m=\u001b[0m\u001b[1;34m' '\u001b[0m\u001b[1;33m)\u001b[0m\u001b[1;33m\u001b[0m\u001b[0m\n",
      "\u001b[0;32m<ipython-input-7-50d062e2234e>\u001b[0m in \u001b[0;36mCleaner\u001b[0;34m(filename, flag)\u001b[0m\n\u001b[1;32m      9\u001b[0m         \u001b[1;32melse\u001b[0m\u001b[1;33m:\u001b[0m\u001b[1;33m\u001b[0m\u001b[0m\n\u001b[1;32m     10\u001b[0m             \u001b[1;32mif\u001b[0m \u001b[0mi\u001b[0m \u001b[1;33m<\u001b[0m \u001b[0mlen\u001b[0m\u001b[1;33m(\u001b[0m\u001b[0mwords\u001b[0m\u001b[1;33m)\u001b[0m \u001b[1;33m-\u001b[0m\u001b[1;36m2\u001b[0m\u001b[1;33m:\u001b[0m\u001b[1;33m\u001b[0m\u001b[0m\n\u001b[0;32m---> 11\u001b[0;31m                 \u001b[1;32mif\u001b[0m \u001b[1;33m(\u001b[0m\u001b[0mwords\u001b[0m\u001b[1;33m[\u001b[0m\u001b[0mi\u001b[0m\u001b[1;33m]\u001b[0m \u001b[1;33m+\u001b[0m \u001b[0mwords\u001b[0m\u001b[1;33m[\u001b[0m\u001b[0mi\u001b[0m\u001b[1;33m+\u001b[0m\u001b[1;36m1\u001b[0m\u001b[1;33m]\u001b[0m \u001b[1;32min\u001b[0m \u001b[0mdictwords\u001b[0m\u001b[1;33m)\u001b[0m \u001b[1;33m&\u001b[0m \u001b[1;33m(\u001b[0m\u001b[0mwords\u001b[0m\u001b[1;33m[\u001b[0m\u001b[0mi\u001b[0m\u001b[1;33m]\u001b[0m \u001b[1;33m+\u001b[0m \u001b[0mwords\u001b[0m\u001b[1;33m[\u001b[0m\u001b[0mi\u001b[0m\u001b[1;33m+\u001b[0m\u001b[1;36m1\u001b[0m\u001b[1;33m]\u001b[0m \u001b[1;33m!=\u001b[0m \u001b[1;34m'bylaw'\u001b[0m\u001b[1;33m)\u001b[0m\u001b[1;33m:\u001b[0m\u001b[1;33m\u001b[0m\u001b[0m\n\u001b[0m\u001b[1;32m     12\u001b[0m                     \u001b[0mkeepers\u001b[0m\u001b[1;33m.\u001b[0m\u001b[0mappend\u001b[0m\u001b[1;33m(\u001b[0m\u001b[0mwords\u001b[0m\u001b[1;33m[\u001b[0m\u001b[0mi\u001b[0m\u001b[1;33m]\u001b[0m\u001b[1;33m+\u001b[0m\u001b[0mwords\u001b[0m\u001b[1;33m[\u001b[0m\u001b[0mi\u001b[0m\u001b[1;33m+\u001b[0m\u001b[1;36m1\u001b[0m\u001b[1;33m]\u001b[0m\u001b[1;33m)\u001b[0m\u001b[1;33m\u001b[0m\u001b[0m\n\u001b[1;32m     13\u001b[0m \u001b[1;33m\u001b[0m\u001b[0m\n",
      "\u001b[0;31mKeyboardInterrupt\u001b[0m: "
     ]
    }
   ],
   "source": [
    "const_dict = {}\n",
    "for item in filelist:\n",
    "    result = re.search('[^_]*', item)\n",
    "    result = result.group(0)\n",
    "    const_dict['{}'.format(result) ] = Cleaner(item)\n",
    "    print(result, end=' ')"
   ]
  },
  {
   "cell_type": "markdown",
   "metadata": {},
   "source": [
    "Since it took so long, we should probably pickle the result:"
   ]
  },
  {
   "cell_type": "code",
   "execution_count": null,
   "metadata": {
    "collapsed": false
   },
   "outputs": [],
   "source": [
    "np.save('Constitution.npy', const_dict)"
   ]
  },
  {
   "cell_type": "code",
   "execution_count": null,
   "metadata": {
    "collapsed": false
   },
   "outputs": [],
   "source": [
    "Combined=[]\n",
    "\n",
    "for item in const_dict:\n",
    "    Combined.append(const_dict[item].tokens)\n",
    "\n",
    "# A final block of code is needed so that we aren't left with a list of lists, but instead\n",
    "# have one big list with both sources. \n",
    "Combined = flatten(Combined)"
   ]
  },
  {
   "cell_type": "markdown",
   "metadata": {},
   "source": [
    "We now have a list of all the words that occur in all of the state constitutions over time. So, this functions as a relative point of safety. Let's just take the 5000 most common for the basis for comparison. "
   ]
  },
  {
   "cell_type": "code",
   "execution_count": null,
   "metadata": {
    "collapsed": false
   },
   "outputs": [],
   "source": [
    "freq = nltk.FreqDist(Combined)\n",
    "CompVec = freq.most_common(1000)\n",
    "CompWords = [item[0] for item in CompVec]"
   ]
  },
  {
   "cell_type": "markdown",
   "metadata": {},
   "source": [
    "Let's compute similarity using this. How would we count the times within which each of these words occurs? "
   ]
  },
  {
   "cell_type": "code",
   "execution_count": null,
   "metadata": {
    "collapsed": false
   },
   "outputs": [],
   "source": [
    "vec_dict = {}\n",
    "for item in const_dict:\n",
    "    vec_dict[item] = [const_dict[item].count(word) for word in CompWords]\n",
    "    try: \n",
    "        print(item, LexicalDiversity(const_dict[item]), VocabSize(const_dict[item]) )\n",
    "    except:\n",
    "        print('something wrong')\n"
   ]
  },
  {
   "cell_type": "code",
   "execution_count": null,
   "metadata": {
    "collapsed": false
   },
   "outputs": [],
   "source": [
    "print(CosineSim(vec_dict['AL1819'], vec_dict['AL1868']))\n",
    "print(CosineSim(vec_dict['AL1819'], vec_dict['PA1969']))\n",
    "print(CosineSim(vec_dict['KY1799'], vec_dict['AL1868']))\n",
    "print(CosineSim(vec_dict['NJ1947'], vec_dict['AL1868']))\n",
    "print(CosineSim(vec_dict['IL1870'], vec_dict['FL1885']))\n",
    "print(CosineSim(vec_dict['IL1870'], vec_dict['FL1885']))"
   ]
  },
  {
   "cell_type": "code",
   "execution_count": null,
   "metadata": {
    "collapsed": false
   },
   "outputs": [],
   "source": [
    "Sims = []\n",
    "for item in vec_dict:\n",
    "    CS = CosineSim(vec_dict['CT1965'], vec_dict[item])    \n",
    "    Sims.append((item, CS))\n",
    "    \n",
    "Sims.sort(key = lambda x:x[1])"
   ]
  },
  {
   "cell_type": "code",
   "execution_count": null,
   "metadata": {
    "collapsed": false
   },
   "outputs": [],
   "source": [
    "Sims"
   ]
  },
  {
   "cell_type": "code",
   "execution_count": null,
   "metadata": {
    "collapsed": false,
    "scrolled": true
   },
   "outputs": [],
   "source": [
    "import nltk, string\n",
    "from sklearn.feature_extraction.text import TfidfVectorizer\n",
    "\n",
    "nltk.download('punkt') # if necessary...\n",
    "\n",
    "\n",
    "stemmer = nltk.stem.porter.PorterStemmer()\n",
    "remove_punctuation_map = dict((ord(char), None) for char in string.punctuation)\n",
    "\n",
    "def stem_tokens(tokens):\n",
    "    return [stemmer.stem(item) for item in tokens]\n",
    "\n",
    "'''remove punctuation, lowercase, stem'''\n",
    "def normalize(text):\n",
    "    return stem_tokens(nltk.word_tokenize(text.lower().translate(remove_punctuation_map)))\n",
    "\n",
    "vectorizer = TfidfVectorizer(tokenizer=normalize, stop_words='english')\n",
    "\n",
    "def cosine_sim(text1, text2):\n",
    "    tfidf = vectorizer.fit_transform([text1, text2])\n",
    "    return ((tfidf * tfidf.T).A)[0,1]\n",
    "\n",
    "\n",
    "print(cosine_sim('a little bird', 'a little bird'))\n",
    "print(cosine_sim('a little bird', 'a little bird chirps'))\n",
    "print(cosine_sim('a little bird', 'a big dog barks'))"
   ]
  },
  {
   "cell_type": "code",
   "execution_count": null,
   "metadata": {
    "collapsed": false
   },
   "outputs": [],
   "source": [
    "vec_dict['AL1868']"
   ]
  },
  {
   "cell_type": "code",
   "execution_count": null,
   "metadata": {
    "collapsed": false
   },
   "outputs": [],
   "source": [
    "const_dict['AK1836'].collocations()"
   ]
  },
  {
   "cell_type": "code",
   "execution_count": null,
   "metadata": {
    "collapsed": false
   },
   "outputs": [],
   "source": [
    "def tokenize_and_stem(text):\n",
    "    # first tokenize by sentence, then by word to ensure that punctuation is caught as it's own token\n",
    "    tokens = [word for sent in nltk.sent_tokenize(text) for word in nltk.word_tokenize(sent)]\n",
    "    filtered_tokens = []\n",
    "    # filter out any tokens not containing letters (e.g., numeric tokens, raw punctuation)\n",
    "    for token in tokens:\n",
    "        if re.search('[a-zA-Z]', token):\n",
    "            filtered_tokens.append(token)\n",
    "    stems = [stemmer.stem(t) for t in filtered_tokens]\n",
    "    return stems\n",
    "\n",
    "\n",
    "def tokenize_only(text):\n",
    "    # first tokenize by sentence, then by word to ensure that punctuation is caught as it's own token\n",
    "    tokens = [word.lower() for sent in nltk.sent_tokenize(text) for word in nltk.word_tokenize(sent)]\n",
    "    filtered_tokens = []\n",
    "    # filter out any tokens not containing letters (e.g., numeric tokens, raw punctuation)\n",
    "    for token in tokens:\n",
    "        if re.search('[a-zA-Z]', token):\n",
    "            filtered_tokens.append(token)\n",
    "    return filtered_tokens.collocations()"
   ]
  },
  {
   "cell_type": "code",
   "execution_count": null,
   "metadata": {
    "collapsed": false
   },
   "outputs": [],
   "source": [
    "for item in sorted(set(vec_dict)):\n",
    "    print(item, end=' ')"
   ]
  },
  {
   "cell_type": "markdown",
   "metadata": {},
   "source": [
    "# Experimentation\n",
    "\n",
    "This is some code that comes from [this website](http://brandonrose.org/clustering). "
   ]
  },
  {
   "cell_type": "code",
   "execution_count": null,
   "metadata": {
    "collapsed": true
   },
   "outputs": [],
   "source": [
    "from nltk.stem.snowball import SnowballStemmer"
   ]
  },
  {
   "cell_type": "code",
   "execution_count": null,
   "metadata": {
    "collapsed": true
   },
   "outputs": [],
   "source": [
    "stemmer = SnowballStemmer(\"english\")"
   ]
  },
  {
   "cell_type": "code",
   "execution_count": null,
   "metadata": {
    "collapsed": false
   },
   "outputs": [],
   "source": [
    "stemmer"
   ]
  },
  {
   "cell_type": "code",
   "execution_count": null,
   "metadata": {
    "collapsed": true
   },
   "outputs": [],
   "source": [
    "def tokenize_and_stem(text):\n",
    "    # first tokenize by sentence, then by word to ensure that punctuation is caught as it's own token\n",
    "    tokens = [word for sent in nltk.sent_tokenize(text) for word in nltk.word_tokenize(sent)]\n",
    "    filtered_tokens = []\n",
    "    # filter out any tokens not containing letters (e.g., numeric tokens, raw punctuation)\n",
    "    for token in tokens:\n",
    "        if re.search('[a-zA-Z]', token):\n",
    "            filtered_tokens.append(token)\n",
    "    stems = [stemmer.stem(t) for t in filtered_tokens]\n",
    "    return stems\n",
    "\n",
    "\n",
    "def tokenize_only(text):\n",
    "    # first tokenize by sentence, then by word to ensure that punctuation is caught as it's own token\n",
    "    tokens = [word.lower() for sent in nltk.sent_tokenize(text) for word in nltk.word_tokenize(sent)]\n",
    "    filtered_tokens = []\n",
    "    # filter out any tokens not containing letters (e.g., numeric tokens, raw punctuation)\n",
    "    for token in tokens:\n",
    "        if re.search('[a-zA-Z]', token):\n",
    "            filtered_tokens.append(token)\n",
    "    return filtered_tokens"
   ]
  },
  {
   "cell_type": "code",
   "execution_count": null,
   "metadata": {
    "collapsed": false
   },
   "outputs": [],
   "source": [
    "stem = tokenize_and_stem(const_dict['AK1836'])"
   ]
  },
  {
   "cell_type": "code",
   "execution_count": null,
   "metadata": {
    "collapsed": false
   },
   "outputs": [],
   "source": [
    "type(const_dict['AL1819'])"
   ]
  },
  {
   "cell_type": "code",
   "execution_count": null,
   "metadata": {
    "collapsed": false
   },
   "outputs": [],
   "source": [
    "AL1819 = open('AL1819_final_parts_0.txt', encoding='latin-1', errors='ignore').read()\n",
    "AL1861 = open('AL1861_final_parts_0.txt', encoding='latin-1', errors='ignore').read()\n",
    "AL1865 = open('AL1865_final_parts_0.txt', encoding='latin-1', errors='ignore').read()\n",
    "AL1875 = open('AL1875_final_parts_0.txt', encoding='latin-1', errors='ignore').read()\n",
    "AL1901 = open('AL1901_final_parts_0.txt', encoding='latin_1', errors='ignore').read()\n",
    "AR1864 = open('AR1864_final_parts_0.txt', encoding='latin-1', errors='ignore').read()\n",
    "AR1868 = open('AR1868_final_parts_0.txt', encoding='latin-1', errors='ignore').read()\n",
    "AR1874 = open('AR1874_final_parts_0.txt', encoding='latin-1', errors='ignore').read()\n",
    "AZ1912 = open('AZ1912_final_parts_0.txt', encoding='latin-1', errors='ignore').read()\n",
    "CO1876 = open('CO1876_final_parts_0.txt', encoding='latin_1', errors='ignore').read()\n",
    "CT1662 = open('CT1662_final_parts_0.txt', encoding='latin_1', errors='ignore').read()\n",
    "CT1818 = open('CT1818_final_parts_0.txt', encoding='latin-1', errors='ignore').read()\n",
    "CT1955 = open('CT1955_final_parts_0.txt', encoding='latin-1', errors='ignore').read()\n",
    "CT1965 = open('CT1965_final_parts_0.txt', encoding='latin-1', errors='ignore').read() \n",
    "DE1776 = open('DE1776_final_parts_0.txt', encoding='latin-1', errors='ignore').read()\n",
    "DE1792 = open('DE1792_final_parts_0.txt', encoding='latin-1', errors='ignore').read()\n",
    "DE1831 = open('DE1831_final_parts_0.txt', encoding='latin-1', errors='ignore').read() \n",
    "DE1897 = open('DE1897_final_parts_0.txt', encoding='latin-1', errors='ignore').read() \n",
    "FL1838 = open('FL1838%20_final_parts_0.txt', encoding='latin-1', errors='ignore').read()\n",
    "FL1861 = open('FL1861_final_parts_0.txt', encoding='latin_1', errors='ignore').read()\n",
    "FL1865 = open('FL1865_final_parts_0.txt', encoding='latin_1', errors='ignore').read()\n",
    "FL1868 = open('FL1868_final_parts_0.txt', encoding='latin_1', errors='ignore').read()\n",
    "FL1885 = open('FL1885_final_parts_0.txt', encoding='latin_1', errors='ignore').read()\n",
    "FL1968 = open('FL1968%20_final_parts_0.txt', encoding='latin_1', errors='ignore').read()\n",
    "AK1959 = open('AK1959_final_parts_0.txt', encoding='latin_1', errors='ignore').read()\n",
    "HI1959 = open('Hawaii1959_final_parts_0.txt', encoding='latin_1', errors='ignore').read()\n",
    "HI1968 = open('Hawaii1968_final_parts_0.txt', encoding='latin_1', errors='ignore').read()\n",
    "HI1978 = open('Hawaii1978_final_parts_0.txt', encoding='latin_1', errors='ignore').read()\n",
    "IA1846 = open('IA1846_final_parts_0.txt', encoding='latin_1', errors='ignore').read()\n",
    "IA1857 = open('IA1857_final_parts_0.txt', encoding='latin_1', errors='ignore').read()\n",
    "ID1890 = open('ID1890_final_parts_0.txt', encoding='latin_1', errors='ignore').read()\n",
    "IL1818 = open('IL1818_final_parts_0.txt', encoding='latin_1', errors='ignore').read()\n",
    "IL1848 = open('IL1848_final_parts_0.txt', encoding='latin_1', errors='ignore').read()\n",
    "IL1870 = open('IL1870_final_parts_0.txt', encoding='latin_1', errors='ignore').read()\n",
    "IL1970 = open('IL1970_final_parts_0.txt', encoding='latin_1', errors='ignore').read()"
   ]
  },
  {
   "cell_type": "code",
   "execution_count": null,
   "metadata": {
    "collapsed": false
   },
   "outputs": [],
   "source": [
    "tokenlist = [AL1819, AL1861, AL1865, AL1875, AL1901, AR1864, AR1874,\n",
    "             AR1868, AZ1912, CO1876, CT1662, CT1818, CT1955, CT1965, \n",
    "             DE1776, DE1792, DE1831, DE1897, FL1838, FL1861, FL1865, FL1868, FL1885, \n",
    "             FL1968, AK1959, HI1959, HI1968, HI1978, IA1846, IA1857,\n",
    "             ID1890, IL1818, IL1848, IL1870, IL1970]\n",
    "tokennames = ['AL1819', 'AL1861', 'AL1865', 'AL1875', 'AL1901', 'AR1864',\n",
    "              'AR1868', 'AR1874', 'AZ1912', 'CO1876', 'CT1662', 'CT1818', 'CT1955',\n",
    "              'CT1965', 'DE1776', 'DE1792', 'DE1831', 'DE1897', 'FL1838', 'FL1861', \n",
    "              'FL1865', 'FL1868', 'FL1885', 'FL1968', 'AK1959', 'HI1959', 'HI1968', 'HI1978',\n",
    "              'IA1846', 'IA1857', 'ID1890', 'IL1818', 'IL1848', 'IL1870', 'IL1970']"
   ]
  },
  {
   "cell_type": "code",
   "execution_count": null,
   "metadata": {
    "collapsed": true
   },
   "outputs": [],
   "source": [
    "tfidf_vectorizer = TfidfVectorizer(max_df=0.8, max_features=200000,\n",
    "                                 min_df=0, stop_words='english',\n",
    "                                 use_idf=True, tokenizer=tokenize_and_stem, ngram_range=(1,3))"
   ]
  },
  {
   "cell_type": "code",
   "execution_count": null,
   "metadata": {
    "collapsed": false
   },
   "outputs": [],
   "source": [
    "tfidf_matrix = tfidf_vectorizer.fit_transform(tokenlist)"
   ]
  },
  {
   "cell_type": "code",
   "execution_count": null,
   "metadata": {
    "collapsed": false
   },
   "outputs": [],
   "source": [
    "print(tfidf_matrix.shape)"
   ]
  },
  {
   "cell_type": "code",
   "execution_count": null,
   "metadata": {
    "collapsed": false
   },
   "outputs": [],
   "source": [
    "tfidf_matrix"
   ]
  },
  {
   "cell_type": "markdown",
   "metadata": {},
   "source": [
    "Not sure what this gets us...doesn't seem like it gets us too much!"
   ]
  },
  {
   "cell_type": "code",
   "execution_count": null,
   "metadata": {
    "collapsed": false
   },
   "outputs": [],
   "source": [
    "from sklearn.metrics.pairwise import cosine_similarity\n",
    "dist = 1 - cosine_similarity(tfidf_matrix)\n",
    "np.shape(dist)"
   ]
  },
  {
   "cell_type": "markdown",
   "metadata": {},
   "source": [
    "# K-means clustering"
   ]
  },
  {
   "cell_type": "code",
   "execution_count": null,
   "metadata": {
    "collapsed": true
   },
   "outputs": [],
   "source": [
    "from sklearn.cluster import KMeans\n",
    "\n",
    "num_clusters = 6\n",
    "\n",
    "km = KMeans(n_clusters=num_clusters)\n",
    "km.fit(tfidf_matrix)\n",
    "\n",
    "clusters = km.labels_.tolist()"
   ]
  },
  {
   "cell_type": "code",
   "execution_count": null,
   "metadata": {
    "collapsed": false
   },
   "outputs": [],
   "source": [
    "Data = pd.DataFrame(list(zip(clusters, tokennames)), columns=['clusters', 'names'])"
   ]
  },
  {
   "cell_type": "code",
   "execution_count": null,
   "metadata": {
    "collapsed": false
   },
   "outputs": [],
   "source": [
    "clusters = set(Data['clusters'])"
   ]
  },
  {
   "cell_type": "code",
   "execution_count": null,
   "metadata": {
    "collapsed": false
   },
   "outputs": [],
   "source": [
    "for cluster in clusters:\n",
    "    Slice = Data['names'].loc[Data['clusters'] == cluster]\n",
    "    print('Cluster ',cluster)\n",
    "    for name in list(Slice):\n",
    "        print(name, end= ' ')\n",
    "    print(' ')"
   ]
  },
  {
   "cell_type": "markdown",
   "metadata": {},
   "source": [
    "# Hierarchical Clustering"
   ]
  },
  {
   "cell_type": "code",
   "execution_count": null,
   "metadata": {
    "collapsed": false
   },
   "outputs": [],
   "source": [
    "from scipy.cluster.hierarchy import ward, dendrogram\n",
    "import matplotlib.pyplot as plt\n",
    "\n",
    "linkage_matrix = ward(dist) #define the linkage_matrix using ward clustering pre-computed distances\n",
    "\n",
    "fig, ax = plt.subplots(figsize=(15, 20)) # set size\n",
    "ax = dendrogram(linkage_matrix, orientation=\"right\", labels=tokennames);\n",
    "\n",
    "plt.tick_params(\\\n",
    "    axis= 'x',          # changes apply to the x-axis\n",
    "    which='both',      # both major and minor ticks are affected\n",
    "    bottom='off',      # ticks along the bottom edge are off\n",
    "    top='off',         # ticks along the top edge are off\n",
    "    labelbottom='off')\n",
    "\n",
    "plt.tight_layout() #show plot with tight layout\n",
    "\n",
    "#uncomment below to save figure\n",
    "plt.savefig('ward_clusters.png', dpi=200) #save figure as ward_clusters"
   ]
  },
  {
   "cell_type": "markdown",
   "metadata": {
    "collapsed": true
   },
   "source": [
    "## Preliminary conclusions\n",
    "\n",
    "We seem to need to do a bit more work just looking at the constitutions and understanding their structure. Note that they are typically written with an almost XML like structure so we should probably start treating them that way."
   ]
  },
  {
   "cell_type": "code",
   "execution_count": null,
   "metadata": {
    "collapsed": true
   },
   "outputs": [],
   "source": []
  }
 ],
 "metadata": {
  "kernelspec": {
   "display_name": "Python 3",
   "language": "python",
   "name": "python3"
  },
  "language_info": {
   "codemirror_mode": {
    "name": "ipython",
    "version": 3
   },
   "file_extension": ".py",
   "mimetype": "text/x-python",
   "name": "python",
   "nbconvert_exporter": "python",
   "pygments_lexer": "ipython3",
   "version": "3.4.5"
  }
 },
 "nbformat": 4,
 "nbformat_minor": 0
}
