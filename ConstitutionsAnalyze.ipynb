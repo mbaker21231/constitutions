{
 "cells": [
  {
   "cell_type": "markdown",
   "metadata": {},
   "source": [
    "# Textual analysis and comparison of constitutions\n",
    "\n",
    "In this notebook, we will start the process of analyzing the constitutions, in addition to developing some means of reading them in. "
   ]
  },
  {
   "cell_type": "code",
   "execution_count": 180,
   "metadata": {
    "collapsed": true
   },
   "outputs": [],
   "source": [
    "import os\n",
    "import re\n",
    "import nltk\n",
    "import collections\n",
    "import numpy as np\n",
    "\n",
    "from nltk.corpus import stopwords\n",
    "from collections import Counter\n",
    "from math import sqrt\n",
    "\n",
    "%matplotlib inline"
   ]
  },
  {
   "cell_type": "code",
   "execution_count": 10,
   "metadata": {
    "collapsed": false
   },
   "outputs": [
    {
     "ename": "FileNotFoundError",
     "evalue": "[WinError 2] The system cannot find the file specified: 'C:\\\\Users\\\\mjbaker\\\\Documents\\\\constitutions\\\\texts\\\\texts'",
     "output_type": "error",
     "traceback": [
      "\u001b[1;31m---------------------------------------------------------------------------\u001b[0m",
      "\u001b[1;31mFileNotFoundError\u001b[0m                         Traceback (most recent call last)",
      "\u001b[1;32m<ipython-input-10-aea021a254b2>\u001b[0m in \u001b[0;36m<module>\u001b[1;34m()\u001b[0m\n\u001b[1;32m----> 1\u001b[1;33m \u001b[0mos\u001b[0m\u001b[1;33m.\u001b[0m\u001b[0mchdir\u001b[0m\u001b[1;33m(\u001b[0m\u001b[0mos\u001b[0m\u001b[1;33m.\u001b[0m\u001b[0mgetcwd\u001b[0m\u001b[1;33m(\u001b[0m\u001b[1;33m)\u001b[0m\u001b[1;33m+\u001b[0m\u001b[1;34m'\\\\texts'\u001b[0m\u001b[1;33m)\u001b[0m\u001b[1;33m\u001b[0m\u001b[0m\n\u001b[0m",
      "\u001b[1;31mFileNotFoundError\u001b[0m: [WinError 2] The system cannot find the file specified: 'C:\\\\Users\\\\mjbaker\\\\Documents\\\\constitutions\\\\texts\\\\texts'"
     ]
    }
   ],
   "source": [
    "os.chdir(os.getcwd()+'\\\\texts')"
   ]
  },
  {
   "cell_type": "code",
   "execution_count": 13,
   "metadata": {
    "collapsed": true
   },
   "outputs": [],
   "source": [
    "dictionaryFile = open('dictionary.txt').read()\n",
    "dictwords = re.findall('\\w+', dictionaryFile.lower())"
   ]
  },
  {
   "cell_type": "code",
   "execution_count": 14,
   "metadata": {
    "collapsed": true
   },
   "outputs": [],
   "source": [
    "filelist = os.listdir()"
   ]
  },
  {
   "cell_type": "code",
   "execution_count": 15,
   "metadata": {
    "collapsed": false
   },
   "outputs": [
    {
     "data": {
      "text/plain": [
       "'AK1836_final_parts_0.txt'"
      ]
     },
     "execution_count": 15,
     "metadata": {},
     "output_type": "execute_result"
    }
   ],
   "source": [
    "filelist[0]"
   ]
  },
  {
   "cell_type": "markdown",
   "metadata": {},
   "source": [
    "The following is a method to clean up a file and make it into a sequence of words. There are quite possibly better ways to check and see if there are words that are mistakenly strung together. I also create some additional methods for figuring out lexical diversity, and the size of the vocabulary used. "
   ]
  },
  {
   "cell_type": "code",
   "execution_count": 124,
   "metadata": {
    "collapsed": false
   },
   "outputs": [],
   "source": [
    "def Cleaner(filename):\n",
    "    file  = open(filename, encoding='cp1252', errors='ignore').read()\n",
    "    words = re.findall('\\w+', file.lower())\n",
    "\n",
    "    keepers = []\n",
    "    for i in range(0,len(words)):\n",
    "        if words[i] in dictwords:\n",
    "            keepers.append(words[i])\n",
    "        else:\n",
    "            if i < len(words) -2:    \n",
    "                if (words[i]+words[i+1] in dictwords):\n",
    "                    keepers.append(words[i]+words[i+1]) \n",
    "                    \n",
    "    keepers = [word for word in keepers if word not in stopwords.words('english')]\n",
    "    return nltk.Text(keepers)\n",
    "\n",
    "def VocabSize(text):\n",
    "    return len(set(text))\n",
    "\n",
    "def LexicalDiversity(text):\n",
    "    return VocabSize(text) / len(text)\n",
    "\n",
    "def LongWords(text, cutl_ength=5, freq=5):\n",
    "    freq_dist = nltk.FreqDist(text)\n",
    "    return sorted(w for w in set(text) if len(w) > 5 and freq_dist[w] > 5 )\n",
    "\n",
    "def CosineSim(u,v):\n",
    "    a=np.array(u)/len(u)\n",
    "    b=np.array(v)/len(v)\n",
    "    return np.dot(a,b) / (sqrt(np.dot(a,a))*sqrt(np.dot(b,b)))\n",
    "\n",
    "def flatten(x):\n",
    "    result = []\n",
    "    for el in x:\n",
    "        if hasattr(el, \"__iter__\") and not isinstance(el, str):\n",
    "            result.extend(flatten(el))\n",
    "        else:\n",
    "            result.append(el)\n",
    "    return result\n"
   ]
  },
  {
   "cell_type": "markdown",
   "metadata": {},
   "source": [
    "# Some preliminary analysis \n",
    "\n",
    "Here, I'm just going to take a look at what is possible before moving on, to try and get a feel for what a raggedy constitution looks like!"
   ]
  },
  {
   "cell_type": "code",
   "execution_count": 26,
   "metadata": {
    "collapsed": false
   },
   "outputs": [],
   "source": [
    "Ark1836 = Cleaner(filelist[0])"
   ]
  },
  {
   "cell_type": "code",
   "execution_count": 37,
   "metadata": {
    "collapsed": false
   },
   "outputs": [],
   "source": [
    "fdist = nltk.FreqDist(Ark1836)"
   ]
  },
  {
   "cell_type": "code",
   "execution_count": 39,
   "metadata": {
    "collapsed": false
   },
   "outputs": [
    {
     "data": {
      "text/plain": [
       "[('shall', 395),\n",
       " ('send', 132),\n",
       " ('state', 113),\n",
       " ('may', 82),\n",
       " ('one', 82),\n",
       " ('general', 68),\n",
       " ('county', 68),\n",
       " ('assembly', 59),\n",
       " ('elect', 59),\n",
       " ('law', 48)]"
      ]
     },
     "execution_count": 39,
     "metadata": {},
     "output_type": "execute_result"
    }
   ],
   "source": [
    "fdist.most_common(10)"
   ]
  },
  {
   "cell_type": "code",
   "execution_count": 43,
   "metadata": {
    "collapsed": false,
    "scrolled": true
   },
   "outputs": [
    {
     "name": "stdout",
     "output_type": "stream",
     "text": [
      "general assembly; bylaw law; united states; elect one; one\n",
      "representative; representative county; shall elect; senator counties;\n",
      "compose one; justices peace; one senator; free white; supreme court;\n",
      "ratified november; white male; prescribed bylaw; house\n",
      "representatives; shall compose; joint vote; two representatives\n"
     ]
    }
   ],
   "source": [
    "Ark1836.collocations()"
   ]
  },
  {
   "cell_type": "markdown",
   "metadata": {},
   "source": [
    "Note the conspicuous presence of \"white male\" and \"free white\"...where do these terms usually occur?"
   ]
  },
  {
   "cell_type": "code",
   "execution_count": 56,
   "metadata": {
    "collapsed": false
   },
   "outputs": [
    {
     "data": {
      "image/png": "[encoded data removed]",
      "text/plain": [
       "<matplotlib.figure.Figure at 0x8c2a668>"
      ]
     },
     "metadata": {},
     "output_type": "display_data"
    }
   ],
   "source": [
    "Ark1836.dispersion_plot(['united', 'white', 'free'])"
   ]
  },
  {
   "cell_type": "markdown",
   "metadata": {},
   "source": [
    "# Some preliminary comparisons\n",
    "\n",
    "Let's see if we can get the first say twenty documents and compare them. I'm actually going to do this without really knowing what the files are"
   ]
  },
  {
   "cell_type": "code",
   "execution_count": 60,
   "metadata": {
    "collapsed": false
   },
   "outputs": [],
   "source": [
    "for x in range(1, 13):\n",
    "    \n",
    "    locals()['double_{0}'.format(x)] = x * 2"
   ]
  },
  {
   "cell_type": "code",
   "execution_count": 100,
   "metadata": {
    "collapsed": false
   },
   "outputs": [
    {
     "name": "stdout",
     "output_type": "stream",
     "text": [
      "AK1836\n",
      "AK1959\n",
      "AL1819\n",
      "AL1861\n",
      "AL1865\n",
      "AL1868\n",
      "AL1875\n",
      "AL1901\n",
      "AL1901\n",
      "AL1901\n",
      "AL1901\n",
      "AR1864\n",
      "AR1868\n",
      "AR1874\n",
      "AZ1912\n",
      "CO1876\n",
      "CO1876\n",
      "CO1876\n",
      "CT1662\n",
      "CT1818\n",
      "CT1955\n",
      "CT1965\n",
      "DE1776\n",
      "DE1792\n",
      "DE1831\n",
      "DE1897\n",
      "dictionary.txt\n",
      "FL1838%20\n",
      "FL1861\n",
      "FL1865\n",
      "FL1868\n",
      "FL1885\n",
      "FL1968%20\n",
      "Hawaii1959\n",
      "Hawaii1968\n",
      "Hawaii1978\n",
      "IA1846\n",
      "IA1857\n",
      "IA1857\n",
      "ID1890\n",
      "IL1818\n",
      "IL1848\n",
      "IL1870\n",
      "IL1970\n",
      "IN%201816\n",
      "IN%201851\n",
      "KS1859\n",
      "KS1859\n",
      "KY1792\n",
      "KY1799\n",
      "KY1850\n",
      "Ky1890amd\n",
      "KY1890\n",
      "LA1812\n",
      "LA1845\n",
      "LA1852\n",
      "LA1861\n",
      "LA1864\n",
      "LA1868\n",
      "MD1776\n",
      "MD1851\n",
      "MD1864\n",
      "MD1867\n",
      "MD1867\n",
      "MD1867\n",
      "MD1867\n",
      "ME1819\n",
      "ME1819\n",
      "MI1835\n",
      "MI1850\n",
      "MI1850\n",
      "MI1908\n",
      "MI1908\n",
      "MI1908\n",
      "MI1962\n",
      "MI1962\n",
      "MN1857\n",
      "MN1857\n",
      "MN1974\n",
      "MN1974\n",
      "MS1817\n",
      "MS1832\n",
      "MS1832\n",
      "MS1861\n",
      "MS1868\n",
      "MS1890\n",
      "MT1889\n",
      "MT1973\n",
      "NC1776\n",
      "NC1868\n",
      "NC1971\n",
      "ND\n",
      "ND\n",
      "NH1776\n",
      "NH1784\n",
      "NH1792\n",
      "NJ1776\n",
      "NJ1844\n",
      "NJ1947\n",
      "NJ1947\n",
      "NM1911\n",
      "NV1864\n",
      "NV1864\n",
      "NY1777\n",
      "NY1821\n",
      "NY1846\n",
      "NY1894\n",
      "NY1894\n",
      "NY1938\n",
      "NY1938\n",
      "NY1938\n",
      "NY1938\n",
      "NY1938\n",
      "OH1802\n",
      "OH1851\n",
      "OK1907\n",
      "OK1907\n",
      "OK1907\n",
      "OK1907\n",
      "PA1776\n",
      "PA1790\n",
      "PA1839\n",
      "PA1874\n",
      "PA1969\n",
      "RI1843\n",
      "RI1986\n",
      "SC1776\n",
      "SC1778\n",
      "SC1790\n",
      "SC1861\n",
      "SC1865\n",
      "SC1868\n",
      "SC1896\n",
      "SD1889\n",
      "test\n",
      "TX%201866\n",
      "TX%201869\n",
      "TX%201876\n",
      "TX%201876\n",
      "TX1845\n",
      "UT1895\n",
      "wash1889\n",
      "WV1861\n",
      "wv1872\n",
      "WY1889\n",
      "WY1889\n"
     ]
    }
   ],
   "source": [
    "const_dict = {}\n",
    "for item in filelist:\n",
    "    result = re.search('[^_]*', item)\n",
    "    result = result.group(0)\n",
    "    const_dict['{}'.format(result) ] = Cleaner(item)\n",
    "    print(result)"
   ]
  },
  {
   "cell_type": "markdown",
   "metadata": {},
   "source": [
    "Since it took so long, we should probably pickle the result:"
   ]
  },
  {
   "cell_type": "code",
   "execution_count": 107,
   "metadata": {
    "collapsed": false
   },
   "outputs": [],
   "source": [
    "np.save('Constitution.npy', const_dict)"
   ]
  },
  {
   "cell_type": "code",
   "execution_count": 125,
   "metadata": {
    "collapsed": false
   },
   "outputs": [],
   "source": [
    "Combined=[]\n",
    "\n",
    "for item in const_dict:\n",
    "    Combined.append(const_dict[item].tokens)\n",
    "\n",
    "# A final block of code is needed so that we aren't left with a list of lists, but instead\n",
    "# have one big list with both sources. \n",
    "Combined = flatten(Combined)\n"
   ]
  },
  {
   "cell_type": "markdown",
   "metadata": {},
   "source": [
    "We now have a list of all the words that occur in all of the state constitutions over time. So, this functions as a relative point of safety. Let's just take the 5000 most common for the basis for comparison. "
   ]
  },
  {
   "cell_type": "code",
   "execution_count": 203,
   "metadata": {
    "collapsed": false
   },
   "outputs": [],
   "source": [
    "freq = nltk.FreqDist(Combined)\n",
    "CompVec = freq.most_common(1000)\n",
    "CompWords = [item[0] for item in CompVec]"
   ]
  },
  {
   "cell_type": "markdown",
   "metadata": {},
   "source": [
    "Let's compute similarity using this. How would we count the times within which each of these words occurs? "
   ]
  },
  {
   "cell_type": "code",
   "execution_count": 204,
   "metadata": {
    "collapsed": false
   },
   "outputs": [
    {
     "name": "stdout",
     "output_type": "stream",
     "text": [
      "LA1861 0.19333032897701669 1287\n",
      "MS1868 0.24807313138555295 1384\n",
      "SD1889 0.1600507091355677 2020\n",
      "MD1867 0.14591393604421635 1848\n",
      "SC1778 0.29960245753523673 829\n",
      "SC1790 0.19183472700442694 780\n",
      "AL1861 0.252635614337742 1318\n",
      "IL1970 0.16001624530409178 1576\n",
      "MI1962 0.17647610121836926 1883\n",
      "NY1777 0.31622641509433963 1257\n",
      "ND 0.12111030704021503 2343\n",
      "MN1974 0.26650412603150786 1421\n",
      "MD1864 0.1575451647183847 1779\n",
      "something wrong\n",
      "NM1911 0.09313291027050023 2627\n",
      "FL1861 0.25720040281973816 1277\n",
      "CO1876 0.17209474463360475 1860\n",
      "AL1875 0.2167773083886542 1796\n",
      "Hawaii1978 0.1812073704570905 1780\n",
      "PA1790 0.2878535773710483 865\n",
      "CT1955 0.2668354430379747 1054\n",
      "AK1836 0.2569386038687973 1222\n",
      "NJ1844 0.21563636363636363 1186\n",
      "AR1864 0.25139331210191085 1263\n",
      "NJ1776 0.4514480408858603 530\n",
      "NH1792 0.13231368588124956 1834\n",
      "WV1861 0.24893162393162394 1398\n",
      "PA1776 0.3502319416832339 1057\n",
      "NC1971 0.16315689622462531 1720\n",
      "DE1792 0.276657060518732 1056\n",
      "TX1845 0.24568527918781727 1452\n",
      "SC1868 0.22451238068889195 1623\n",
      "AL1865 0.26894977168949774 1178\n",
      "MT1889 0.1384699920630075 2268\n",
      "OH1802 0.30058651026392963 1025\n",
      "IN%201816 0.26904121863799285 1201\n",
      "IL1818 0.2868261746901124 995\n",
      "CT1965 0.14747736093143596 1254\n",
      "MS1832 0.26668314384577363 1079\n",
      "NV1864 0.19253345855834703 1640\n",
      "MT1973 0.23621420996818665 1782\n",
      "Hawaii1959 0.21474109780749495 1381\n",
      "FL1868 0.19651188624750054 1769\n",
      "NY1938 0.1330057803468208 2301\n",
      "SC1896 0.04882060782215692 3057\n",
      "NC1868 0.11488112709128265 1957\n",
      "RI1843 0.10199542034674518 1559\n",
      "MS1890 0.1185217773867136 2694\n",
      "MS1861 0.25812154696132594 1168\n",
      "AL1901 0.15912508544087492 2328\n",
      "MN1857 0.25009208103130753 1358\n",
      "TX%201876 0.1797734088637121 2158\n",
      "dictionary.txt 0.9993588609833746 45203\n",
      "OH1851 0.06955004687011769 2671\n",
      "CT1662 0.3382862803368004 683\n",
      "MI1835 0.2728199898011219 1070\n",
      "Ky1890amd 0.18637653736991486 1182\n",
      "NC1776 0.2456248713197447 1193\n",
      "IN%201851 0.16427640156453716 1638\n",
      "AK1959 0.1688496583143508 1779\n",
      "KY1890 0.17261707074061775 2079\n",
      "MI1908 0.5991902834008097 296\n",
      "LA1868 0.18904074594456508 1480\n",
      "ME1819 0.25028142589118196 1334\n",
      "MD1851 0.183707596751075 1538\n",
      "LA1845 0.22693032015065914 1205\n",
      "FL1968%20 0.047373691397360036 2602\n",
      "NY1894 0.16899655304481043 1765\n",
      "KY1792 0.2833558863328823 1047\n",
      "NH1784 0.30208562019758506 1376\n",
      "AZ1912 0.07132204994673925 3013\n",
      "IA1857 0.23062964979132644 1271\n",
      "RI1986 0.22375902873828185 1456\n",
      "WY1889 0.19069412662090007 2000\n",
      "LA1864 0.22826285923485265 1247\n",
      "IL1848 0.19466102814853972 1473\n",
      "AR1874 0.08746060658628965 3025\n",
      "CT1818 0.1627499635089768 1115\n",
      "DE1897 0.09118565691802215 2248\n",
      "SC1776 0.3918776371308017 743\n",
      "TX%201869 0.21070436148362934 1744\n",
      "TX%201866 0.23516914528517732 1439\n",
      "PA1839 0.23900066327658634 1081\n",
      "LA1812 0.2892141266306077 909\n",
      "NH1776 0.609375 273\n",
      "IA1846 0.28733094120894287 1041\n",
      "KS1859 0.26688632619439867 1296\n",
      "OK1907 0.10347527779849355 2775\n",
      "wash1889 0.09788737987451354 2465\n",
      "FL1838%20 0.22364002686366688 1332\n",
      "PA1874 0.11209809264305177 2057\n",
      "SC1865 0.271508978826052 1013\n",
      "SC1861 0.1960222182404587 1094\n",
      "MS1817 0.26509305492510216 1168\n",
      "Hawaii1968 0.17885353193410067 1585\n",
      "FL1865 0.25235109717868337 1288\n",
      "wv1872 0.08978892103289403 2514\n",
      "MD1776 0.08347941441228028 1762\n",
      "NJ1947 0.20576808129109384 1377\n",
      "DE1776 0.3218785796105384 562\n",
      "DE1831 0.21906354515050167 1179\n",
      "MI1850 0.22039384947396817 1634\n",
      "AR1868 0.21356458710846493 1650\n",
      "NY1846 0.14546450082131776 1594\n",
      "NY1821 0.26245313336904125 980\n",
      "UT1895 0.09513136595691694 2292\n",
      "KY1850 0.21317183951551855 1408\n",
      "AL1868 0.25095386749913284 1447\n",
      "FL1885 0.07865716200572717 2582\n",
      "IL1870 0.15174484052532833 2022\n",
      "KY1799 0.27506361323155215 1081\n",
      "ID1890 0.10372005044136191 2303\n",
      "PA1969 0.13437146803968353 2140\n",
      "LA1852 0.2355572845749854 1211\n",
      "AL1819 0.2543701024713683 1266\n"
     ]
    }
   ],
   "source": [
    "vec_dict = {}\n",
    "for item in const_dict:\n",
    "    vec_dict[item] = [const_dict[item].count(word) for word in CompWords]\n",
    "    try: \n",
    "        print(item, LexicalDiversity(const_dict[item]), VocabSize(const_dict[item]) )\n",
    "    except:\n",
    "        print('something wrong')\n"
   ]
  },
  {
   "cell_type": "code",
   "execution_count": 224,
   "metadata": {
    "collapsed": false
   },
   "outputs": [
    {
     "name": "stdout",
     "output_type": "stream",
     "text": [
      "0.925161549616\n",
      "0.848885355492\n",
      "0.914454858318\n",
      "0.867969766119\n",
      "0.896046631243\n",
      "0.896046631243\n"
     ]
    }
   ],
   "source": [
    "print(CosineSim(vec_dict['AL1819'], vec_dict['AL1868']))\n",
    "print(CosineSim(vec_dict['AL1819'], vec_dict['PA1969']))\n",
    "print(CosineSim(vec_dict['KY1799'], vec_dict['AL1868']))\n",
    "print(CosineSim(vec_dict['NJ1947'], vec_dict['AL1868']))\n",
    "print(CosineSim(vec_dict['IL1870'], vec_dict['FL1885']))\n",
    "print(CosineSim(vec_dict['IL1870'], vec_dict['FL1885']))"
   ]
  },
  {
   "cell_type": "code",
   "execution_count": 242,
   "metadata": {
    "collapsed": false
   },
   "outputs": [
    {
     "name": "stderr",
     "output_type": "stream",
     "text": [
      "C:\\Users\\mjbaker\\AppData\\Local\\Continuum\\Miniconda3\\lib\\site-packages\\ipykernel\\__main__.py:30: RuntimeWarning: invalid value encountered in double_scalars\n"
     ]
    }
   ],
   "source": [
    "Sims = []\n",
    "for item in vec_dict:\n",
    "    CS = CosineSim(vec_dict['CT1965'], vec_dict[item])    \n",
    "    Sims.append((item, CS))\n",
    "    \n",
    "Sims.sort(key = lambda x:x[1])"
   ]
  },
  {
   "cell_type": "code",
   "execution_count": 243,
   "metadata": {
    "collapsed": false
   },
   "outputs": [
    {
     "data": {
      "text/plain": [
       "[('dictionary.txt', 0.30297819745574672),\n",
       " ('NH1776', 0.45592024465458825),\n",
       " ('CT1662', 0.47293059003709909),\n",
       " ('MI1908', 0.51828318086068947),\n",
       " ('OK1907', 0.58264062429401486),\n",
       " ('SC1776', 0.65775979269893914),\n",
       " ('MD1776', 0.68037055401969482),\n",
       " ('SC1861', 0.71109300679370613),\n",
       " ('SC1896', 0.71265206955900606),\n",
       " ('Hawaii1968', 0.72991559816775509),\n",
       " ('NY1777', 0.73493915152167422),\n",
       " ('AR1874', 0.7451331120494421),\n",
       " ('FL1968%20', 0.74749066011513454),\n",
       " ('FL1885', 0.75849147056636057),\n",
       " ('NJ1776', 0.76612520896877334),\n",
       " ('MT1973', 0.76649759346433122),\n",
       " ('MN1974', 0.77842239062213459),\n",
       " ('DE1897', 0.78148284189987594),\n",
       " ('UT1895', 0.78317170620828525),\n",
       " ('SC1790', 0.78721950874837232),\n",
       " ('PA1776', 0.78803133521337887),\n",
       " ('NY1938', 0.78958055242933844),\n",
       " ('SD1889', 0.78986232351925001),\n",
       " ('Ky1890amd', 0.79080409857753986),\n",
       " ('AK1959', 0.79218169886942269),\n",
       " ('SC1778', 0.79525772278219031),\n",
       " ('wv1872', 0.79794944603990892),\n",
       " ('ID1890', 0.79870096043737304),\n",
       " ('NY1894', 0.80026512447719012),\n",
       " ('AZ1912', 0.8009227927947401),\n",
       " ('WV1861', 0.80311290161577464),\n",
       " ('MS1868', 0.80514038497342866),\n",
       " ('TX%201876', 0.80705949695867274),\n",
       " ('RI1843', 0.8087792725030627),\n",
       " ('ND', 0.80945063161558473),\n",
       " ('NH1784', 0.8097346396263625),\n",
       " ('WY1889', 0.81155145890213176),\n",
       " ('MI1850', 0.8131506806303509),\n",
       " ('MD1851', 0.81355489603066455),\n",
       " ('TX%201869', 0.81357053432066861),\n",
       " ('DE1776', 0.81401521766197515),\n",
       " ('wash1889', 0.81555982297578411),\n",
       " ('NV1864', 0.81725283476521926),\n",
       " ('PA1790', 0.81809138085666777),\n",
       " ('PA1874', 0.82012825816305601),\n",
       " ('MS1890', 0.82162879406836575),\n",
       " ('LA1845', 0.82179077258204103),\n",
       " ('ME1819', 0.82204056252573687),\n",
       " ('LA1864', 0.82209929360981115),\n",
       " ('MS1832', 0.8226369311756061),\n",
       " ('KS1859', 0.82328176801316788),\n",
       " ('TX%201866', 0.82378441229296961),\n",
       " ('MN1857', 0.82528516342205227),\n",
       " ('MI1962', 0.82802607290554608),\n",
       " ('MS1861', 0.82811958735107127),\n",
       " ('TX1845', 0.8286670079466234),\n",
       " ('NM1911', 0.82896902661170513),\n",
       " ('PA1969', 0.82937195100741479),\n",
       " ('NH1792', 0.82956014631514152),\n",
       " ('FL1868', 0.83013121647654675),\n",
       " ('NY1846', 0.83051901962962416),\n",
       " ('PA1839', 0.8305477287355354),\n",
       " ('MD1867', 0.83084282112577978),\n",
       " ('DE1792', 0.8316317624264048),\n",
       " ('KY1792', 0.83462312747727119),\n",
       " ('MI1835', 0.83465146720200356),\n",
       " ('MT1889', 0.83534113045913316),\n",
       " ('LA1812', 0.83562987463790217),\n",
       " ('LA1868', 0.8367188941013961),\n",
       " ('LA1852', 0.83776355871706254),\n",
       " ('NY1821', 0.83924293108076986),\n",
       " ('AL1901', 0.83997820911556198),\n",
       " ('Hawaii1959', 0.8412298533079936),\n",
       " ('OH1851', 0.84172889036696363),\n",
       " ('DE1831', 0.84294677065791823),\n",
       " ('NJ1947', 0.84478657677661373),\n",
       " ('AL1861', 0.84750432399691011),\n",
       " ('AL1868', 0.8499586769396702),\n",
       " ('IL1848', 0.85022760918089335),\n",
       " ('OH1802', 0.85115555794854458),\n",
       " ('LA1861', 0.85336105508797377),\n",
       " ('AK1836', 0.85343392238740712),\n",
       " ('IA1846', 0.85454582518172317),\n",
       " ('NC1776', 0.85467944644695826),\n",
       " ('MD1864', 0.85550622156326928),\n",
       " ('Hawaii1978', 0.86080015598511661),\n",
       " ('SC1868', 0.86083745074880647),\n",
       " ('AL1865', 0.86196485714575855),\n",
       " ('IL1970', 0.86435746627683563),\n",
       " ('KY1890', 0.86527765275655377),\n",
       " ('MS1817', 0.86610015184872768),\n",
       " ('NJ1844', 0.86676941019334075),\n",
       " ('AR1864', 0.86704924885587453),\n",
       " ('KY1850', 0.86851100616655164),\n",
       " ('CO1876', 0.87011552068313835),\n",
       " ('KY1799', 0.8711439711029636),\n",
       " ('IL1870', 0.87364821097152434),\n",
       " ('NC1868', 0.8741615773631578),\n",
       " ('IN%201816', 0.87493948696685453),\n",
       " ('NC1971', 0.87561325788863198),\n",
       " ('AR1868', 0.87613966420682698),\n",
       " ('AL1819', 0.87677790500587038),\n",
       " ('IA1857', 0.87693201513617636),\n",
       " ('AL1875', 0.88088779558161401),\n",
       " ('FL1861', 0.88100826990551429),\n",
       " ('FL1865', 0.88257534780424018),\n",
       " ('RI1986', 0.88690354480193212),\n",
       " ('SC1865', 0.88903791188959513),\n",
       " ('IL1818', 0.89306054676057678),\n",
       " ('CT1818', 0.89649579947256319),\n",
       " ('IN%201851', 0.89797969219043938),\n",
       " ('CT1955', 0.93072410895469904),\n",
       " ('test', nan),\n",
       " ('FL1838%20', 0.89895092343319993),\n",
       " ('CT1965', 1.0)]"
      ]
     },
     "execution_count": 243,
     "metadata": {},
     "output_type": "execute_result"
    }
   ],
   "source": [
    "Sims"
   ]
  },
  {
   "cell_type": "code",
   "execution_count": null,
   "metadata": {
    "collapsed": true
   },
   "outputs": [],
   "source": [
    "CT18"
   ]
  }
 ],
 "metadata": {
  "kernelspec": {
   "display_name": "Python 3",
   "language": "python",
   "name": "python3"
  },
  "language_info": {
   "codemirror_mode": {
    "name": "ipython",
    "version": 3
   },
   "file_extension": ".py",
   "mimetype": "text/x-python",
   "name": "python",
   "nbconvert_exporter": "python",
   "pygments_lexer": "ipython3",
   "version": "3.5.1"
  }
 },
 "nbformat": 4,
 "nbformat_minor": 0
}
