{
 "cells": [
  {
   "cell_type": "markdown",
   "metadata": {},
   "source": [
    "# Textual analysis and comparison of constitutions\n",
    "\n",
    "In this notebook, we will start the process of analyzing the constitutions, in addition to developing some means of reading them in. "
   ]
  },
  {
   "cell_type": "code",
   "execution_count": 71,
   "metadata": {
    "collapsed": true
   },
   "outputs": [],
   "source": [
    "import os\n",
    "import re\n",
    "import nltk\n",
    "import collections\n",
    "import numpy as np\n",
    "import pandas as pd\n",
    "import codecs\n",
    "from sklearn import feature_extraction\n",
    "import mpld3\n",
    "\n",
    "from nltk.corpus import stopwords\n",
    "from collections import Counter\n",
    "from math import sqrt\n",
    "\n",
    "%matplotlib inline"
   ]
  },
  {
   "cell_type": "code",
   "execution_count": 2,
   "metadata": {
    "collapsed": false
   },
   "outputs": [],
   "source": [
    "os.chdir(os.getcwd()+'\\\\texts')"
   ]
  },
  {
   "cell_type": "code",
   "execution_count": 3,
   "metadata": {
    "collapsed": true
   },
   "outputs": [],
   "source": [
    "dictionaryFile = open('dictionary.txt').read()\n",
    "dictwords = re.findall('\\w+', dictionaryFile.lower())"
   ]
  },
  {
   "cell_type": "code",
   "execution_count": 4,
   "metadata": {
    "collapsed": true
   },
   "outputs": [],
   "source": [
    "filelist = os.listdir()"
   ]
  },
  {
   "cell_type": "code",
   "execution_count": 5,
   "metadata": {
    "collapsed": false
   },
   "outputs": [
    {
     "data": {
      "text/plain": [
       "'AK1836_final_parts_0.txt'"
      ]
     },
     "execution_count": 5,
     "metadata": {},
     "output_type": "execute_result"
    }
   ],
   "source": [
    "filelist[0]"
   ]
  },
  {
   "cell_type": "markdown",
   "metadata": {},
   "source": [
    "The following is a method to clean up a file and make it into a sequence of words. There are quite possibly better ways to check and see if there are words that are mistakenly strung together. I also create some additional methods for figuring out lexical diversity, and the size of the vocabulary used. "
   ]
  },
  {
   "cell_type": "code",
   "execution_count": 107,
   "metadata": {
    "collapsed": false
   },
   "outputs": [],
   "source": [
    "def Cleaner(filename):\n",
    "    file  = open(filename, encoding='cp1252', errors='ignore').read()\n",
    "    words = re.findall('\\w+', file.lower())\n",
    "\n",
    "    keepers = []\n",
    "    for i in range(0,len(words)):\n",
    "        if words[i] in dictwords:\n",
    "            keepers.append(words[i])\n",
    "        else:\n",
    "            if i < len(words) -2:    \n",
    "                if (words[i] + words[i+1] in dictwords) & (words[i] + words[i+1] != 'bylaw'):\n",
    "                    keepers.append(words[i]+words[i+1]) \n",
    "                    \n",
    "    keepers = [word for word in keepers if word not in stopwords.words('english')]\n",
    "    return nltk.Text(keepers)\n",
    "\n",
    "def Cleaner_list(filename):\n",
    "    file  = open(filename, encoding='cp1252', errors='ignore').read()\n",
    "    words = re.findall('\\w+', file.lower())\n",
    "\n",
    "    keepers = []\n",
    "    for i in range(0,len(words)):\n",
    "        if words[i] in dictwords:\n",
    "            keepers.append(words[i])\n",
    "        else:\n",
    "            if i < len(words) -2:    \n",
    "                if (words[i] + words[i+1] in dictwords) & (words[i] + words[i+1] != 'bylaw'):\n",
    "                    keepers.append(words[i]+words[i+1]) \n",
    "                    \n",
    "    keepers = [word for word in keepers if word not in stopwords.words('english')]\n",
    "    return keepers  \n",
    "\n",
    "def VocabSize(text):\n",
    "    return len(set(text))\n",
    "\n",
    "def LexicalDiversity(text):\n",
    "    return VocabSize(text) / len(text)\n",
    "\n",
    "def LongWords(text, cutl_ength=5, freq=5):\n",
    "    freq_dist = nltk.FreqDist(text)\n",
    "    return sorted(w for w in set(text) if len(w) > 5 and freq_dist[w] > 5 )\n",
    "\n",
    "def CosineSim(u,v):\n",
    "    a=np.array(u)/len(u)\n",
    "    b=np.array(v)/len(v)\n",
    "    return np.dot(a,b) / (sqrt(np.dot(a,a))*sqrt(np.dot(b,b)))\n",
    "\n",
    "def flatten(x):\n",
    "    result = []\n",
    "    for el in x:\n",
    "        if hasattr(el, \"__iter__\") and not isinstance(el, str):\n",
    "            result.extend(flatten(el))\n",
    "        else:\n",
    "            result.append(el)\n",
    "    return result\n"
   ]
  },
  {
   "cell_type": "markdown",
   "metadata": {},
   "source": [
    "# Some preliminary analysis \n",
    "\n",
    "Here, I'm just going to take a look at what is possible before moving on, to try and get a feel for what a raggedy constitution looks like!"
   ]
  },
  {
   "cell_type": "code",
   "execution_count": 7,
   "metadata": {
    "collapsed": false
   },
   "outputs": [],
   "source": [
    "Ark1836 = Cleaner(filelist[0])"
   ]
  },
  {
   "cell_type": "code",
   "execution_count": 12,
   "metadata": {
    "collapsed": false
   },
   "outputs": [],
   "source": [
    "Col1876 = Cleaner(filelist[15])"
   ]
  },
  {
   "cell_type": "code",
   "execution_count": 13,
   "metadata": {
    "collapsed": false
   },
   "outputs": [],
   "source": [
    "fdist1 = nltk.FreqDist(Ark1836)"
   ]
  },
  {
   "cell_type": "code",
   "execution_count": 14,
   "metadata": {
    "collapsed": true
   },
   "outputs": [],
   "source": [
    "fdist2 = nltk.FreqDist(Col1876)"
   ]
  },
  {
   "cell_type": "code",
   "execution_count": 17,
   "metadata": {
    "collapsed": false
   },
   "outputs": [
    {
     "name": "stdout",
     "output_type": "stream",
     "text": [
      "('shall', 395) ('send', 132) ('state', 113) ('one', 82) ('may', 82) ('county', 68) ('general', 68) ('elect', 59) ('assembly', 59) ('law', 48) ('two', 43) ('house', 38) ('office', 38) ('governor', 37) ('time', 36) ('years', 34) ('representatives', 34) ('court', 31) ('elected', 30) ('arkansas', 29) ('power', 28) ('counties', 28) ('states', 27) ('courts', 27) ('united', 25) ('circuit', 23) ('peace', 23) ('representative', 22) ('every', 22) ('election', 20) ('term', 19) ('supreme', 19) ('senator', 19) ('person', 18) ('compose', 17) ('officers', 17) ('respective', 17) ('free', 17) ('houses', 17) ('number', 17) ('senate', 16) ('government', 16) ('manner', 16) ('prescribed', 15) ('constitution', 15) ('judges', 15) ('first', 15) ('cases', 14) ('laws', 14) ('qualified', 14) ****************************************************\n",
      "('shall', 2239) ('state', 884) ('county', 645) ('section', 628) ('general', 502) ('may', 490) ('city', 385) ('november', 358) ('said', 347) ('law', 340) ('governor', 320) ('provided', 319) ('assembly', 313) ('property', 302) ('upon', 301) ('mend', 297) ('board', 288) ('election', 287) ('year', 282) ('district', 279) ('office', 277) ('service', 243) ('one', 242) ('effective', 240) ('court', 215) ('colorado', 208) ('january', 206) ('charter', 205) ('members', 204) ('article', 200) ('tax', 197) ('amended', 193) ('public', 177) ('term', 175) ('fund', 173) ('within', 173) ('except', 173) ('constitution', 172) ('person', 170) ('vote', 164) ('electors', 156) ('provisions', 152) ('proclamation', 152) ('time', 147) ('officers', 145) ('petition', 144) ('thereof', 144) ('years', 141) ('elected', 138) ('authority', 132) "
     ]
    }
   ],
   "source": [
    "for thing in fdist1.most_common(50):\n",
    "    print(thing, end=' ')\n",
    "\n",
    "print('****************************************************')\n",
    "\n",
    "for thing in fdist2.most_common(50):\n",
    "    print(thing, end=' ')"
   ]
  },
  {
   "cell_type": "code",
   "execution_count": 18,
   "metadata": {
    "collapsed": false,
    "scrolled": true
   },
   "outputs": [
    {
     "data": {
      "image/png": "[encoded data removed]",
      "text/plain": [
       "<matplotlib.figure.Figure at 0xa3947f0>"
      ]
     },
     "metadata": {},
     "output_type": "display_data"
    }
   ],
   "source": [
    "fdist1.plot(40)"
   ]
  },
  {
   "cell_type": "code",
   "execution_count": 20,
   "metadata": {
    "collapsed": false
   },
   "outputs": [
    {
     "data": {
      "image/png": "[encoded data removed]",
      "text/plain": [
       "<matplotlib.figure.Figure at 0xe1a4dd8>"
      ]
     },
     "metadata": {},
     "output_type": "display_data"
    }
   ],
   "source": [
    "fdist2.plot(40)"
   ]
  },
  {
   "cell_type": "markdown",
   "metadata": {},
   "source": [
    "Here are some collocations from this document. One possible point of distinguising things might be \"free white\". "
   ]
  },
  {
   "cell_type": "code",
   "execution_count": 21,
   "metadata": {
    "collapsed": false,
    "scrolled": true
   },
   "outputs": [
    {
     "name": "stdout",
     "output_type": "stream",
     "text": [
      "general assembly; united states; elect one; one representative;\n",
      "representative county; shall elect; senator counties; compose one;\n",
      "justices peace; one senator; free white; supreme court; ratified\n",
      "november; white male; house representatives; shall compose; joint\n",
      "vote; two representatives; november mend; representatives county\n"
     ]
    }
   ],
   "source": [
    "Ark1836.collocations()"
   ]
  },
  {
   "cell_type": "code",
   "execution_count": 22,
   "metadata": {
    "collapsed": false
   },
   "outputs": [
    {
     "name": "stdout",
     "output_type": "stream",
     "text": [
      "general assembly; mend section; november effective; proclamation\n",
      "governor; upon proclamation; amended november; city county; united\n",
      "states; home rule; effective upon; supreme court; fiscal year; january\n",
      "mend; limited gaming; registered electors; county denver; valuation\n",
      "assessment; qualified electors; property tax; city town\n"
     ]
    }
   ],
   "source": [
    "Col1876.collocations()"
   ]
  },
  {
   "cell_type": "code",
   "execution_count": 23,
   "metadata": {
    "collapsed": false
   },
   "outputs": [
    {
     "name": "stdout",
     "output_type": "stream",
     "text": [
      "Displaying 12 of 12 matches:\n",
      "es proper purposes address send free white men state shall aright right keep be\n",
      "ouse representatives send every free white male citizen united states shall att\n",
      "all age twenty five years shall free white male citizen shall inhabitant state \n",
      "shall attained age thirty years free white male citizen united states shall sta\n",
      "stricts senate shall based upon free white male inhabitants state equal number \n",
      "t elect one senator counties pulaski white saline shall compose one dis elect o\n",
      "nearly practicable equal number free white male inhabitants county long populat\n",
      "on senate shall fifteen hundred free white senator senators amount twenty five \n",
      " throughout state ratio numbers free white male inhabitants may require without\n",
      "counties state according number free white male inhabitants therein taking five\n",
      "all elect two representatives county white shall elect one representative count\n",
      "d among several counties number free white males county prescribed send amendin\n"
     ]
    }
   ],
   "source": [
    "Ark1836.concordance('white')"
   ]
  },
  {
   "cell_type": "code",
   "execution_count": 25,
   "metadata": {
    "collapsed": false
   },
   "outputs": [
    {
     "name": "stdout",
     "output_type": "stream",
     "text": [
      "No matches\n"
     ]
    }
   ],
   "source": [
    "Col1876.concordance('white')"
   ]
  },
  {
   "cell_type": "code",
   "execution_count": 26,
   "metadata": {
    "collapsed": false
   },
   "outputs": [
    {
     "name": "stdout",
     "output_type": "stream",
     "text": [
      "shall_equal numbers_white upon_white shall_every every_white\n",
      "send_white people_govern thereof_communication preservation_government\n",
      "shall_white liberty_govern property_pursuit hundred_white years_white\n",
      "number_white\n",
      "None\n",
      "send_representative one_districts one_counties white_senators\n",
      "one_senate shall_shall\n",
      "None\n"
     ]
    }
   ],
   "source": [
    "print(Ark1836.common_contexts(['free'], 50))\n",
    "print(Ark1836.common_contexts(['senator'], 50))"
   ]
  },
  {
   "cell_type": "code",
   "execution_count": 28,
   "metadata": {
    "collapsed": false
   },
   "outputs": [
    {
     "name": "stdout",
     "output_type": "stream",
     "text": [
      "legislature_state value_games\n",
      "None\n"
     ]
    }
   ],
   "source": [
    "print(Col1876.common_contexts(['free'], 50))"
   ]
  },
  {
   "cell_type": "markdown",
   "metadata": {},
   "source": [
    "Note the conspicuous presence of \"white male\" and \"free white\"...where do these terms usually occur?"
   ]
  },
  {
   "cell_type": "code",
   "execution_count": 29,
   "metadata": {
    "collapsed": false
   },
   "outputs": [
    {
     "data": {
      "image/png": "[encoded data removed]",
      "text/plain": [
       "<matplotlib.figure.Figure at 0xa462668>"
      ]
     },
     "metadata": {},
     "output_type": "display_data"
    }
   ],
   "source": [
    "Ark1836.dispersion_plot(['united', 'white', 'free', 'county', 'trial', 'slave', 'property'])"
   ]
  },
  {
   "cell_type": "code",
   "execution_count": 30,
   "metadata": {
    "collapsed": false
   },
   "outputs": [
    {
     "data": {
      "image/png": "[encoded data removed]",
      "text/plain": [
       "<matplotlib.figure.Figure at 0xa444278>"
      ]
     },
     "metadata": {},
     "output_type": "display_data"
    }
   ],
   "source": [
    "Col1876.dispersion_plot(['united', 'white', 'free', 'county', 'trial', 'slave', 'property'])"
   ]
  },
  {
   "cell_type": "markdown",
   "metadata": {},
   "source": [
    "# Some preliminary comparisons\n",
    "\n",
    "Let's see if we can get the first say twenty documents and compare them. I'm actually going to do this without really knowing what the files are"
   ]
  },
  {
   "cell_type": "code",
   "execution_count": 31,
   "metadata": {
    "collapsed": false
   },
   "outputs": [
    {
     "name": "stdout",
     "output_type": "stream",
     "text": [
      "AK1836\n",
      "AK1959\n",
      "AL1819\n",
      "AL1861\n",
      "AL1865\n",
      "AL1868\n",
      "AL1875\n",
      "AL1901\n",
      "AL1901\n",
      "AL1901\n",
      "AL1901\n",
      "AR1864\n",
      "AR1868\n",
      "AR1874\n",
      "AZ1912\n",
      "CO1876\n",
      "CO1876\n",
      "CO1876\n",
      "Constitution.npy\n",
      "CT1662\n",
      "CT1818\n",
      "CT1955\n",
      "CT1965\n",
      "DE1776\n",
      "DE1792\n",
      "DE1831\n",
      "DE1897\n",
      "dictionary.txt\n",
      "FL1838%20\n",
      "FL1861\n",
      "FL1865\n",
      "FL1868\n",
      "FL1885\n",
      "FL1968%20\n",
      "Hawaii1959\n",
      "Hawaii1968\n",
      "Hawaii1978\n",
      "IA1846\n",
      "IA1857\n",
      "IA1857\n",
      "ID1890\n",
      "IL1818\n",
      "IL1848\n",
      "IL1870\n",
      "IL1970\n",
      "IN%201816\n",
      "IN%201851\n",
      "KS1859\n",
      "KS1859\n",
      "KY1792\n",
      "KY1799\n",
      "KY1850\n",
      "Ky1890amd\n",
      "KY1890\n",
      "LA1812\n",
      "LA1845\n",
      "LA1852\n",
      "LA1861\n",
      "LA1864\n",
      "LA1868\n",
      "MD1776\n",
      "MD1851\n",
      "MD1864\n",
      "MD1867\n",
      "MD1867\n",
      "MD1867\n",
      "MD1867\n",
      "ME1819\n",
      "ME1819\n",
      "MI1835\n",
      "MI1850\n",
      "MI1850\n",
      "MI1908\n",
      "MI1908\n",
      "MI1908\n",
      "MI1962\n",
      "MI1962\n",
      "MN1857\n",
      "MN1857\n",
      "MN1974\n",
      "MN1974\n",
      "MS1817\n",
      "MS1832\n",
      "MS1832\n",
      "MS1861\n",
      "MS1868\n",
      "MS1890\n",
      "MT1889\n",
      "MT1973\n",
      "NC1776\n",
      "NC1868\n",
      "NC1971\n",
      "ND\n",
      "ND\n",
      "NH1776\n",
      "NH1784\n",
      "NH1792\n",
      "NJ1776\n",
      "NJ1844\n",
      "NJ1947\n",
      "NJ1947\n",
      "NM1911\n",
      "NV1864\n",
      "NV1864\n",
      "NY1777\n",
      "NY1821\n",
      "NY1846\n",
      "NY1894\n",
      "NY1894\n",
      "NY1938\n",
      "NY1938\n",
      "NY1938\n",
      "NY1938\n",
      "NY1938\n",
      "OH1802\n",
      "OH1851\n",
      "OK1907\n",
      "OK1907\n",
      "OK1907\n",
      "OK1907\n",
      "PA1776\n",
      "PA1790\n",
      "PA1839\n",
      "PA1874\n",
      "PA1969\n",
      "RI1843\n",
      "RI1986\n",
      "SC1776\n",
      "SC1778\n",
      "SC1790\n",
      "SC1861\n",
      "SC1865\n",
      "SC1868\n",
      "SC1896\n",
      "SD1889\n",
      "test\n",
      "TX%201866\n",
      "TX%201869\n",
      "TX%201876\n",
      "TX%201876\n",
      "TX1845\n",
      "UT1895\n",
      "wash1889\n",
      "WV1861\n",
      "wv1872\n",
      "WY1889\n",
      "WY1889\n"
     ]
    }
   ],
   "source": [
    "const_dict = {}\n",
    "for item in filelist:\n",
    "    result = re.search('[^_]*', item)\n",
    "    result = result.group(0)\n",
    "    const_dict['{}'.format(result) ] = Cleaner(item)\n",
    "    print(result, end=' ')"
   ]
  },
  {
   "cell_type": "markdown",
   "metadata": {},
   "source": [
    "Since it took so long, we should probably pickle the result:"
   ]
  },
  {
   "cell_type": "code",
   "execution_count": 36,
   "metadata": {
    "collapsed": false
   },
   "outputs": [],
   "source": [
    "np.save('Constitution.npy', const_dict)"
   ]
  },
  {
   "cell_type": "code",
   "execution_count": 37,
   "metadata": {
    "collapsed": false
   },
   "outputs": [],
   "source": [
    "Combined=[]\n",
    "\n",
    "for item in const_dict:\n",
    "    Combined.append(const_dict[item].tokens)\n",
    "\n",
    "# A final block of code is needed so that we aren't left with a list of lists, but instead\n",
    "# have one big list with both sources. \n",
    "Combined = flatten(Combined)"
   ]
  },
  {
   "cell_type": "markdown",
   "metadata": {},
   "source": [
    "We now have a list of all the words that occur in all of the state constitutions over time. So, this functions as a relative point of safety. Let's just take the 5000 most common for the basis for comparison. "
   ]
  },
  {
   "cell_type": "code",
   "execution_count": 38,
   "metadata": {
    "collapsed": false
   },
   "outputs": [],
   "source": [
    "freq = nltk.FreqDist(Combined)\n",
    "CompVec = freq.most_common(1000)\n",
    "CompWords = [item[0] for item in CompVec]"
   ]
  },
  {
   "cell_type": "markdown",
   "metadata": {},
   "source": [
    "Let's compute similarity using this. How would we count the times within which each of these words occurs? "
   ]
  },
  {
   "cell_type": "code",
   "execution_count": 39,
   "metadata": {
    "collapsed": false
   },
   "outputs": [
    {
     "name": "stdout",
     "output_type": "stream",
     "text": [
      "CT1818 0.16367910667058477 1114\n",
      "KY1799 0.2767811378780113 1080\n",
      "LA1861 0.19411320754716982 1286\n",
      "NV1864 0.19396449704142013 1639\n",
      "something wrong\n",
      "FL1885 0.0790602217729584 2581\n",
      "PA1874 0.11276257335600286 2056\n",
      "AL1875 0.21850273889227023 1795\n",
      "PA1776 0.3504812479256555 1056\n",
      "PA1790 0.2898356256289836 864\n",
      "AL1861 0.2542471042471042 1317\n",
      "SC1861 0.19608898457122353 1093\n",
      "TX%201869 0.21206959484122156 1743\n",
      "ND 0.12192836318200749 2342\n",
      "IN%201816 0.2706359945872801 1200\n",
      "RI1986 0.22450239160623361 1455\n",
      "NC1971 0.1637142857142857 1719\n",
      "WY1889 0.19250770416024654 1999\n",
      "PA1969 0.1352000505657038 2139\n",
      "LA1864 0.22938144329896906 1246\n",
      "KY1850 0.21471081947199755 1407\n",
      "IL1970 0.1624548736462094 1575\n",
      "DE1792 0.27770465912082126 1055\n",
      "wv1872 0.09038918063448673 2513\n",
      "MI1835 0.2741728648371377 1069\n",
      "AR1868 0.21493743482794578 1649\n",
      "NH1792 0.13235612679615857 1833\n",
      "MD1851 0.18458028101357032 1537\n",
      "AZ1912 0.07184086247197444 3012\n",
      "MD1867 0.1466687842452156 1847\n",
      "NC1868 0.11520113080864597 1956\n",
      "AL1868 0.25284140584018183 1446\n",
      "AK1836 0.2583580194667795 1221\n",
      "SD1889 0.16081242532855436 2019\n",
      "NJ1844 0.21663619744058502 1185\n",
      "IA1857 0.23183643665571377 1270\n",
      "SC1896 0.049001843983003286 3056\n",
      "ME1819 0.2507052849351138 1333\n",
      "IL1818 0.2881159420289855 994\n",
      "MI1962 0.17898240608654303 1882\n",
      "MT1973 0.2384841992501339 1781\n",
      "SC1778 0.3003264417845484 828\n",
      "LA1852 0.236986301369863 1211\n",
      "WV1861 0.250672887134398 1397\n",
      "NJ1776 0.4514480408858603 530\n",
      "SC1865 0.2718237980123556 1012\n",
      "SC1790 0.1919191919191919 779\n",
      "SC1868 0.22606271777003484 1622\n",
      "MN1857 0.25171582266740866 1357\n",
      "AR1864 0.2529058116232465 1262\n",
      "LA1868 0.18985879332477534 1479\n",
      "ID1890 0.10470775528769616 2302\n",
      "NJ1947 0.20769811320754716 1376\n",
      "PA1839 0.24064171122994651 1080\n",
      "OH1802 0.3021540277367955 1024\n",
      "IL1870 0.1527588813303099 2021\n",
      "Constitution.npy 0.02631578947368421 644\n",
      "AL1901 0.16001925457296107 2327\n",
      "CO1876 0.17360851699663804 1859\n",
      "FL1865 0.2541469194312796 1287\n",
      "OH1851 0.0700713835817762 2670\n",
      "MI1850 0.22205602393255372 1633\n",
      "AR1874 0.08786610878661087 3024\n",
      "TX1845 0.2469366916269571 1451\n",
      "MS1817 0.26662097326936257 1167\n",
      "NM1911 0.09368090721061265 2627\n",
      "AL1819 0.25602104837077516 1265\n",
      "MS1861 0.2597373692410416 1167\n",
      "CT1662 0.3382862803368004 683\n",
      "KY1792 0.2842391304347826 1046\n",
      "FL1838%20 0.22541885259773228 1332\n",
      "Hawaii1959 0.21579358874120408 1380\n",
      "NY1894 0.1696806464024625 1764\n",
      "NY1938 0.1336432306798373 2300\n",
      "CT1955 0.2688968335035751 1053\n",
      "FL1968%20 0.04765045342126958 2601\n",
      "wash1889 0.09839469690919256 2464\n",
      "IL1848 0.19582280164959426 1472\n",
      "FL1868 0.19767441860465115 1768\n",
      "KS1859 0.2691748077322802 1295\n",
      "MS1890 0.11902762430939226 2693\n",
      "MS1868 0.24990964943982652 1383\n",
      "CT1965 0.14844212770998697 1253\n",
      "TX%201876 0.18112352002687043 2157\n",
      "DE1776 0.3216743119266055 561\n",
      "RI1843 0.10234513565000329 1558\n",
      "AK1959 0.1705515587529976 1778\n",
      "MN1974 0.2700133105153071 1420\n",
      "OK1907 0.10391069823194486 2774\n",
      "NC1776 0.2460268317853457 1192\n",
      "UT1895 0.09602649006622517 2291\n",
      "Hawaii1968 0.17969370391378334 1584\n",
      "TX%201866 0.2369418355577525 1438\n",
      "IA1846 0.28840820854132004 1040\n",
      "LA1812 0.2901885586449345 908\n",
      "IN%201851 0.16557095175482958 1637\n",
      "MD1776 0.08353097429086424 1761\n",
      "DE1897 0.09144182639482358 2247\n",
      "DE1831 0.21977611940298508 1178\n",
      "NH1784 0.3021313996923753 1375\n",
      "MT1889 0.13957640684644748 2267\n",
      "SC1776 0.3925925925925926 742\n",
      "MD1864 0.1582836285943203 1778\n",
      "MS1832 0.2684931506849315 1078\n",
      "Hawaii1978 0.18275154004106775 1780\n",
      "KY1890 0.17354267579756139 2078\n",
      "NY1821 0.26359719978459883 979\n",
      "Ky1890amd 0.1869854338188727 1181\n",
      "LA1845 0.22811671087533156 1204\n",
      "FL1861 0.25903369874137233 1276\n",
      "NY1846 0.14646929018021332 1593\n",
      "dictionary.txt 0.9993588609833746 45203\n",
      "AL1865 0.27207582061950997 1177\n",
      "NH1776 0.609375 273\n",
      "NY1777 0.31622641509433963 1257\n",
      "MI1908 0.5983772819472617 295\n"
     ]
    }
   ],
   "source": [
    "vec_dict = {}\n",
    "for item in const_dict:\n",
    "    vec_dict[item] = [const_dict[item].count(word) for word in CompWords]\n",
    "    try: \n",
    "        print(item, LexicalDiversity(const_dict[item]), VocabSize(const_dict[item]) )\n",
    "    except:\n",
    "        print('something wrong')\n"
   ]
  },
  {
   "cell_type": "code",
   "execution_count": 40,
   "metadata": {
    "collapsed": false
   },
   "outputs": [
    {
     "name": "stdout",
     "output_type": "stream",
     "text": [
      "0.924812389705\n",
      "0.848169940297\n",
      "0.914137699041\n",
      "0.867182385888\n",
      "0.895701197003\n",
      "0.895701197003\n"
     ]
    }
   ],
   "source": [
    "print(CosineSim(vec_dict['AL1819'], vec_dict['AL1868']))\n",
    "print(CosineSim(vec_dict['AL1819'], vec_dict['PA1969']))\n",
    "print(CosineSim(vec_dict['KY1799'], vec_dict['AL1868']))\n",
    "print(CosineSim(vec_dict['NJ1947'], vec_dict['AL1868']))\n",
    "print(CosineSim(vec_dict['IL1870'], vec_dict['FL1885']))\n",
    "print(CosineSim(vec_dict['IL1870'], vec_dict['FL1885']))"
   ]
  },
  {
   "cell_type": "code",
   "execution_count": 41,
   "metadata": {
    "collapsed": false
   },
   "outputs": [
    {
     "name": "stderr",
     "output_type": "stream",
     "text": [
      "C:\\Users\\mjbaker\\AppData\\Local\\Continuum\\Anaconda3\\lib\\site-packages\\ipykernel\\__main__.py:30: RuntimeWarning: invalid value encountered in double_scalars\n"
     ]
    }
   ],
   "source": [
    "Sims = []\n",
    "for item in vec_dict:\n",
    "    CS = CosineSim(vec_dict['CT1965'], vec_dict[item])    \n",
    "    Sims.append((item, CS))\n",
    "    \n",
    "Sims.sort(key = lambda x:x[1])"
   ]
  },
  {
   "cell_type": "code",
   "execution_count": 42,
   "metadata": {
    "collapsed": false
   },
   "outputs": [
    {
     "data": {
      "text/plain": [
       "[('Constitution.npy', 0.0093852670014608688),\n",
       " ('dictionary.txt', 0.30025810204093512),\n",
       " ('NH1776', 0.45808414998370645),\n",
       " ('CT1662', 0.47459194248823838),\n",
       " ('MI1908', 0.518633115137622),\n",
       " ('OK1907', 0.58100541288811547),\n",
       " ('SC1776', 0.66140107205624388),\n",
       " ('MD1776', 0.68165352430225468),\n",
       " ('SC1896', 0.71183368382959045),\n",
       " ('SC1861', 0.7124789657263243),\n",
       " ('Hawaii1968', 0.73335409655675132),\n",
       " ('NY1777', 0.73761558888793943),\n",
       " ('AR1874', 0.74403916758052668),\n",
       " ('FL1968%20', 0.7457720742880648),\n",
       " ('FL1885', 0.75734033016815305),\n",
       " ('MT1973', 0.764992517456486),\n",
       " ('NJ1776', 0.76887622175135373),\n",
       " ('MN1974', 0.77876374410144267),\n",
       " ('DE1897', 0.78161021258418761),\n",
       " ('UT1895', 0.78167179188802816),\n",
       " ('SD1889', 0.78910948433560857),\n",
       " ('NY1938', 0.78923691526077655),\n",
       " ('PA1776', 0.78932661400495674),\n",
       " ('Ky1890amd', 0.79031626000822064),\n",
       " ('AK1959', 0.79122039819398227),\n",
       " ('SC1790', 0.79353299882284778),\n",
       " ('wv1872', 0.7965092300760952),\n",
       " ('ID1890', 0.79739668379850148),\n",
       " ('SC1778', 0.79851899572753271),\n",
       " ('AZ1912', 0.79943844709313849),\n",
       " ('NY1894', 0.80111302047002397),\n",
       " ('WV1861', 0.80176052248369689),\n",
       " ('MS1868', 0.80396199352205699),\n",
       " ('TX%201876', 0.80571402205188536),\n",
       " ('ND', 0.80807873603898317),\n",
       " ('RI1843', 0.80867057589404756),\n",
       " ('WY1889', 0.81020888020263959),\n",
       " ('NH1784', 0.81161555821798237),\n",
       " ('MI1850', 0.81185833503674654),\n",
       " ('TX%201869', 0.81244434645547159),\n",
       " ('MD1851', 0.8129576954377784),\n",
       " ('wash1889', 0.81458473886993676),\n",
       " ('NV1864', 0.81597574633204939),\n",
       " ('DE1776', 0.81615310044351219),\n",
       " ('PA1790', 0.8172183810131185),\n",
       " ('PA1874', 0.81906419737282166),\n",
       " ('MS1890', 0.82109213196534725),\n",
       " ('MS1832', 0.82174338410192349),\n",
       " ('LA1845', 0.82197154542833051),\n",
       " ('KS1859', 0.82205265616021383),\n",
       " ('LA1864', 0.82210194781052393),\n",
       " ('TX%201866', 0.8226652087582691),\n",
       " ('ME1819', 0.82303074943985444),\n",
       " ('MN1857', 0.82428079473246296),\n",
       " ('MS1861', 0.82731258353940784),\n",
       " ('TX1845', 0.82815387065327573),\n",
       " ('PA1969', 0.82836248788157474),\n",
       " ('MI1962', 0.82903593233887007),\n",
       " ('FL1868', 0.8291896308675667),\n",
       " ('PA1839', 0.82965529282364703),\n",
       " ('NY1846', 0.82982760797950528),\n",
       " ('MD1867', 0.83011097497689457),\n",
       " ('NM1911', 0.83078740918247163),\n",
       " ('DE1792', 0.83150445090273217),\n",
       " ('NH1792', 0.83158255344139165),\n",
       " ('MT1889', 0.83417990665809083),\n",
       " ('KY1792', 0.83511739562686516),\n",
       " ('LA1812', 0.83578638225469715),\n",
       " ('LA1868', 0.83668888824119469),\n",
       " ('LA1852', 0.83743778026142013),\n",
       " ('AL1901', 0.83909387668995827),\n",
       " ('NY1821', 0.83910640571993811),\n",
       " ('OH1851', 0.84063527531015492),\n",
       " ('Hawaii1959', 0.84273147313227625),\n",
       " ('DE1831', 0.84305051617518167),\n",
       " ('NJ1947', 0.84377438874386768),\n",
       " ('AL1861', 0.84674267166633999),\n",
       " ('IL1848', 0.84964852150602888),\n",
       " ('OH1802', 0.85068627115461182),\n",
       " ('AK1836', 0.85304663659832713),\n",
       " ('LA1861', 0.85390787669449142),\n",
       " ('IA1846', 0.8546500419078682),\n",
       " ('MD1864', 0.85516303490757306),\n",
       " ('NC1776', 0.85556377070812817),\n",
       " ('Hawaii1978', 0.85992170733090889),\n",
       " ('SC1868', 0.86010842762066575),\n",
       " ('AL1865', 0.86136447031270968),\n",
       " ('KY1890', 0.86474208673040576),\n",
       " ('MS1817', 0.86557674357537751),\n",
       " ('KY1850', 0.86775069501509206),\n",
       " ('KY1799', 0.87070787146454454),\n",
       " ('NC1868', 0.87469644978377725),\n",
       " ('FL1861', 0.88033949400686351),\n",
       " ('FL1865', 0.88197950367886579),\n",
       " ('CT1818', 0.89604497795202898),\n",
       " ('test', nan),\n",
       " ('MI1835', 0.83428079331870619),\n",
       " ('AL1868', 0.84905247668533157),\n",
       " ('AR1864', 0.86644020477563755),\n",
       " ('NJ1844', 0.86663705753277009),\n",
       " ('IL1970', 0.86741705114643097),\n",
       " ('CO1876', 0.86927779851032938),\n",
       " ('IL1870', 0.87294437458090413),\n",
       " ('IN%201816', 0.87445292372935424),\n",
       " ('AR1868', 0.87542924489262186),\n",
       " ('NC1971', 0.87571691571043586),\n",
       " ('AL1819', 0.87621127437049673),\n",
       " ('IA1857', 0.87666302598538737),\n",
       " ('AL1875', 0.88011049967565957),\n",
       " ('RI1986', 0.88711726031445981),\n",
       " ('SC1865', 0.89063981544382453),\n",
       " ('IL1818', 0.89317104391329372),\n",
       " ('IN%201851', 0.89737529435561247),\n",
       " ('FL1838%20', 0.8983918936545392),\n",
       " ('CT1955', 0.93030105590453305),\n",
       " ('CT1965', 1.0000000000000002)]"
      ]
     },
     "execution_count": 42,
     "metadata": {},
     "output_type": "execute_result"
    }
   ],
   "source": [
    "Sims"
   ]
  },
  {
   "cell_type": "code",
   "execution_count": 51,
   "metadata": {
    "collapsed": false,
    "scrolled": true
   },
   "outputs": [
    {
     "name": "stdout",
     "output_type": "stream",
     "text": [
      "[nltk_data] Downloading package punkt to\n",
      "[nltk_data]     C:\\Users\\mjbaker\\AppData\\Roaming\\nltk_data...\n",
      "[nltk_data]   Package punkt is already up-to-date!\n",
      "1.0\n",
      "0.709297266606\n",
      "0.0\n"
     ]
    }
   ],
   "source": [
    "import nltk, string\n",
    "from sklearn.feature_extraction.text import TfidfVectorizer\n",
    "\n",
    "nltk.download('punkt') # if necessary...\n",
    "\n",
    "\n",
    "stemmer = nltk.stem.porter.PorterStemmer()\n",
    "remove_punctuation_map = dict((ord(char), None) for char in string.punctuation)\n",
    "\n",
    "def stem_tokens(tokens):\n",
    "    return [stemmer.stem(item) for item in tokens]\n",
    "\n",
    "'''remove punctuation, lowercase, stem'''\n",
    "def normalize(text):\n",
    "    return stem_tokens(nltk.word_tokenize(text.lower().translate(remove_punctuation_map)))\n",
    "\n",
    "vectorizer = TfidfVectorizer(tokenizer=normalize, stop_words='english')\n",
    "\n",
    "def cosine_sim(text1, text2):\n",
    "    tfidf = vectorizer.fit_transform([text1, text2])\n",
    "    return ((tfidf * tfidf.T).A)[0,1]\n",
    "\n",
    "\n",
    "print(cosine_sim('a little bird', 'a little bird'))\n",
    "print(cosine_sim('a little bird', 'a little bird chirps'))\n",
    "print(cosine_sim('a little bird', 'a big dog barks'))"
   ]
  },
  {
   "cell_type": "code",
   "execution_count": 53,
   "metadata": {
    "collapsed": false
   },
   "outputs": [
    {
     "data": {
      "text/plain": [
       "[412,\n",
       " 124,\n",
       " 187,\n",
       " 100,\n",
       " 71,\n",
       " 105,\n",
       " 24,\n",
       " 193,\n",
       " 26,\n",
       " 48,\n",
       " 30,\n",
       " 41,\n",
       " 24,\n",
       " 32,\n",
       " 15,\n",
       " 29,\n",
       " 1,\n",
       " 80,\n",
       " 10,\n",
       " 24,\n",
       " 24,\n",
       " 32,\n",
       " 24,\n",
       " 34,\n",
       " 4,\n",
       " 38,\n",
       " 24,\n",
       " 0,\n",
       " 24,\n",
       " 24,\n",
       " 15,\n",
       " 18,\n",
       " 17,\n",
       " 34,\n",
       " 20,\n",
       " 16,\n",
       " 6,\n",
       " 29,\n",
       " 23,\n",
       " 21,\n",
       " 26,\n",
       " 19,\n",
       " 1,\n",
       " 13,\n",
       " 10,\n",
       " 17,\n",
       " 8,\n",
       " 29,\n",
       " 10,\n",
       " 18,\n",
       " 2,\n",
       " 16,\n",
       " 12,\n",
       " 15,\n",
       " 26,\n",
       " 13,\n",
       " 22,\n",
       " 5,\n",
       " 15,\n",
       " 12,\n",
       " 17,\n",
       " 13,\n",
       " 12,\n",
       " 17,\n",
       " 4,\n",
       " 18,\n",
       " 13,\n",
       " 13,\n",
       " 22,\n",
       " 20,\n",
       " 13,\n",
       " 11,\n",
       " 18,\n",
       " 8,\n",
       " 17,\n",
       " 9,\n",
       " 17,\n",
       " 3,\n",
       " 6,\n",
       " 0,\n",
       " 15,\n",
       " 1,\n",
       " 7,\n",
       " 10,\n",
       " 9,\n",
       " 9,\n",
       " 5,\n",
       " 9,\n",
       " 7,\n",
       " 8,\n",
       " 2,\n",
       " 8,\n",
       " 8,\n",
       " 9,\n",
       " 13,\n",
       " 9,\n",
       " 6,\n",
       " 8,\n",
       " 6,\n",
       " 7,\n",
       " 2,\n",
       " 4,\n",
       " 0,\n",
       " 0,\n",
       " 0,\n",
       " 6,\n",
       " 11,\n",
       " 6,\n",
       " 9,\n",
       " 5,\n",
       " 5,\n",
       " 14,\n",
       " 6,\n",
       " 14,\n",
       " 11,\n",
       " 2,\n",
       " 7,\n",
       " 6,\n",
       " 6,\n",
       " 2,\n",
       " 4,\n",
       " 3,\n",
       " 1,\n",
       " 6,\n",
       " 1,\n",
       " 7,\n",
       " 3,\n",
       " 5,\n",
       " 5,\n",
       " 2,\n",
       " 7,\n",
       " 5,\n",
       " 9,\n",
       " 4,\n",
       " 4,\n",
       " 7,\n",
       " 0,\n",
       " 8,\n",
       " 10,\n",
       " 16,\n",
       " 3,\n",
       " 7,\n",
       " 5,\n",
       " 9,\n",
       " 1,\n",
       " 2,\n",
       " 0,\n",
       " 3,\n",
       " 7,\n",
       " 6,\n",
       " 0,\n",
       " 6,\n",
       " 0,\n",
       " 10,\n",
       " 1,\n",
       " 10,\n",
       " 4,\n",
       " 10,\n",
       " 4,\n",
       " 0,\n",
       " 6,\n",
       " 9,\n",
       " 2,\n",
       " 4,\n",
       " 3,\n",
       " 4,\n",
       " 2,\n",
       " 6,\n",
       " 6,\n",
       " 13,\n",
       " 7,\n",
       " 4,\n",
       " 4,\n",
       " 5,\n",
       " 13,\n",
       " 9,\n",
       " 6,\n",
       " 11,\n",
       " 3,\n",
       " 3,\n",
       " 2,\n",
       " 7,\n",
       " 9,\n",
       " 6,\n",
       " 3,\n",
       " 3,\n",
       " 3,\n",
       " 2,\n",
       " 5,\n",
       " 5,\n",
       " 16,\n",
       " 3,\n",
       " 1,\n",
       " 8,\n",
       " 3,\n",
       " 4,\n",
       " 9,\n",
       " 4,\n",
       " 4,\n",
       " 5,\n",
       " 7,\n",
       " 3,\n",
       " 17,\n",
       " 5,\n",
       " 0,\n",
       " 3,\n",
       " 8,\n",
       " 0,\n",
       " 6,\n",
       " 3,\n",
       " 8,\n",
       " 5,\n",
       " 8,\n",
       " 4,\n",
       " 6,\n",
       " 1,\n",
       " 7,\n",
       " 3,\n",
       " 6,\n",
       " 3,\n",
       " 2,\n",
       " 4,\n",
       " 3,\n",
       " 3,\n",
       " 3,\n",
       " 3,\n",
       " 3,\n",
       " 2,\n",
       " 1,\n",
       " 3,\n",
       " 2,\n",
       " 3,\n",
       " 5,\n",
       " 4,\n",
       " 1,\n",
       " 3,\n",
       " 4,\n",
       " 4,\n",
       " 4,\n",
       " 3,\n",
       " 7,\n",
       " 2,\n",
       " 3,\n",
       " 2,\n",
       " 1,\n",
       " 4,\n",
       " 7,\n",
       " 1,\n",
       " 7,\n",
       " 5,\n",
       " 0,\n",
       " 3,\n",
       " 3,\n",
       " 11,\n",
       " 5,\n",
       " 1,\n",
       " 8,\n",
       " 1,\n",
       " 3,\n",
       " 6,\n",
       " 4,\n",
       " 1,\n",
       " 5,\n",
       " 0,\n",
       " 3,\n",
       " 4,\n",
       " 5,\n",
       " 1,\n",
       " 1,\n",
       " 4,\n",
       " 7,\n",
       " 6,\n",
       " 2,\n",
       " 2,\n",
       " 10,\n",
       " 6,\n",
       " 3,\n",
       " 1,\n",
       " 10,\n",
       " 3,\n",
       " 5,\n",
       " 5,\n",
       " 0,\n",
       " 6,\n",
       " 0,\n",
       " 3,\n",
       " 1,\n",
       " 7,\n",
       " 0,\n",
       " 8,\n",
       " 0,\n",
       " 7,\n",
       " 3,\n",
       " 0,\n",
       " 1,\n",
       " 0,\n",
       " 6,\n",
       " 0,\n",
       " 0,\n",
       " 4,\n",
       " 1,\n",
       " 1,\n",
       " 6,\n",
       " 1,\n",
       " 1,\n",
       " 1,\n",
       " 1,\n",
       " 4,\n",
       " 1,\n",
       " 4,\n",
       " 2,\n",
       " 12,\n",
       " 5,\n",
       " 2,\n",
       " 4,\n",
       " 8,\n",
       " 2,\n",
       " 1,\n",
       " 2,\n",
       " 1,\n",
       " 3,\n",
       " 1,\n",
       " 1,\n",
       " 3,\n",
       " 0,\n",
       " 3,\n",
       " 2,\n",
       " 0,\n",
       " 0,\n",
       " 3,\n",
       " 0,\n",
       " 1,\n",
       " 7,\n",
       " 1,\n",
       " 0,\n",
       " 3,\n",
       " 1,\n",
       " 0,\n",
       " 8,\n",
       " 2,\n",
       " 3,\n",
       " 0,\n",
       " 3,\n",
       " 6,\n",
       " 1,\n",
       " 5,\n",
       " 2,\n",
       " 3,\n",
       " 9,\n",
       " 2,\n",
       " 1,\n",
       " 7,\n",
       " 0,\n",
       " 4,\n",
       " 2,\n",
       " 1,\n",
       " 0,\n",
       " 2,\n",
       " 3,\n",
       " 2,\n",
       " 2,\n",
       " 0,\n",
       " 7,\n",
       " 4,\n",
       " 4,\n",
       " 5,\n",
       " 1,\n",
       " 2,\n",
       " 1,\n",
       " 5,\n",
       " 0,\n",
       " 1,\n",
       " 3,\n",
       " 0,\n",
       " 1,\n",
       " 9,\n",
       " 7,\n",
       " 1,\n",
       " 5,\n",
       " 6,\n",
       " 3,\n",
       " 2,\n",
       " 2,\n",
       " 3,\n",
       " 2,\n",
       " 1,\n",
       " 2,\n",
       " 6,\n",
       " 2,\n",
       " 1,\n",
       " 2,\n",
       " 5,\n",
       " 0,\n",
       " 2,\n",
       " 2,\n",
       " 2,\n",
       " 3,\n",
       " 1,\n",
       " 0,\n",
       " 0,\n",
       " 1,\n",
       " 1,\n",
       " 0,\n",
       " 1,\n",
       " 8,\n",
       " 4,\n",
       " 4,\n",
       " 1,\n",
       " 0,\n",
       " 9,\n",
       " 0,\n",
       " 0,\n",
       " 0,\n",
       " 1,\n",
       " 1,\n",
       " 6,\n",
       " 3,\n",
       " 2,\n",
       " 0,\n",
       " 0,\n",
       " 4,\n",
       " 3,\n",
       " 0,\n",
       " 2,\n",
       " 5,\n",
       " 2,\n",
       " 9,\n",
       " 5,\n",
       " 2,\n",
       " 3,\n",
       " 0,\n",
       " 5,\n",
       " 1,\n",
       " 4,\n",
       " 0,\n",
       " 6,\n",
       " 3,\n",
       " 0,\n",
       " 2,\n",
       " 1,\n",
       " 2,\n",
       " 3,\n",
       " 4,\n",
       " 0,\n",
       " 3,\n",
       " 0,\n",
       " 2,\n",
       " 0,\n",
       " 1,\n",
       " 1,\n",
       " 2,\n",
       " 5,\n",
       " 0,\n",
       " 0,\n",
       " 3,\n",
       " 0,\n",
       " 1,\n",
       " 4,\n",
       " 1,\n",
       " 0,\n",
       " 1,\n",
       " 3,\n",
       " 0,\n",
       " 1,\n",
       " 0,\n",
       " 2,\n",
       " 3,\n",
       " 1,\n",
       " 3,\n",
       " 1,\n",
       " 1,\n",
       " 2,\n",
       " 0,\n",
       " 4,\n",
       " 3,\n",
       " 3,\n",
       " 3,\n",
       " 10,\n",
       " 0,\n",
       " 1,\n",
       " 5,\n",
       " 4,\n",
       " 1,\n",
       " 4,\n",
       " 5,\n",
       " 1,\n",
       " 4,\n",
       " 2,\n",
       " 2,\n",
       " 2,\n",
       " 4,\n",
       " 3,\n",
       " 3,\n",
       " 3,\n",
       " 3,\n",
       " 0,\n",
       " 0,\n",
       " 0,\n",
       " 0,\n",
       " 0,\n",
       " 2,\n",
       " 0,\n",
       " 2,\n",
       " 2,\n",
       " 6,\n",
       " 2,\n",
       " 0,\n",
       " 2,\n",
       " 2,\n",
       " 5,\n",
       " 6,\n",
       " 4,\n",
       " 0,\n",
       " 0,\n",
       " 1,\n",
       " 0,\n",
       " 5,\n",
       " 0,\n",
       " 3,\n",
       " 3,\n",
       " 0,\n",
       " 1,\n",
       " 2,\n",
       " 9,\n",
       " 4,\n",
       " 0,\n",
       " 1,\n",
       " 2,\n",
       " 4,\n",
       " 0,\n",
       " 0,\n",
       " 5,\n",
       " 2,\n",
       " 8,\n",
       " 5,\n",
       " 7,\n",
       " 5,\n",
       " 1,\n",
       " 4,\n",
       " 0,\n",
       " 3,\n",
       " 3,\n",
       " 0,\n",
       " 4,\n",
       " 2,\n",
       " 5,\n",
       " 2,\n",
       " 2,\n",
       " 6,\n",
       " 1,\n",
       " 2,\n",
       " 1,\n",
       " 4,\n",
       " 0,\n",
       " 0,\n",
       " 0,\n",
       " 1,\n",
       " 3,\n",
       " 0,\n",
       " 1,\n",
       " 3,\n",
       " 0,\n",
       " 1,\n",
       " 4,\n",
       " 1,\n",
       " 3,\n",
       " 4,\n",
       " 0,\n",
       " 2,\n",
       " 1,\n",
       " 3,\n",
       " 0,\n",
       " 0,\n",
       " 3,\n",
       " 1,\n",
       " 2,\n",
       " 0,\n",
       " 2,\n",
       " 5,\n",
       " 1,\n",
       " 0,\n",
       " 1,\n",
       " 3,\n",
       " 0,\n",
       " 1,\n",
       " 2,\n",
       " 0,\n",
       " 1,\n",
       " 2,\n",
       " 0,\n",
       " 4,\n",
       " 3,\n",
       " 1,\n",
       " 0,\n",
       " 1,\n",
       " 4,\n",
       " 2,\n",
       " 2,\n",
       " 3,\n",
       " 4,\n",
       " 0,\n",
       " 0,\n",
       " 5,\n",
       " 0,\n",
       " 0,\n",
       " 0,\n",
       " 0,\n",
       " 0,\n",
       " 2,\n",
       " 2,\n",
       " 1,\n",
       " 4,\n",
       " 3,\n",
       " 3,\n",
       " 4,\n",
       " 2,\n",
       " 1,\n",
       " 2,\n",
       " 0,\n",
       " 1,\n",
       " 0,\n",
       " 3,\n",
       " 2,\n",
       " 0,\n",
       " 0,\n",
       " 4,\n",
       " 1,\n",
       " 1,\n",
       " 3,\n",
       " 1,\n",
       " 2,\n",
       " 0,\n",
       " 2,\n",
       " 3,\n",
       " 2,\n",
       " 0,\n",
       " 1,\n",
       " 1,\n",
       " 0,\n",
       " 0,\n",
       " 2,\n",
       " 1,\n",
       " 1,\n",
       " 2,\n",
       " 3,\n",
       " 0,\n",
       " 7,\n",
       " 2,\n",
       " 4,\n",
       " 0,\n",
       " 2,\n",
       " 3,\n",
       " 4,\n",
       " 3,\n",
       " 1,\n",
       " 3,\n",
       " 1,\n",
       " 1,\n",
       " 2,\n",
       " 6,\n",
       " 0,\n",
       " 2,\n",
       " 0,\n",
       " 1,\n",
       " 1,\n",
       " 2,\n",
       " 0,\n",
       " 3,\n",
       " 0,\n",
       " 2,\n",
       " 0,\n",
       " 1,\n",
       " 3,\n",
       " 0,\n",
       " 3,\n",
       " 0,\n",
       " 2,\n",
       " 3,\n",
       " 2,\n",
       " 2,\n",
       " 0,\n",
       " 10,\n",
       " 0,\n",
       " 0,\n",
       " 1,\n",
       " 0,\n",
       " 1,\n",
       " 1,\n",
       " 1,\n",
       " 0,\n",
       " 1,\n",
       " 0,\n",
       " 1,\n",
       " 0,\n",
       " 1,\n",
       " 4,\n",
       " 1,\n",
       " 1,\n",
       " 2,\n",
       " 1,\n",
       " 0,\n",
       " 2,\n",
       " 3,\n",
       " 1,\n",
       " 0,\n",
       " 0,\n",
       " 0,\n",
       " 0,\n",
       " 0,\n",
       " 0,\n",
       " 0,\n",
       " 2,\n",
       " 0,\n",
       " 1,\n",
       " 0,\n",
       " 0,\n",
       " 2,\n",
       " 0,\n",
       " 3,\n",
       " 0,\n",
       " 0,\n",
       " 1,\n",
       " 0,\n",
       " 1,\n",
       " 0,\n",
       " 0,\n",
       " 3,\n",
       " 7,\n",
       " 1,\n",
       " 0,\n",
       " 0,\n",
       " 1,\n",
       " 0,\n",
       " 1,\n",
       " 2,\n",
       " 5,\n",
       " 2,\n",
       " 0,\n",
       " 0,\n",
       " 2,\n",
       " 0,\n",
       " 2,\n",
       " 3,\n",
       " 1,\n",
       " 0,\n",
       " 2,\n",
       " 1,\n",
       " 8,\n",
       " 0,\n",
       " 1,\n",
       " 2,\n",
       " 1,\n",
       " 0,\n",
       " 4,\n",
       " 3,\n",
       " 0,\n",
       " 0,\n",
       " 4,\n",
       " 0,\n",
       " 2,\n",
       " 2,\n",
       " 0,\n",
       " 4,\n",
       " 1,\n",
       " 3,\n",
       " 0,\n",
       " 0,\n",
       " 0,\n",
       " 1,\n",
       " 3,\n",
       " 0,\n",
       " 1,\n",
       " 0,\n",
       " 4,\n",
       " 5,\n",
       " 1,\n",
       " 0,\n",
       " 4,\n",
       " 1,\n",
       " 1,\n",
       " 1,\n",
       " 0,\n",
       " 1,\n",
       " 0,\n",
       " 1,\n",
       " 0,\n",
       " 2,\n",
       " 2,\n",
       " 1,\n",
       " 0,\n",
       " 2,\n",
       " 0,\n",
       " 1,\n",
       " 1,\n",
       " 3,\n",
       " 2,\n",
       " 0,\n",
       " 0,\n",
       " 0,\n",
       " 0,\n",
       " 4,\n",
       " 9,\n",
       " 0,\n",
       " 0,\n",
       " 2,\n",
       " 2,\n",
       " 1,\n",
       " 2,\n",
       " 0,\n",
       " 2,\n",
       " 0,\n",
       " 2,\n",
       " 0,\n",
       " 2,\n",
       " 0,\n",
       " 3,\n",
       " 3,\n",
       " 3,\n",
       " 2,\n",
       " 0,\n",
       " 0,\n",
       " 0,\n",
       " 1,\n",
       " 2,\n",
       " 0,\n",
       " 1,\n",
       " 1,\n",
       " 2,\n",
       " 2,\n",
       " 2,\n",
       " 0,\n",
       " 0,\n",
       " 0,\n",
       " 1,\n",
       " 0,\n",
       " 0,\n",
       " 0,\n",
       " 1,\n",
       " 0,\n",
       " 0,\n",
       " 1,\n",
       " 0,\n",
       " 1,\n",
       " 0,\n",
       " 3,\n",
       " 4,\n",
       " 0,\n",
       " 2,\n",
       " 0,\n",
       " 0,\n",
       " 2,\n",
       " 0,\n",
       " 3,\n",
       " 2,\n",
       " 1,\n",
       " 1,\n",
       " 3,\n",
       " 2,\n",
       " 0,\n",
       " 1,\n",
       " 2,\n",
       " 0,\n",
       " 0,\n",
       " 0,\n",
       " 0,\n",
       " 1,\n",
       " 1,\n",
       " 1,\n",
       " 1,\n",
       " 0,\n",
       " 0,\n",
       " 1,\n",
       " 1,\n",
       " 0,\n",
       " 0,\n",
       " 3,\n",
       " 2,\n",
       " 2,\n",
       " 3,\n",
       " 1,\n",
       " 1,\n",
       " 1,\n",
       " 0,\n",
       " 0,\n",
       " 0,\n",
       " 1,\n",
       " 1,\n",
       " 3,\n",
       " 0,\n",
       " 0,\n",
       " 0,\n",
       " 0,\n",
       " 0,\n",
       " 1,\n",
       " 2,\n",
       " 1,\n",
       " 1,\n",
       " 0,\n",
       " 3,\n",
       " 1,\n",
       " 4,\n",
       " 2,\n",
       " 0,\n",
       " 0,\n",
       " 0,\n",
       " 2,\n",
       " 0,\n",
       " 0,\n",
       " 0,\n",
       " 3,\n",
       " 1,\n",
       " 0,\n",
       " 3,\n",
       " 2,\n",
       " 0,\n",
       " 0,\n",
       " 0,\n",
       " 1,\n",
       " 0,\n",
       " 0,\n",
       " 1,\n",
       " 0,\n",
       " 0,\n",
       " 4,\n",
       " 1,\n",
       " 0,\n",
       " 0,\n",
       " 0,\n",
       " 1,\n",
       " 0,\n",
       " 2,\n",
       " 0,\n",
       " 0,\n",
       " 3,\n",
       " 1,\n",
       " 0,\n",
       " 0,\n",
       " 0,\n",
       " 1,\n",
       " 0,\n",
       " 0,\n",
       " 1,\n",
       " 0,\n",
       " 0,\n",
       " 1,\n",
       " 0,\n",
       " 0,\n",
       " 0,\n",
       " 0,\n",
       " 1,\n",
       " 2,\n",
       " 0,\n",
       " 1,\n",
       " 1,\n",
       " 0,\n",
       " 3,\n",
       " 0,\n",
       " 0,\n",
       " 0,\n",
       " 0,\n",
       " 2,\n",
       " 0,\n",
       " 2,\n",
       " 1,\n",
       " 2,\n",
       " 0,\n",
       " 1,\n",
       " 2,\n",
       " 0,\n",
       " 0,\n",
       " 0,\n",
       " 2,\n",
       " 1,\n",
       " 5,\n",
       " 0,\n",
       " 0,\n",
       " 0,\n",
       " 0,\n",
       " 1,\n",
       " 0,\n",
       " 0,\n",
       " 1,\n",
       " 0,\n",
       " 0,\n",
       " 1,\n",
       " 0,\n",
       " 0,\n",
       " 1,\n",
       " 0,\n",
       " 0,\n",
       " 0,\n",
       " 0,\n",
       " 1,\n",
       " 1,\n",
       " 3,\n",
       " 0,\n",
       " 2,\n",
       " 0,\n",
       " 3,\n",
       " 0]"
      ]
     },
     "execution_count": 53,
     "metadata": {},
     "output_type": "execute_result"
    }
   ],
   "source": [
    "vec_dict['AL1868']"
   ]
  },
  {
   "cell_type": "code",
   "execution_count": 66,
   "metadata": {
    "collapsed": false
   },
   "outputs": [
    {
     "name": "stdout",
     "output_type": "stream",
     "text": [
      "general assembly; united states; elect one; one representative;\n",
      "representative county; shall elect; senator counties; compose one;\n",
      "justices peace; one senator; free white; supreme court; ratified\n",
      "november; white male; house representatives; shall compose; joint\n",
      "vote; two representatives; november mend; representatives county\n"
     ]
    }
   ],
   "source": [
    "const_dict['AK1836'].collocations()"
   ]
  },
  {
   "cell_type": "code",
   "execution_count": 70,
   "metadata": {
    "collapsed": false
   },
   "outputs": [
    {
     "name": "stdout",
     "output_type": "stream",
     "text": [
      "heirs successors; deputy governor; said company; person persons; power\n",
      "authority; governor deputy; full power; new england; think fit;\n",
      "authority administer; john winthrop; realm england; thomas wells;\n",
      "colony connecticut; said colony; certain knowledge; grace certain;\n",
      "nathan gold; second thursday; john mason\n"
     ]
    }
   ],
   "source": [
    "def tokenize_and_stem(text):\n",
    "    # first tokenize by sentence, then by word to ensure that punctuation is caught as it's own token\n",
    "    tokens = [word for sent in nltk.sent_tokenize(text) for word in nltk.word_tokenize(sent)]\n",
    "    filtered_tokens = []\n",
    "    # filter out any tokens not containing letters (e.g., numeric tokens, raw punctuation)\n",
    "    for token in tokens:\n",
    "        if re.search('[a-zA-Z]', token):\n",
    "            filtered_tokens.append(token)\n",
    "    stems = [stemmer.stem(t) for t in filtered_tokens]\n",
    "    return stems\n",
    "\n",
    "\n",
    "def tokenize_only(text):\n",
    "    # first tokenize by sentence, then by word to ensure that punctuation is caught as it's own token\n",
    "    tokens = [word.lower() for sent in nltk.sent_tokenize(text) for word in nltk.word_tokenize(sent)]\n",
    "    filtered_tokens = []\n",
    "    # filter out any tokens not containing letters (e.g., numeric tokens, raw punctuation)\n",
    "    for token in tokens:\n",
    "        if re.search('[a-zA-Z]', token):\n",
    "            filtered_tokens.append(token)\n",
    "    return filtered_tokens.collocations()"
   ]
  },
  {
   "cell_type": "code",
   "execution_count": 69,
   "metadata": {
    "collapsed": false
   },
   "outputs": [
    {
     "name": "stdout",
     "output_type": "stream",
     "text": [
      "AK1836 AK1959 AL1819 AL1861 AL1865 AL1868 AL1875 AL1901 AR1864 AR1868 AR1874 AZ1912 CO1876 CT1662 CT1818 CT1955 CT1965 Constitution.npy DE1776 DE1792 DE1831 DE1897 FL1838%20 FL1861 FL1865 FL1868 FL1885 FL1968%20 Hawaii1959 Hawaii1968 Hawaii1978 IA1846 IA1857 ID1890 IL1818 IL1848 IL1870 IL1970 IN%201816 IN%201851 KS1859 KY1792 KY1799 KY1850 KY1890 Ky1890amd LA1812 LA1845 LA1852 LA1861 LA1864 LA1868 MD1776 MD1851 MD1864 MD1867 ME1819 MI1835 MI1850 MI1908 MI1962 MN1857 MN1974 MS1817 MS1832 MS1861 MS1868 MS1890 MT1889 MT1973 NC1776 NC1868 NC1971 ND NH1776 NH1784 NH1792 NJ1776 NJ1844 NJ1947 NM1911 NV1864 NY1777 NY1821 NY1846 NY1894 NY1938 OH1802 OH1851 OK1907 PA1776 PA1790 PA1839 PA1874 PA1969 RI1843 RI1986 SC1776 SC1778 SC1790 SC1861 SC1865 SC1868 SC1896 SD1889 TX%201866 TX%201869 TX%201876 TX1845 UT1895 WV1861 WY1889 dictionary.txt test wash1889 wv1872 "
     ]
    }
   ],
   "source": [
    "for item in sorted(set(vec_dict)):\n",
    "    print(item, end=' ')"
   ]
  },
  {
   "cell_type": "markdown",
   "metadata": {},
   "source": [
    "# Experimentation\n",
    "\n",
    "This is some code that comes from [this website](http://brandonrose.org/clustering). "
   ]
  },
  {
   "cell_type": "code",
   "execution_count": 72,
   "metadata": {
    "collapsed": true
   },
   "outputs": [],
   "source": [
    "from nltk.stem.snowball import SnowballStemmer"
   ]
  },
  {
   "cell_type": "code",
   "execution_count": 73,
   "metadata": {
    "collapsed": true
   },
   "outputs": [],
   "source": [
    "stemmer = SnowballStemmer(\"english\")"
   ]
  },
  {
   "cell_type": "code",
   "execution_count": 74,
   "metadata": {
    "collapsed": false
   },
   "outputs": [
    {
     "data": {
      "text/plain": [
       "<nltk.stem.snowball.SnowballStemmer at 0x16286710>"
      ]
     },
     "execution_count": 74,
     "metadata": {},
     "output_type": "execute_result"
    }
   ],
   "source": [
    "stemmer"
   ]
  },
  {
   "cell_type": "code",
   "execution_count": 77,
   "metadata": {
    "collapsed": true
   },
   "outputs": [],
   "source": [
    "def tokenize_and_stem(text):\n",
    "    # first tokenize by sentence, then by word to ensure that punctuation is caught as it's own token\n",
    "    tokens = [word for sent in nltk.sent_tokenize(text) for word in nltk.word_tokenize(sent)]\n",
    "    filtered_tokens = []\n",
    "    # filter out any tokens not containing letters (e.g., numeric tokens, raw punctuation)\n",
    "    for token in tokens:\n",
    "        if re.search('[a-zA-Z]', token):\n",
    "            filtered_tokens.append(token)\n",
    "    stems = [stemmer.stem(t) for t in filtered_tokens]\n",
    "    return stems\n",
    "\n",
    "\n",
    "def tokenize_only(text):\n",
    "    # first tokenize by sentence, then by word to ensure that punctuation is caught as it's own token\n",
    "    tokens = [word.lower() for sent in nltk.sent_tokenize(text) for word in nltk.word_tokenize(sent)]\n",
    "    filtered_tokens = []\n",
    "    # filter out any tokens not containing letters (e.g., numeric tokens, raw punctuation)\n",
    "    for token in tokens:\n",
    "        if re.search('[a-zA-Z]', token):\n",
    "            filtered_tokens.append(token)\n",
    "    return filtered_tokens"
   ]
  },
  {
   "cell_type": "code",
   "execution_count": 79,
   "metadata": {
    "collapsed": false
   },
   "outputs": [
    {
     "ename": "AttributeError",
     "evalue": "'Text' object has no attribute 'text'",
     "output_type": "error",
     "traceback": [
      "\u001b[0;31m---------------------------------------------------------------------------\u001b[0m",
      "\u001b[0;31mAttributeError\u001b[0m                            Traceback (most recent call last)",
      "\u001b[0;32m<ipython-input-79-94c6a2fbb9fa>\u001b[0m in \u001b[0;36m<module>\u001b[0;34m()\u001b[0m\n\u001b[0;32m----> 1\u001b[0;31m \u001b[0mstem\u001b[0m \u001b[1;33m=\u001b[0m \u001b[0mtokenize_and_stem\u001b[0m\u001b[1;33m(\u001b[0m\u001b[0mconst_dict\u001b[0m\u001b[1;33m[\u001b[0m\u001b[1;34m'AK1836'\u001b[0m\u001b[1;33m]\u001b[0m\u001b[1;33m.\u001b[0m\u001b[0mtext\u001b[0m\u001b[1;33m)\u001b[0m\u001b[1;33m\u001b[0m\u001b[0m\n\u001b[0m",
      "\u001b[0;31mAttributeError\u001b[0m: 'Text' object has no attribute 'text'"
     ]
    }
   ],
   "source": [
    "stem = tokenize_and_stem(const_dict['AK1836'])"
   ]
  },
  {
   "cell_type": "code",
   "execution_count": 111,
   "metadata": {
    "collapsed": false
   },
   "outputs": [
    {
     "data": {
      "text/plain": [
       "nltk.text.Text"
      ]
     },
     "execution_count": 111,
     "metadata": {},
     "output_type": "execute_result"
    }
   ],
   "source": [
    "type(const_dict['AL1819'])"
   ]
  },
  {
   "cell_type": "code",
   "execution_count": 241,
   "metadata": {
    "collapsed": false
   },
   "outputs": [],
   "source": [
    "AL1819 = open('AL1819_final_parts_0.txt', encoding='latin-1', errors='ignore').read()\n",
    "AL1861 = open('AL1861_final_parts_0.txt', encoding='latin-1', errors='ignore').read()\n",
    "AL1865 = open('AL1865_final_parts_0.txt', encoding='latin-1', errors='ignore').read()\n",
    "AL1875 = open('AL1875_final_parts_0.txt', encoding='latin-1', errors='ignore').read()\n",
    "AL1901 = open('AL1901_final_parts_0.txt', encoding='latin_1', errors='ignore').read()\n",
    "AR1864 = open('AR1864_final_parts_0.txt', encoding='latin-1', errors='ignore').read()\n",
    "AR1868 = open('AR1868_final_parts_0.txt', encoding='latin-1', errors='ignore').read()\n",
    "AR1874 = open('AR1874_final_parts_0.txt', encoding='latin-1', errors='ignore').read()\n",
    "AZ1912 = open('AZ1912_final_parts_0.txt', encoding='latin-1', errors='ignore').read()\n",
    "CO1876 = open('CO1876_final_parts_0.txt', encoding='latin_1', errors='ignore').read()\n",
    "CT1662 = open('CT1662_final_parts_0.txt', encoding='latin_1', errors='ignore').read()\n",
    "CT1818 = open('CT1818_final_parts_0.txt', encoding='latin-1', errors='ignore').read()\n",
    "CT1955 = open('CT1955_final_parts_0.txt', encoding='latin-1', errors='ignore').read()\n",
    "CT1965 = open('CT1965_final_parts_0.txt', encoding='latin-1', errors='ignore').read() \n",
    "DE1776 = open('DE1776_final_parts_0.txt', encoding='latin-1', errors='ignore').read()\n",
    "DE1792 = open('DE1792_final_parts_0.txt', encoding='latin-1', errors='ignore').read()\n",
    "DE1831 = open('DE1831_final_parts_0.txt', encoding='latin-1', errors='ignore').read() \n",
    "DE1897 = open('DE1897_final_parts_0.txt', encoding='latin-1', errors='ignore').read() \n",
    "FL1838 = open('FL1838%20_final_parts_0.txt', encoding='latin-1', errors='ignore').read()\n",
    "FL1861 = open('FL1861_final_parts_0.txt', encoding='latin_1', errors='ignore').read()\n",
    "FL1865 = open('FL1865_final_parts_0.txt', encoding='latin_1', errors='ignore').read()\n",
    "FL1868 = open('FL1868_final_parts_0.txt', encoding='latin_1', errors='ignore').read()\n",
    "FL1885 = open('FL1885_final_parts_0.txt', encoding='latin_1', errors='ignore').read()\n",
    "FL1968 = open('FL1968%20_final_parts_0.txt', encoding='latin_1', errors='ignore').read()\n",
    "AK1959 = open('AK1959_final_parts_0.txt', encoding='latin_1', errors='ignore').read()\n",
    "HI1959 = open('Hawaii1959_final_parts_0.txt', encoding='latin_1', errors='ignore').read()\n",
    "HI1968 = open('Hawaii1968_final_parts_0.txt', encoding='latin_1', errors='ignore').read()\n",
    "HI1978 = open('Hawaii1978_final_parts_0.txt', encoding='latin_1', errors='ignore').read()\n",
    "IA1846 = open('IA1846_final_parts_0.txt', encoding='latin_1', errors='ignore').read()\n",
    "IA1857 = open('IA1857_final_parts_0.txt', encoding='latin_1', errors='ignore').read()\n",
    "ID1890 = open('ID1890_final_parts_0.txt', encoding='latin_1', errors='ignore').read()\n",
    "IL1818 = open('IL1818_final_parts_0.txt', encoding='latin_1', errors='ignore').read()\n",
    "IL1848 = open('IL1848_final_parts_0.txt', encoding='latin_1', errors='ignore').read()\n",
    "IL1870 = open('IL1870_final_parts_0.txt', encoding='latin_1', errors='ignore').read()\n",
    "IL1970 = open('IL1970_final_parts_0.txt', encoding='latin_1', errors='ignore').read()"
   ]
  },
  {
   "cell_type": "code",
   "execution_count": 242,
   "metadata": {
    "collapsed": false
   },
   "outputs": [],
   "source": [
    "tokenlist = [AL1819, AL1861, AL1865, AL1875, AL1901, AR1864, AR1874,\n",
    "             AR1868, AZ1912, CO1876, CT1662, CT1818, CT1955, CT1965, \n",
    "             DE1776, DE1792, DE1831, DE1897, FL1838, FL1861, FL1865, FL1868, FL1885, \n",
    "             FL1968, AK1959, HI1959, HI1968, HI1978, IA1846, IA1857,\n",
    "             ID1890, IL1818, IL1848, IL1870, IL1970]\n",
    "tokennames = ['AL1819', 'AL1861', 'AL1865', 'AL1875', 'AL1901', 'AR1864',\n",
    "              'AR1868', 'AR1874', 'AZ1912', 'CO1876', 'CT1662', 'CT1818', 'CT1955',\n",
    "              'CT1965', 'DE1776', 'DE1792', 'DE1831', 'DE1897', 'FL1838', 'FL1861', \n",
    "              'FL1865', 'FL1868', 'FL1885', 'FL1968', 'AK1959', 'HI1959', 'HI1968', 'HI1978',\n",
    "              'IA1846', 'IA1857', 'ID1890', 'IL1818', 'IL1848', 'IL1870', 'IL1970']"
   ]
  },
  {
   "cell_type": "code",
   "execution_count": 243,
   "metadata": {
    "collapsed": true
   },
   "outputs": [],
   "source": [
    "tfidf_vectorizer = TfidfVectorizer(max_df=0.8, max_features=200000,\n",
    "                                 min_df=0.2, stop_words='english',\n",
    "                                 use_idf=True, tokenizer=tokenize_and_stem, ngram_range=(1,3))"
   ]
  },
  {
   "cell_type": "code",
   "execution_count": 244,
   "metadata": {
    "collapsed": false
   },
   "outputs": [],
   "source": [
    "tfidf_matrix = tfidf_vectorizer.fit_transform(tokenlist)"
   ]
  },
  {
   "cell_type": "code",
   "execution_count": 245,
   "metadata": {
    "collapsed": false
   },
   "outputs": [
    {
     "name": "stdout",
     "output_type": "stream",
     "text": [
      "(35, 8904)\n"
     ]
    }
   ],
   "source": [
    "print(tfidf_matrix.shape)"
   ]
  },
  {
   "cell_type": "code",
   "execution_count": 246,
   "metadata": {
    "collapsed": false
   },
   "outputs": [
    {
     "data": {
      "text/plain": [
       "<35x8904 sparse matrix of type '<class 'numpy.float64'>'\n",
       "\twith 111267 stored elements in Compressed Sparse Row format>"
      ]
     },
     "execution_count": 246,
     "metadata": {},
     "output_type": "execute_result"
    }
   ],
   "source": [
    "tfidf_matrix"
   ]
  },
  {
   "cell_type": "markdown",
   "metadata": {},
   "source": [
    "Not sure what this gets us...doesn't seem like it gets us too much!"
   ]
  },
  {
   "cell_type": "code",
   "execution_count": 247,
   "metadata": {
    "collapsed": false
   },
   "outputs": [
    {
     "data": {
      "text/plain": [
       "(35, 35)"
      ]
     },
     "execution_count": 247,
     "metadata": {},
     "output_type": "execute_result"
    }
   ],
   "source": [
    "from sklearn.metrics.pairwise import cosine_similarity\n",
    "dist = 1 - cosine_similarity(tfidf_matrix)\n",
    "np.shape(dist)"
   ]
  },
  {
   "cell_type": "markdown",
   "metadata": {},
   "source": [
    "# K-means clustering"
   ]
  },
  {
   "cell_type": "code",
   "execution_count": 257,
   "metadata": {
    "collapsed": true
   },
   "outputs": [],
   "source": [
    "from sklearn.cluster import KMeans\n",
    "\n",
    "num_clusters = 6\n",
    "\n",
    "km = KMeans(n_clusters=num_clusters)\n",
    "km.fit(tfidf_matrix)\n",
    "\n",
    "clusters = km.labels_.tolist()"
   ]
  },
  {
   "cell_type": "code",
   "execution_count": 258,
   "metadata": {
    "collapsed": false
   },
   "outputs": [],
   "source": [
    "Data = pd.DataFrame(list(zip(clusters, tokennames)), columns=['clusters', 'names'])"
   ]
  },
  {
   "cell_type": "code",
   "execution_count": 259,
   "metadata": {
    "collapsed": false
   },
   "outputs": [],
   "source": [
    "clusters = set(Data['clusters'])"
   ]
  },
  {
   "cell_type": "code",
   "execution_count": 260,
   "metadata": {
    "collapsed": false
   },
   "outputs": [
    {
     "name": "stdout",
     "output_type": "stream",
     "text": [
      "Cluster  0\n",
      "AL1819 AL1875 AR1864 AR1874 CO1876 CT1818 CT1955 CT1965 FL1838 FL1861 FL1865 IA1857 IL1818 IL1848  \n",
      "Cluster  1\n",
      "AL1901 AR1868 AZ1912 DE1897 FL1868 FL1885 FL1968 AK1959 ID1890  \n",
      "Cluster  2\n",
      "HI1959 HI1968 HI1978  \n",
      "Cluster  3\n",
      "AL1861 AL1865 CT1662 IA1846  \n",
      "Cluster  4\n",
      "DE1776 DE1792 DE1831  \n",
      "Cluster  5\n",
      "IL1870 IL1970  \n"
     ]
    }
   ],
   "source": [
    "for cluster in clusters:\n",
    "    Slice = Data['names'].loc[Data['clusters'] == cluster]\n",
    "    print('Cluster ',cluster)\n",
    "    for name in list(Slice):\n",
    "        print(name, end= ' ')\n",
    "    print(' ')"
   ]
  },
  {
   "cell_type": "markdown",
   "metadata": {},
   "source": [
    "# Hierarchical Clustering"
   ]
  },
  {
   "cell_type": "code",
   "execution_count": 261,
   "metadata": {
    "collapsed": false
   },
   "outputs": [
    {
     "data": {
      "image/png": "[encoded data removed]",
      "text/plain": [
       "<matplotlib.figure.Figure at 0x1b10b828>"
      ]
     },
     "metadata": {},
     "output_type": "display_data"
    }
   ],
   "source": [
    "from scipy.cluster.hierarchy import ward, dendrogram\n",
    "import matplotlib.pyplot as plt\n",
    "\n",
    "linkage_matrix = ward(dist) #define the linkage_matrix using ward clustering pre-computed distances\n",
    "\n",
    "fig, ax = plt.subplots(figsize=(15, 20)) # set size\n",
    "ax = dendrogram(linkage_matrix, orientation=\"right\", labels=tokennames);\n",
    "\n",
    "plt.tick_params(\\\n",
    "    axis= 'x',          # changes apply to the x-axis\n",
    "    which='both',      # both major and minor ticks are affected\n",
    "    bottom='off',      # ticks along the bottom edge are off\n",
    "    top='off',         # ticks along the top edge are off\n",
    "    labelbottom='off')\n",
    "\n",
    "plt.tight_layout() #show plot with tight layout\n",
    "\n",
    "#uncomment below to save figure\n",
    "plt.savefig('ward_clusters.png', dpi=200) #save figure as ward_clusters"
   ]
  },
  {
   "cell_type": "code",
   "execution_count": null,
   "metadata": {
    "collapsed": true
   },
   "outputs": [],
   "source": []
  }
 ],
 "metadata": {
  "kernelspec": {
   "display_name": "Python 3",
   "language": "python",
   "name": "python3"
  },
  "language_info": {
   "codemirror_mode": {
    "name": "ipython",
    "version": 3
   },
   "file_extension": ".py",
   "mimetype": "text/x-python",
   "name": "python",
   "nbconvert_exporter": "python",
   "pygments_lexer": "ipython3",
   "version": "3.4.5"
  }
 },
 "nbformat": 4,
 "nbformat_minor": 0
}
